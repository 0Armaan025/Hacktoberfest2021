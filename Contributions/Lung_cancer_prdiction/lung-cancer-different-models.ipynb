{
 "cells": [
  {
   "cell_type": "markdown",
   "source": [
    "# **Getting Started** \n",
    "\n",
    "**Title : Lung Cancer Prediction**\n",
    "  \n",
    "  **Lung Cancer Status :**\n",
    "\n",
    "  0 -- > Yes \n",
    "\n",
    "  1 -- > NO\n"
   ],
   "metadata": {
    "papermill": {
     "duration": 0.061424,
     "end_time": "2021-10-02T11:31:11.027444",
     "exception": false,
     "start_time": "2021-10-02T11:31:10.966020",
     "status": "completed"
    },
    "tags": []
   }
  },
  {
   "cell_type": "markdown",
   "source": [
    "### **DataFraming**\n",
    "\n",
    "**Read .csv file into pandas**"
   ],
   "metadata": {
    "papermill": {
     "duration": 0.069029,
     "end_time": "2021-10-02T11:31:11.164974",
     "exception": false,
     "start_time": "2021-10-02T11:31:11.095945",
     "status": "completed"
    },
    "tags": []
   }
  },
  {
   "cell_type": "code",
   "execution_count": 2,
   "source": [
    "data  = pd.read_csv('survey lung cancer.csv')\r\n",
    "data.head()"
   ],
   "outputs": [
    {
     "output_type": "execute_result",
     "data": {
      "text/html": [
       "<div>\n",
       "<style scoped>\n",
       "    .dataframe tbody tr th:only-of-type {\n",
       "        vertical-align: middle;\n",
       "    }\n",
       "\n",
       "    .dataframe tbody tr th {\n",
       "        vertical-align: top;\n",
       "    }\n",
       "\n",
       "    .dataframe thead th {\n",
       "        text-align: right;\n",
       "    }\n",
       "</style>\n",
       "<table border=\"1\" class=\"dataframe\">\n",
       "  <thead>\n",
       "    <tr style=\"text-align: right;\">\n",
       "      <th></th>\n",
       "      <th>GENDER</th>\n",
       "      <th>AGE</th>\n",
       "      <th>SMOKING</th>\n",
       "      <th>YELLOW_FINGERS</th>\n",
       "      <th>ANXIETY</th>\n",
       "      <th>PEER_PRESSURE</th>\n",
       "      <th>CHRONIC DISEASE</th>\n",
       "      <th>FATIGUE</th>\n",
       "      <th>ALLERGY</th>\n",
       "      <th>WHEEZING</th>\n",
       "      <th>ALCOHOL CONSUMING</th>\n",
       "      <th>COUGHING</th>\n",
       "      <th>SHORTNESS OF BREATH</th>\n",
       "      <th>SWALLOWING DIFFICULTY</th>\n",
       "      <th>CHEST PAIN</th>\n",
       "      <th>LUNG_CANCER</th>\n",
       "    </tr>\n",
       "  </thead>\n",
       "  <tbody>\n",
       "    <tr>\n",
       "      <th>0</th>\n",
       "      <td>M</td>\n",
       "      <td>69</td>\n",
       "      <td>1</td>\n",
       "      <td>2</td>\n",
       "      <td>2</td>\n",
       "      <td>1</td>\n",
       "      <td>1</td>\n",
       "      <td>2</td>\n",
       "      <td>1</td>\n",
       "      <td>2</td>\n",
       "      <td>2</td>\n",
       "      <td>2</td>\n",
       "      <td>2</td>\n",
       "      <td>2</td>\n",
       "      <td>2</td>\n",
       "      <td>YES</td>\n",
       "    </tr>\n",
       "    <tr>\n",
       "      <th>1</th>\n",
       "      <td>M</td>\n",
       "      <td>74</td>\n",
       "      <td>2</td>\n",
       "      <td>1</td>\n",
       "      <td>1</td>\n",
       "      <td>1</td>\n",
       "      <td>2</td>\n",
       "      <td>2</td>\n",
       "      <td>2</td>\n",
       "      <td>1</td>\n",
       "      <td>1</td>\n",
       "      <td>1</td>\n",
       "      <td>2</td>\n",
       "      <td>2</td>\n",
       "      <td>2</td>\n",
       "      <td>YES</td>\n",
       "    </tr>\n",
       "    <tr>\n",
       "      <th>2</th>\n",
       "      <td>F</td>\n",
       "      <td>59</td>\n",
       "      <td>1</td>\n",
       "      <td>1</td>\n",
       "      <td>1</td>\n",
       "      <td>2</td>\n",
       "      <td>1</td>\n",
       "      <td>2</td>\n",
       "      <td>1</td>\n",
       "      <td>2</td>\n",
       "      <td>1</td>\n",
       "      <td>2</td>\n",
       "      <td>2</td>\n",
       "      <td>1</td>\n",
       "      <td>2</td>\n",
       "      <td>NO</td>\n",
       "    </tr>\n",
       "    <tr>\n",
       "      <th>3</th>\n",
       "      <td>M</td>\n",
       "      <td>63</td>\n",
       "      <td>2</td>\n",
       "      <td>2</td>\n",
       "      <td>2</td>\n",
       "      <td>1</td>\n",
       "      <td>1</td>\n",
       "      <td>1</td>\n",
       "      <td>1</td>\n",
       "      <td>1</td>\n",
       "      <td>2</td>\n",
       "      <td>1</td>\n",
       "      <td>1</td>\n",
       "      <td>2</td>\n",
       "      <td>2</td>\n",
       "      <td>NO</td>\n",
       "    </tr>\n",
       "    <tr>\n",
       "      <th>4</th>\n",
       "      <td>F</td>\n",
       "      <td>63</td>\n",
       "      <td>1</td>\n",
       "      <td>2</td>\n",
       "      <td>1</td>\n",
       "      <td>1</td>\n",
       "      <td>1</td>\n",
       "      <td>1</td>\n",
       "      <td>1</td>\n",
       "      <td>2</td>\n",
       "      <td>1</td>\n",
       "      <td>2</td>\n",
       "      <td>2</td>\n",
       "      <td>1</td>\n",
       "      <td>1</td>\n",
       "      <td>NO</td>\n",
       "    </tr>\n",
       "  </tbody>\n",
       "</table>\n",
       "</div>"
      ],
      "text/plain": [
       "  GENDER  AGE  SMOKING  YELLOW_FINGERS  ANXIETY  PEER_PRESSURE  \\\n",
       "0      M   69        1               2        2              1   \n",
       "1      M   74        2               1        1              1   \n",
       "2      F   59        1               1        1              2   \n",
       "3      M   63        2               2        2              1   \n",
       "4      F   63        1               2        1              1   \n",
       "\n",
       "   CHRONIC DISEASE  FATIGUE   ALLERGY   WHEEZING  ALCOHOL CONSUMING  COUGHING  \\\n",
       "0                1         2         1         2                  2         2   \n",
       "1                2         2         2         1                  1         1   \n",
       "2                1         2         1         2                  1         2   \n",
       "3                1         1         1         1                  2         1   \n",
       "4                1         1         1         2                  1         2   \n",
       "\n",
       "   SHORTNESS OF BREATH  SWALLOWING DIFFICULTY  CHEST PAIN LUNG_CANCER  \n",
       "0                    2                      2           2         YES  \n",
       "1                    2                      2           2         YES  \n",
       "2                    2                      1           2          NO  \n",
       "3                    1                      2           2          NO  \n",
       "4                    2                      1           1          NO  "
      ]
     },
     "metadata": {},
     "execution_count": 2
    }
   ],
   "metadata": {
    "execution": {
     "iopub.execute_input": "2021-10-02T11:31:11.295106Z",
     "iopub.status.busy": "2021-10-02T11:31:11.294401Z",
     "iopub.status.idle": "2021-10-02T11:31:11.327146Z",
     "shell.execute_reply": "2021-10-02T11:31:11.327659Z",
     "shell.execute_reply.started": "2021-10-02T11:29:06.473569Z"
    },
    "papermill": {
     "duration": 0.099575,
     "end_time": "2021-10-02T11:31:11.327845",
     "exception": false,
     "start_time": "2021-10-02T11:31:11.228270",
     "status": "completed"
    },
    "tags": []
   }
  },
  {
   "cell_type": "markdown",
   "source": [
    "## **Exploratory data analysis**"
   ],
   "metadata": {
    "papermill": {
     "duration": 0.070397,
     "end_time": "2021-10-02T11:31:11.472150",
     "exception": false,
     "start_time": "2021-10-02T11:31:11.401753",
     "status": "completed"
    },
    "tags": []
   }
  },
  {
   "cell_type": "code",
   "execution_count": 3,
   "source": [
    "#Shape of data \r\n",
    "print(data.shape)\r\n",
    "#dtypes of data \r\n",
    "print(data.dtypes)"
   ],
   "outputs": [
    {
     "output_type": "stream",
     "name": "stdout",
     "text": [
      "(309, 16)\n",
      "GENDER                   object\n",
      "AGE                       int64\n",
      "SMOKING                   int64\n",
      "YELLOW_FINGERS            int64\n",
      "ANXIETY                   int64\n",
      "PEER_PRESSURE             int64\n",
      "CHRONIC DISEASE           int64\n",
      "FATIGUE                   int64\n",
      "ALLERGY                   int64\n",
      "WHEEZING                  int64\n",
      "ALCOHOL CONSUMING         int64\n",
      "COUGHING                  int64\n",
      "SHORTNESS OF BREATH       int64\n",
      "SWALLOWING DIFFICULTY     int64\n",
      "CHEST PAIN                int64\n",
      "LUNG_CANCER              object\n",
      "dtype: object\n"
     ]
    }
   ],
   "metadata": {
    "execution": {
     "iopub.execute_input": "2021-10-02T11:31:11.603547Z",
     "iopub.status.busy": "2021-10-02T11:31:11.602851Z",
     "iopub.status.idle": "2021-10-02T11:31:11.609250Z",
     "shell.execute_reply": "2021-10-02T11:31:11.608636Z",
     "shell.execute_reply.started": "2021-10-02T11:29:06.500283Z"
    },
    "papermill": {
     "duration": 0.071973,
     "end_time": "2021-10-02T11:31:11.609402",
     "exception": false,
     "start_time": "2021-10-02T11:31:11.537429",
     "status": "completed"
    },
    "tags": []
   }
  },
  {
   "cell_type": "code",
   "execution_count": 4,
   "source": [
    "# Info of data\n",
    "data.info()"
   ],
   "outputs": [
    {
     "output_type": "stream",
     "name": "stdout",
     "text": [
      "<class 'pandas.core.frame.DataFrame'>\n",
      "RangeIndex: 309 entries, 0 to 308\n",
      "Data columns (total 16 columns):\n",
      " #   Column                 Non-Null Count  Dtype \n",
      "---  ------                 --------------  ----- \n",
      " 0   GENDER                 309 non-null    object\n",
      " 1   AGE                    309 non-null    int64 \n",
      " 2   SMOKING                309 non-null    int64 \n",
      " 3   YELLOW_FINGERS         309 non-null    int64 \n",
      " 4   ANXIETY                309 non-null    int64 \n",
      " 5   PEER_PRESSURE          309 non-null    int64 \n",
      " 6   CHRONIC DISEASE        309 non-null    int64 \n",
      " 7   FATIGUE                309 non-null    int64 \n",
      " 8   ALLERGY                309 non-null    int64 \n",
      " 9   WHEEZING               309 non-null    int64 \n",
      " 10  ALCOHOL CONSUMING      309 non-null    int64 \n",
      " 11  COUGHING               309 non-null    int64 \n",
      " 12  SHORTNESS OF BREATH    309 non-null    int64 \n",
      " 13  SWALLOWING DIFFICULTY  309 non-null    int64 \n",
      " 14  CHEST PAIN             309 non-null    int64 \n",
      " 15  LUNG_CANCER            309 non-null    object\n",
      "dtypes: int64(14), object(2)\n",
      "memory usage: 38.8+ KB\n"
     ]
    }
   ],
   "metadata": {
    "execution": {
     "iopub.execute_input": "2021-10-02T11:31:11.763365Z",
     "iopub.status.busy": "2021-10-02T11:31:11.754982Z",
     "iopub.status.idle": "2021-10-02T11:31:11.768671Z",
     "shell.execute_reply": "2021-10-02T11:31:11.768062Z",
     "shell.execute_reply.started": "2021-10-02T11:29:06.507768Z"
    },
    "papermill": {
     "duration": 0.094191,
     "end_time": "2021-10-02T11:31:11.768819",
     "exception": false,
     "start_time": "2021-10-02T11:31:11.674628",
     "status": "completed"
    },
    "tags": []
   }
  },
  {
   "cell_type": "code",
   "execution_count": 5,
   "source": [
    "# Checking for null values\n",
    "data.isnull().sum()"
   ],
   "outputs": [
    {
     "output_type": "execute_result",
     "data": {
      "text/plain": [
       "GENDER                   0\n",
       "AGE                      0\n",
       "SMOKING                  0\n",
       "YELLOW_FINGERS           0\n",
       "ANXIETY                  0\n",
       "PEER_PRESSURE            0\n",
       "CHRONIC DISEASE          0\n",
       "FATIGUE                  0\n",
       "ALLERGY                  0\n",
       "WHEEZING                 0\n",
       "ALCOHOL CONSUMING        0\n",
       "COUGHING                 0\n",
       "SHORTNESS OF BREATH      0\n",
       "SWALLOWING DIFFICULTY    0\n",
       "CHEST PAIN               0\n",
       "LUNG_CANCER              0\n",
       "dtype: int64"
      ]
     },
     "metadata": {},
     "execution_count": 5
    }
   ],
   "metadata": {
    "execution": {
     "iopub.execute_input": "2021-10-02T11:31:11.905505Z",
     "iopub.status.busy": "2021-10-02T11:31:11.904872Z",
     "iopub.status.idle": "2021-10-02T11:31:11.907346Z",
     "shell.execute_reply": "2021-10-02T11:31:11.907820Z",
     "shell.execute_reply.started": "2021-10-02T11:29:06.526219Z"
    },
    "papermill": {
     "duration": 0.072553,
     "end_time": "2021-10-02T11:31:11.908018",
     "exception": false,
     "start_time": "2021-10-02T11:31:11.835465",
     "status": "completed"
    },
    "tags": []
   }
  },
  {
   "cell_type": "markdown",
   "source": [
    "# **Transformation**"
   ],
   "metadata": {
    "papermill": {
     "duration": 0.063232,
     "end_time": "2021-10-02T11:31:12.034710",
     "exception": false,
     "start_time": "2021-10-02T11:31:11.971478",
     "status": "completed"
    },
    "tags": []
   }
  },
  {
   "cell_type": "code",
   "execution_count": 6,
   "source": [
    "# label encoding\n",
    "data.replace({\"LUNG_CANCER\":{'YES':0,'NO':1}},inplace=True)\n",
    "# printing the first 5 rows of the dataframe\n",
    "data.head(5)"
   ],
   "outputs": [
    {
     "output_type": "execute_result",
     "data": {
      "text/html": [
       "<div>\n",
       "<style scoped>\n",
       "    .dataframe tbody tr th:only-of-type {\n",
       "        vertical-align: middle;\n",
       "    }\n",
       "\n",
       "    .dataframe tbody tr th {\n",
       "        vertical-align: top;\n",
       "    }\n",
       "\n",
       "    .dataframe thead th {\n",
       "        text-align: right;\n",
       "    }\n",
       "</style>\n",
       "<table border=\"1\" class=\"dataframe\">\n",
       "  <thead>\n",
       "    <tr style=\"text-align: right;\">\n",
       "      <th></th>\n",
       "      <th>GENDER</th>\n",
       "      <th>AGE</th>\n",
       "      <th>SMOKING</th>\n",
       "      <th>YELLOW_FINGERS</th>\n",
       "      <th>ANXIETY</th>\n",
       "      <th>PEER_PRESSURE</th>\n",
       "      <th>CHRONIC DISEASE</th>\n",
       "      <th>FATIGUE</th>\n",
       "      <th>ALLERGY</th>\n",
       "      <th>WHEEZING</th>\n",
       "      <th>ALCOHOL CONSUMING</th>\n",
       "      <th>COUGHING</th>\n",
       "      <th>SHORTNESS OF BREATH</th>\n",
       "      <th>SWALLOWING DIFFICULTY</th>\n",
       "      <th>CHEST PAIN</th>\n",
       "      <th>LUNG_CANCER</th>\n",
       "    </tr>\n",
       "  </thead>\n",
       "  <tbody>\n",
       "    <tr>\n",
       "      <th>0</th>\n",
       "      <td>M</td>\n",
       "      <td>69</td>\n",
       "      <td>1</td>\n",
       "      <td>2</td>\n",
       "      <td>2</td>\n",
       "      <td>1</td>\n",
       "      <td>1</td>\n",
       "      <td>2</td>\n",
       "      <td>1</td>\n",
       "      <td>2</td>\n",
       "      <td>2</td>\n",
       "      <td>2</td>\n",
       "      <td>2</td>\n",
       "      <td>2</td>\n",
       "      <td>2</td>\n",
       "      <td>0</td>\n",
       "    </tr>\n",
       "    <tr>\n",
       "      <th>1</th>\n",
       "      <td>M</td>\n",
       "      <td>74</td>\n",
       "      <td>2</td>\n",
       "      <td>1</td>\n",
       "      <td>1</td>\n",
       "      <td>1</td>\n",
       "      <td>2</td>\n",
       "      <td>2</td>\n",
       "      <td>2</td>\n",
       "      <td>1</td>\n",
       "      <td>1</td>\n",
       "      <td>1</td>\n",
       "      <td>2</td>\n",
       "      <td>2</td>\n",
       "      <td>2</td>\n",
       "      <td>0</td>\n",
       "    </tr>\n",
       "    <tr>\n",
       "      <th>2</th>\n",
       "      <td>F</td>\n",
       "      <td>59</td>\n",
       "      <td>1</td>\n",
       "      <td>1</td>\n",
       "      <td>1</td>\n",
       "      <td>2</td>\n",
       "      <td>1</td>\n",
       "      <td>2</td>\n",
       "      <td>1</td>\n",
       "      <td>2</td>\n",
       "      <td>1</td>\n",
       "      <td>2</td>\n",
       "      <td>2</td>\n",
       "      <td>1</td>\n",
       "      <td>2</td>\n",
       "      <td>1</td>\n",
       "    </tr>\n",
       "    <tr>\n",
       "      <th>3</th>\n",
       "      <td>M</td>\n",
       "      <td>63</td>\n",
       "      <td>2</td>\n",
       "      <td>2</td>\n",
       "      <td>2</td>\n",
       "      <td>1</td>\n",
       "      <td>1</td>\n",
       "      <td>1</td>\n",
       "      <td>1</td>\n",
       "      <td>1</td>\n",
       "      <td>2</td>\n",
       "      <td>1</td>\n",
       "      <td>1</td>\n",
       "      <td>2</td>\n",
       "      <td>2</td>\n",
       "      <td>1</td>\n",
       "    </tr>\n",
       "    <tr>\n",
       "      <th>4</th>\n",
       "      <td>F</td>\n",
       "      <td>63</td>\n",
       "      <td>1</td>\n",
       "      <td>2</td>\n",
       "      <td>1</td>\n",
       "      <td>1</td>\n",
       "      <td>1</td>\n",
       "      <td>1</td>\n",
       "      <td>1</td>\n",
       "      <td>2</td>\n",
       "      <td>1</td>\n",
       "      <td>2</td>\n",
       "      <td>2</td>\n",
       "      <td>1</td>\n",
       "      <td>1</td>\n",
       "      <td>1</td>\n",
       "    </tr>\n",
       "  </tbody>\n",
       "</table>\n",
       "</div>"
      ],
      "text/plain": [
       "  GENDER  AGE  SMOKING  YELLOW_FINGERS  ANXIETY  PEER_PRESSURE  \\\n",
       "0      M   69        1               2        2              1   \n",
       "1      M   74        2               1        1              1   \n",
       "2      F   59        1               1        1              2   \n",
       "3      M   63        2               2        2              1   \n",
       "4      F   63        1               2        1              1   \n",
       "\n",
       "   CHRONIC DISEASE  FATIGUE   ALLERGY   WHEEZING  ALCOHOL CONSUMING  COUGHING  \\\n",
       "0                1         2         1         2                  2         2   \n",
       "1                2         2         2         1                  1         1   \n",
       "2                1         2         1         2                  1         2   \n",
       "3                1         1         1         1                  2         1   \n",
       "4                1         1         1         2                  1         2   \n",
       "\n",
       "   SHORTNESS OF BREATH  SWALLOWING DIFFICULTY  CHEST PAIN  LUNG_CANCER  \n",
       "0                    2                      2           2            0  \n",
       "1                    2                      2           2            0  \n",
       "2                    2                      1           2            1  \n",
       "3                    1                      2           2            1  \n",
       "4                    2                      1           1            1  "
      ]
     },
     "metadata": {},
     "execution_count": 6
    }
   ],
   "metadata": {
    "execution": {
     "iopub.execute_input": "2021-10-02T11:31:12.168227Z",
     "iopub.status.busy": "2021-10-02T11:31:12.167574Z",
     "iopub.status.idle": "2021-10-02T11:31:12.182709Z",
     "shell.execute_reply": "2021-10-02T11:31:12.183248Z",
     "shell.execute_reply.started": "2021-10-02T11:29:06.541410Z"
    },
    "papermill": {
     "duration": 0.08226,
     "end_time": "2021-10-02T11:31:12.183417",
     "exception": false,
     "start_time": "2021-10-02T11:31:12.101157",
     "status": "completed"
    },
    "tags": []
   }
  },
  {
   "cell_type": "code",
   "execution_count": 7,
   "source": [
    "# Value_counts of loan_status\n",
    "data['LUNG_CANCER'].value_counts()"
   ],
   "outputs": [
    {
     "output_type": "execute_result",
     "data": {
      "text/plain": [
       "0    270\n",
       "1     39\n",
       "Name: LUNG_CANCER, dtype: int64"
      ]
     },
     "metadata": {},
     "execution_count": 7
    }
   ],
   "metadata": {
    "execution": {
     "iopub.execute_input": "2021-10-02T11:31:12.315487Z",
     "iopub.status.busy": "2021-10-02T11:31:12.314839Z",
     "iopub.status.idle": "2021-10-02T11:31:12.321554Z",
     "shell.execute_reply": "2021-10-02T11:31:12.321045Z",
     "shell.execute_reply.started": "2021-10-02T11:29:06.564905Z"
    },
    "papermill": {
     "duration": 0.074691,
     "end_time": "2021-10-02T11:31:12.321686",
     "exception": false,
     "start_time": "2021-10-02T11:31:12.246995",
     "status": "completed"
    },
    "tags": []
   }
  },
  {
   "cell_type": "code",
   "execution_count": 8,
   "source": [
    "# label encoding\n",
    "data.replace({\"GENDER\":{'M':0,'F':1}},inplace=True)\n",
    "# printing the first 5 rows of the dataframe\n",
    "data.head(5)"
   ],
   "outputs": [
    {
     "output_type": "execute_result",
     "data": {
      "text/html": [
       "<div>\n",
       "<style scoped>\n",
       "    .dataframe tbody tr th:only-of-type {\n",
       "        vertical-align: middle;\n",
       "    }\n",
       "\n",
       "    .dataframe tbody tr th {\n",
       "        vertical-align: top;\n",
       "    }\n",
       "\n",
       "    .dataframe thead th {\n",
       "        text-align: right;\n",
       "    }\n",
       "</style>\n",
       "<table border=\"1\" class=\"dataframe\">\n",
       "  <thead>\n",
       "    <tr style=\"text-align: right;\">\n",
       "      <th></th>\n",
       "      <th>GENDER</th>\n",
       "      <th>AGE</th>\n",
       "      <th>SMOKING</th>\n",
       "      <th>YELLOW_FINGERS</th>\n",
       "      <th>ANXIETY</th>\n",
       "      <th>PEER_PRESSURE</th>\n",
       "      <th>CHRONIC DISEASE</th>\n",
       "      <th>FATIGUE</th>\n",
       "      <th>ALLERGY</th>\n",
       "      <th>WHEEZING</th>\n",
       "      <th>ALCOHOL CONSUMING</th>\n",
       "      <th>COUGHING</th>\n",
       "      <th>SHORTNESS OF BREATH</th>\n",
       "      <th>SWALLOWING DIFFICULTY</th>\n",
       "      <th>CHEST PAIN</th>\n",
       "      <th>LUNG_CANCER</th>\n",
       "    </tr>\n",
       "  </thead>\n",
       "  <tbody>\n",
       "    <tr>\n",
       "      <th>0</th>\n",
       "      <td>0</td>\n",
       "      <td>69</td>\n",
       "      <td>1</td>\n",
       "      <td>2</td>\n",
       "      <td>2</td>\n",
       "      <td>1</td>\n",
       "      <td>1</td>\n",
       "      <td>2</td>\n",
       "      <td>1</td>\n",
       "      <td>2</td>\n",
       "      <td>2</td>\n",
       "      <td>2</td>\n",
       "      <td>2</td>\n",
       "      <td>2</td>\n",
       "      <td>2</td>\n",
       "      <td>0</td>\n",
       "    </tr>\n",
       "    <tr>\n",
       "      <th>1</th>\n",
       "      <td>0</td>\n",
       "      <td>74</td>\n",
       "      <td>2</td>\n",
       "      <td>1</td>\n",
       "      <td>1</td>\n",
       "      <td>1</td>\n",
       "      <td>2</td>\n",
       "      <td>2</td>\n",
       "      <td>2</td>\n",
       "      <td>1</td>\n",
       "      <td>1</td>\n",
       "      <td>1</td>\n",
       "      <td>2</td>\n",
       "      <td>2</td>\n",
       "      <td>2</td>\n",
       "      <td>0</td>\n",
       "    </tr>\n",
       "    <tr>\n",
       "      <th>2</th>\n",
       "      <td>1</td>\n",
       "      <td>59</td>\n",
       "      <td>1</td>\n",
       "      <td>1</td>\n",
       "      <td>1</td>\n",
       "      <td>2</td>\n",
       "      <td>1</td>\n",
       "      <td>2</td>\n",
       "      <td>1</td>\n",
       "      <td>2</td>\n",
       "      <td>1</td>\n",
       "      <td>2</td>\n",
       "      <td>2</td>\n",
       "      <td>1</td>\n",
       "      <td>2</td>\n",
       "      <td>1</td>\n",
       "    </tr>\n",
       "    <tr>\n",
       "      <th>3</th>\n",
       "      <td>0</td>\n",
       "      <td>63</td>\n",
       "      <td>2</td>\n",
       "      <td>2</td>\n",
       "      <td>2</td>\n",
       "      <td>1</td>\n",
       "      <td>1</td>\n",
       "      <td>1</td>\n",
       "      <td>1</td>\n",
       "      <td>1</td>\n",
       "      <td>2</td>\n",
       "      <td>1</td>\n",
       "      <td>1</td>\n",
       "      <td>2</td>\n",
       "      <td>2</td>\n",
       "      <td>1</td>\n",
       "    </tr>\n",
       "    <tr>\n",
       "      <th>4</th>\n",
       "      <td>1</td>\n",
       "      <td>63</td>\n",
       "      <td>1</td>\n",
       "      <td>2</td>\n",
       "      <td>1</td>\n",
       "      <td>1</td>\n",
       "      <td>1</td>\n",
       "      <td>1</td>\n",
       "      <td>1</td>\n",
       "      <td>2</td>\n",
       "      <td>1</td>\n",
       "      <td>2</td>\n",
       "      <td>2</td>\n",
       "      <td>1</td>\n",
       "      <td>1</td>\n",
       "      <td>1</td>\n",
       "    </tr>\n",
       "  </tbody>\n",
       "</table>\n",
       "</div>"
      ],
      "text/plain": [
       "   GENDER  AGE  SMOKING  YELLOW_FINGERS  ANXIETY  PEER_PRESSURE  \\\n",
       "0       0   69        1               2        2              1   \n",
       "1       0   74        2               1        1              1   \n",
       "2       1   59        1               1        1              2   \n",
       "3       0   63        2               2        2              1   \n",
       "4       1   63        1               2        1              1   \n",
       "\n",
       "   CHRONIC DISEASE  FATIGUE   ALLERGY   WHEEZING  ALCOHOL CONSUMING  COUGHING  \\\n",
       "0                1         2         1         2                  2         2   \n",
       "1                2         2         2         1                  1         1   \n",
       "2                1         2         1         2                  1         2   \n",
       "3                1         1         1         1                  2         1   \n",
       "4                1         1         1         2                  1         2   \n",
       "\n",
       "   SHORTNESS OF BREATH  SWALLOWING DIFFICULTY  CHEST PAIN  LUNG_CANCER  \n",
       "0                    2                      2           2            0  \n",
       "1                    2                      2           2            0  \n",
       "2                    2                      1           2            1  \n",
       "3                    1                      2           2            1  \n",
       "4                    2                      1           1            1  "
      ]
     },
     "metadata": {},
     "execution_count": 8
    }
   ],
   "metadata": {
    "execution": {
     "iopub.execute_input": "2021-10-02T11:31:12.456064Z",
     "iopub.status.busy": "2021-10-02T11:31:12.455433Z",
     "iopub.status.idle": "2021-10-02T11:31:12.469498Z",
     "shell.execute_reply": "2021-10-02T11:31:12.468851Z",
     "shell.execute_reply.started": "2021-10-02T11:29:06.575685Z"
    },
    "papermill": {
     "duration": 0.083068,
     "end_time": "2021-10-02T11:31:12.469633",
     "exception": false,
     "start_time": "2021-10-02T11:31:12.386565",
     "status": "completed"
    },
    "tags": []
   }
  },
  {
   "cell_type": "markdown",
   "source": [
    "# Data Visualization"
   ],
   "metadata": {
    "papermill": {
     "duration": 0.064546,
     "end_time": "2021-10-02T11:31:12.599224",
     "exception": false,
     "start_time": "2021-10-02T11:31:12.534678",
     "status": "completed"
    },
    "tags": []
   }
  },
  {
   "cell_type": "code",
   "execution_count": 9,
   "source": [
    "# education & Loan Status\n",
    "import seaborn as sns\n",
    "sns.countplot(x='LUNG_CANCER',hue='LUNG_CANCER',data=data)"
   ],
   "outputs": [
    {
     "output_type": "execute_result",
     "data": {
      "text/plain": [
       "<AxesSubplot:xlabel='LUNG_CANCER', ylabel='count'>"
      ]
     },
     "metadata": {},
     "execution_count": 9
    },
    {
     "output_type": "display_data",
     "data": {
      "image/png": "[encoded data removed]",
      "text/plain": [
       "<Figure size 432x288 with 1 Axes>"
      ]
     },
     "metadata": {
      "needs_background": "light"
     }
    }
   ],
   "metadata": {
    "execution": {
     "iopub.execute_input": "2021-10-02T11:31:12.735363Z",
     "iopub.status.busy": "2021-10-02T11:31:12.734580Z",
     "iopub.status.idle": "2021-10-02T11:31:13.781258Z",
     "shell.execute_reply": "2021-10-02T11:31:13.781694Z",
     "shell.execute_reply.started": "2021-10-02T11:29:06.595300Z"
    },
    "papermill": {
     "duration": 1.116112,
     "end_time": "2021-10-02T11:31:13.781860",
     "exception": false,
     "start_time": "2021-10-02T11:31:12.665748",
     "status": "completed"
    },
    "tags": []
   }
  },
  {
   "cell_type": "code",
   "execution_count": 10,
   "source": [
    "# education & Loan Status\n",
    "import seaborn as sns\n",
    "sns.countplot(x='GENDER',hue='LUNG_CANCER',data=data)"
   ],
   "outputs": [
    {
     "output_type": "execute_result",
     "data": {
      "text/plain": [
       "<AxesSubplot:xlabel='GENDER', ylabel='count'>"
      ]
     },
     "metadata": {},
     "execution_count": 10
    },
    {
     "output_type": "display_data",
     "data": {
      "image/png": "[encoded data removed]",
      "text/plain": [
       "<Figure size 432x288 with 1 Axes>"
      ]
     },
     "metadata": {
      "needs_background": "light"
     }
    }
   ],
   "metadata": {
    "execution": {
     "iopub.execute_input": "2021-10-02T11:31:13.922963Z",
     "iopub.status.busy": "2021-10-02T11:31:13.922332Z",
     "iopub.status.idle": "2021-10-02T11:31:14.094105Z",
     "shell.execute_reply": "2021-10-02T11:31:14.093121Z",
     "shell.execute_reply.started": "2021-10-02T11:29:06.798751Z"
    },
    "papermill": {
     "duration": 0.24632,
     "end_time": "2021-10-02T11:31:14.094263",
     "exception": false,
     "start_time": "2021-10-02T11:31:13.847943",
     "status": "completed"
    },
    "tags": []
   }
  },
  {
   "cell_type": "code",
   "execution_count": 11,
   "source": [
    "# let's see how data is distributed for every column\n",
    "import matplotlib.pyplot as plt\n",
    "\n",
    "plt.figure(figsize = (20, 25))\n",
    "plotnumber = 1\n",
    "for column in data:\n",
    "    if plotnumber <= 9:\n",
    "        ax = plt.subplot(3, 3, plotnumber)\n",
    "        sns.distplot(data[column])\n",
    "        plt.xlabel(column, fontsize = 15)\n",
    "        \n",
    "    plotnumber += 1\n",
    "plt.show()"
   ],
   "outputs": [
    {
     "output_type": "stream",
     "name": "stderr",
     "text": [
      "/opt/conda/lib/python3.7/site-packages/seaborn/distributions.py:2619: FutureWarning: `distplot` is a deprecated function and will be removed in a future version. Please adapt your code to use either `displot` (a figure-level function with similar flexibility) or `histplot` (an axes-level function for histograms).\n",
      "  warnings.warn(msg, FutureWarning)\n",
      "/opt/conda/lib/python3.7/site-packages/seaborn/distributions.py:2619: FutureWarning: `distplot` is a deprecated function and will be removed in a future version. Please adapt your code to use either `displot` (a figure-level function with similar flexibility) or `histplot` (an axes-level function for histograms).\n",
      "  warnings.warn(msg, FutureWarning)\n",
      "/opt/conda/lib/python3.7/site-packages/seaborn/distributions.py:2619: FutureWarning: `distplot` is a deprecated function and will be removed in a future version. Please adapt your code to use either `displot` (a figure-level function with similar flexibility) or `histplot` (an axes-level function for histograms).\n",
      "  warnings.warn(msg, FutureWarning)\n",
      "/opt/conda/lib/python3.7/site-packages/seaborn/distributions.py:2619: FutureWarning: `distplot` is a deprecated function and will be removed in a future version. Please adapt your code to use either `displot` (a figure-level function with similar flexibility) or `histplot` (an axes-level function for histograms).\n",
      "  warnings.warn(msg, FutureWarning)\n",
      "/opt/conda/lib/python3.7/site-packages/seaborn/distributions.py:2619: FutureWarning: `distplot` is a deprecated function and will be removed in a future version. Please adapt your code to use either `displot` (a figure-level function with similar flexibility) or `histplot` (an axes-level function for histograms).\n",
      "  warnings.warn(msg, FutureWarning)\n",
      "/opt/conda/lib/python3.7/site-packages/seaborn/distributions.py:2619: FutureWarning: `distplot` is a deprecated function and will be removed in a future version. Please adapt your code to use either `displot` (a figure-level function with similar flexibility) or `histplot` (an axes-level function for histograms).\n",
      "  warnings.warn(msg, FutureWarning)\n",
      "/opt/conda/lib/python3.7/site-packages/seaborn/distributions.py:2619: FutureWarning: `distplot` is a deprecated function and will be removed in a future version. Please adapt your code to use either `displot` (a figure-level function with similar flexibility) or `histplot` (an axes-level function for histograms).\n",
      "  warnings.warn(msg, FutureWarning)\n",
      "/opt/conda/lib/python3.7/site-packages/seaborn/distributions.py:2619: FutureWarning: `distplot` is a deprecated function and will be removed in a future version. Please adapt your code to use either `displot` (a figure-level function with similar flexibility) or `histplot` (an axes-level function for histograms).\n",
      "  warnings.warn(msg, FutureWarning)\n",
      "/opt/conda/lib/python3.7/site-packages/seaborn/distributions.py:2619: FutureWarning: `distplot` is a deprecated function and will be removed in a future version. Please adapt your code to use either `displot` (a figure-level function with similar flexibility) or `histplot` (an axes-level function for histograms).\n",
      "  warnings.warn(msg, FutureWarning)\n"
     ]
    },
    {
     "output_type": "display_data",
     "data": {
      "image/png": "[encoded data removed]",
      "text/plain": [
       "<Figure size 1440x1800 with 9 Axes>"
      ]
     },
     "metadata": {
      "needs_background": "light"
     }
    }
   ],
   "metadata": {
    "execution": {
     "iopub.execute_input": "2021-10-02T11:31:14.233917Z",
     "iopub.status.busy": "2021-10-02T11:31:14.232962Z",
     "iopub.status.idle": "2021-10-02T11:31:15.972026Z",
     "shell.execute_reply": "2021-10-02T11:31:15.972516Z",
     "shell.execute_reply.started": "2021-10-02T11:29:07.022033Z"
    },
    "papermill": {
     "duration": 1.810272,
     "end_time": "2021-10-02T11:31:15.972694",
     "exception": false,
     "start_time": "2021-10-02T11:31:14.162422",
     "status": "completed"
    },
    "tags": []
   }
  },
  {
   "cell_type": "markdown",
   "source": [
    "**We can see that the distribution of data is normal ! lets move for the Model preparation.** 🚀"
   ],
   "metadata": {
    "papermill": {
     "duration": 0.073622,
     "end_time": "2021-10-02T11:31:16.121349",
     "exception": false,
     "start_time": "2021-10-02T11:31:16.047727",
     "status": "completed"
    },
    "tags": []
   }
  },
  {
   "cell_type": "markdown",
   "source": [
    "# **Model Preparation**\n",
    "\n",
    "Spilt into X & Y"
   ],
   "metadata": {
    "papermill": {
     "duration": 0.07183,
     "end_time": "2021-10-02T11:31:16.266208",
     "exception": false,
     "start_time": "2021-10-02T11:31:16.194378",
     "status": "completed"
    },
    "tags": []
   }
  },
  {
   "cell_type": "code",
   "execution_count": 12,
   "source": [
    "# separating the data and target\n",
    "X = data.drop(columns=['LUNG_CANCER'],axis=1)\n",
    "y = data['LUNG_CANCER']"
   ],
   "outputs": [],
   "metadata": {
    "execution": {
     "iopub.execute_input": "2021-10-02T11:31:16.417274Z",
     "iopub.status.busy": "2021-10-02T11:31:16.416635Z",
     "iopub.status.idle": "2021-10-02T11:31:16.419581Z",
     "shell.execute_reply": "2021-10-02T11:31:16.419047Z",
     "shell.execute_reply.started": "2021-10-02T11:29:08.482791Z"
    },
    "papermill": {
     "duration": 0.080964,
     "end_time": "2021-10-02T11:31:16.419712",
     "exception": false,
     "start_time": "2021-10-02T11:31:16.338748",
     "status": "completed"
    },
    "tags": []
   }
  },
  {
   "cell_type": "code",
   "execution_count": 13,
   "source": [
    "print(\"The shape of X is \" , X.shape)\n",
    "print(\"The shape of Y is \" , y.shape)"
   ],
   "outputs": [
    {
     "output_type": "stream",
     "name": "stdout",
     "text": [
      "The shape of X is  (309, 15)\n",
      "The shape of Y is  (309,)\n"
     ]
    }
   ],
   "metadata": {
    "execution": {
     "iopub.execute_input": "2021-10-02T11:31:16.571471Z",
     "iopub.status.busy": "2021-10-02T11:31:16.570856Z",
     "iopub.status.idle": "2021-10-02T11:31:16.574088Z",
     "shell.execute_reply": "2021-10-02T11:31:16.573555Z",
     "shell.execute_reply.started": "2021-10-02T11:29:08.490495Z"
    },
    "papermill": {
     "duration": 0.081128,
     "end_time": "2021-10-02T11:31:16.574218",
     "exception": false,
     "start_time": "2021-10-02T11:31:16.493090",
     "status": "completed"
    },
    "tags": []
   }
  },
  {
   "cell_type": "code",
   "execution_count": 14,
   "source": [
    "from sklearn.model_selection import train_test_split\n",
    "# separating into train and testing\n",
    "X_train, X_test,Y_train,Y_test = train_test_split(X,y,test_size=0.2,stratify=y,random_state=42)\n",
    "print(\"Shape of X_train is \" ,X_train.shape)\n",
    "print(\"Shape of X_test  is \" ,X_test.shape)\n",
    "print(\"Shape of Y_train is \" ,Y_train.shape)\n",
    "print(\"Shape of Y_test  is \" ,Y_test.shape)"
   ],
   "outputs": [
    {
     "output_type": "stream",
     "name": "stdout",
     "text": [
      "Shape of X_train is  (247, 15)\n",
      "Shape of X_test  is  (62, 15)\n",
      "Shape of Y_train is  (247,)\n",
      "Shape of Y_test  is  (62,)\n"
     ]
    }
   ],
   "metadata": {
    "execution": {
     "iopub.execute_input": "2021-10-02T11:31:16.728310Z",
     "iopub.status.busy": "2021-10-02T11:31:16.724947Z",
     "iopub.status.idle": "2021-10-02T11:31:16.894127Z",
     "shell.execute_reply": "2021-10-02T11:31:16.894720Z",
     "shell.execute_reply.started": "2021-10-02T11:29:08.504204Z"
    },
    "papermill": {
     "duration": 0.24632,
     "end_time": "2021-10-02T11:31:16.894893",
     "exception": false,
     "start_time": "2021-10-02T11:31:16.648573",
     "status": "completed"
    },
    "tags": []
   }
  },
  {
   "cell_type": "code",
   "execution_count": 15,
   "source": [
    "# After statify Y train & test values\n",
    "print(Y_train.value_counts())\n",
    "print(Y_test.value_counts())"
   ],
   "outputs": [
    {
     "output_type": "stream",
     "name": "stdout",
     "text": [
      "0    216\n",
      "1     31\n",
      "Name: LUNG_CANCER, dtype: int64\n",
      "0    54\n",
      "1     8\n",
      "Name: LUNG_CANCER, dtype: int64\n"
     ]
    }
   ],
   "metadata": {
    "execution": {
     "iopub.execute_input": "2021-10-02T11:31:17.050617Z",
     "iopub.status.busy": "2021-10-02T11:31:17.046678Z",
     "iopub.status.idle": "2021-10-02T11:31:17.053869Z",
     "shell.execute_reply": "2021-10-02T11:31:17.054337Z",
     "shell.execute_reply.started": "2021-10-02T11:29:08.519679Z"
    },
    "papermill": {
     "duration": 0.085183,
     "end_time": "2021-10-02T11:31:17.054504",
     "exception": false,
     "start_time": "2021-10-02T11:31:16.969321",
     "status": "completed"
    },
    "tags": []
   }
  },
  {
   "cell_type": "markdown",
   "source": [
    "# **Feature Scalilng**"
   ],
   "metadata": {
    "papermill": {
     "duration": 0.07314,
     "end_time": "2021-10-02T11:31:17.202612",
     "exception": false,
     "start_time": "2021-10-02T11:31:17.129472",
     "status": "completed"
    },
    "tags": []
   }
  },
  {
   "cell_type": "code",
   "execution_count": 16,
   "source": [
    "# scaling the data \n",
    "from sklearn.preprocessing import StandardScaler\n",
    "scaler = StandardScaler()\n",
    "X_train = scaler.fit_transform(X_train)\n",
    "X_test = scaler.transform(X_test)"
   ],
   "outputs": [],
   "metadata": {
    "execution": {
     "iopub.execute_input": "2021-10-02T11:31:17.361087Z",
     "iopub.status.busy": "2021-10-02T11:31:17.360435Z",
     "iopub.status.idle": "2021-10-02T11:31:17.362740Z",
     "shell.execute_reply": "2021-10-02T11:31:17.362152Z",
     "shell.execute_reply.started": "2021-10-02T11:29:08.529817Z"
    },
    "papermill": {
     "duration": 0.086397,
     "end_time": "2021-10-02T11:31:17.362873",
     "exception": false,
     "start_time": "2021-10-02T11:31:17.276476",
     "status": "completed"
    },
    "tags": []
   }
  },
  {
   "cell_type": "code",
   "execution_count": 17,
   "source": [
    "X_train"
   ],
   "outputs": [
    {
     "output_type": "execute_result",
     "data": {
      "text/plain": [
       "array([[-0.89605787, -2.94594932,  0.9258201 , ...,  0.74394833,\n",
       "        -0.95641449,  0.86704847],\n",
       "       [-0.89605787, -0.34543211,  0.9258201 , ..., -1.34417937,\n",
       "        -0.95641449,  0.86704847],\n",
       "       [ 1.11599935,  0.1499045 , -1.08012345, ..., -1.34417937,\n",
       "        -0.95641449, -1.15333806],\n",
       "       ...,\n",
       "       [-0.89605787, -0.34543211, -1.08012345, ..., -1.34417937,\n",
       "        -0.95641449, -1.15333806],\n",
       "       [ 1.11599935,  0.02607035, -1.08012345, ...,  0.74394833,\n",
       "        -0.95641449, -1.15333806],\n",
       "       [ 1.11599935, -0.46926626,  0.9258201 , ...,  0.74394833,\n",
       "         1.04557178, -1.15333806]])"
      ]
     },
     "metadata": {},
     "execution_count": 17
    }
   ],
   "metadata": {
    "execution": {
     "iopub.execute_input": "2021-10-02T11:31:17.517096Z",
     "iopub.status.busy": "2021-10-02T11:31:17.514074Z",
     "iopub.status.idle": "2021-10-02T11:31:17.519484Z",
     "shell.execute_reply": "2021-10-02T11:31:17.520043Z",
     "shell.execute_reply.started": "2021-10-02T11:29:08.544209Z"
    },
    "papermill": {
     "duration": 0.083302,
     "end_time": "2021-10-02T11:31:17.520223",
     "exception": false,
     "start_time": "2021-10-02T11:31:17.436921",
     "status": "completed"
    },
    "tags": []
   }
  },
  {
   "cell_type": "markdown",
   "source": [
    "# **Model Training**\n",
    "\n",
    "**We will train different model after the evaluation of model we will select out best model for production.**\n",
    "\n",
    "1.   Logistic Regression\n",
    "2.   KNN\n",
    "3.   SVC\n",
    "3.   Decision Tree\n",
    "4.   Random Forest Regressor\n",
    "5.   XgBoost\n",
    "6.   Ada Boost\n",
    "7.   Gradient Boosting\n",
    "8.   Stochascated Gradient Boosting\n",
    "9.   Stacking"
   ],
   "metadata": {
    "papermill": {
     "duration": 0.0797,
     "end_time": "2021-10-02T11:31:17.675506",
     "exception": false,
     "start_time": "2021-10-02T11:31:17.595806",
     "status": "completed"
    },
    "tags": []
   }
  },
  {
   "cell_type": "markdown",
   "source": [
    "## **Logistic Regression**"
   ],
   "metadata": {
    "papermill": {
     "duration": 0.074265,
     "end_time": "2021-10-02T11:31:17.824394",
     "exception": false,
     "start_time": "2021-10-02T11:31:17.750129",
     "status": "completed"
    },
    "tags": []
   }
  },
  {
   "cell_type": "code",
   "execution_count": 18,
   "source": [
    "from sklearn.linear_model import LogisticRegression\n",
    "from sklearn.metrics import accuracy_score, confusion_matrix, classification_report\n",
    "\n",
    "lr = LogisticRegression()\n",
    "lr.fit(X_train, Y_train)\n",
    "y_pred = lr.predict(X_test)\n",
    "\n",
    "lr_train_acc = accuracy_score(Y_train, lr.predict(X_train))\n",
    "lr_test_acc = accuracy_score(Y_test, y_pred)\n",
    "\n",
    "print(f\"Training Accuracy of Logistic Regression Model is {lr_train_acc}\")\n",
    "print(f\"Test Accuracy of Logistic Regression Model is {lr_test_acc}\")"
   ],
   "outputs": [
    {
     "output_type": "stream",
     "name": "stdout",
     "text": [
      "Training Accuracy of Logistic Regression Model is 0.951417004048583\n",
      "Test Accuracy of Logistic Regression Model is 0.9193548387096774\n"
     ]
    }
   ],
   "metadata": {
    "execution": {
     "iopub.execute_input": "2021-10-02T11:31:17.977401Z",
     "iopub.status.busy": "2021-10-02T11:31:17.976743Z",
     "iopub.status.idle": "2021-10-02T11:31:18.064538Z",
     "shell.execute_reply": "2021-10-02T11:31:18.064003Z",
     "shell.execute_reply.started": "2021-10-02T11:29:08.555842Z"
    },
    "papermill": {
     "duration": 0.165392,
     "end_time": "2021-10-02T11:31:18.064687",
     "exception": false,
     "start_time": "2021-10-02T11:31:17.899295",
     "status": "completed"
    },
    "tags": []
   }
  },
  {
   "cell_type": "code",
   "execution_count": 19,
   "source": [
    "# confusion matrix \n",
    "confusion_matrix(Y_test, y_pred)"
   ],
   "outputs": [
    {
     "output_type": "execute_result",
     "data": {
      "text/plain": [
       "array([[53,  1],\n",
       "       [ 4,  4]])"
      ]
     },
     "metadata": {},
     "execution_count": 19
    }
   ],
   "metadata": {
    "execution": {
     "iopub.execute_input": "2021-10-02T11:31:18.217580Z",
     "iopub.status.busy": "2021-10-02T11:31:18.216611Z",
     "iopub.status.idle": "2021-10-02T11:31:18.224120Z",
     "shell.execute_reply": "2021-10-02T11:31:18.224594Z",
     "shell.execute_reply.started": "2021-10-02T11:29:08.575791Z"
    },
    "papermill": {
     "duration": 0.084961,
     "end_time": "2021-10-02T11:31:18.224750",
     "exception": false,
     "start_time": "2021-10-02T11:31:18.139789",
     "status": "completed"
    },
    "tags": []
   }
  },
  {
   "cell_type": "code",
   "execution_count": 20,
   "source": [
    "# classification report\n",
    "print(classification_report(Y_test, y_pred))"
   ],
   "outputs": [
    {
     "output_type": "stream",
     "name": "stdout",
     "text": [
      "              precision    recall  f1-score   support\n",
      "\n",
      "           0       0.93      0.98      0.95        54\n",
      "           1       0.80      0.50      0.62         8\n",
      "\n",
      "    accuracy                           0.92        62\n",
      "   macro avg       0.86      0.74      0.79        62\n",
      "weighted avg       0.91      0.92      0.91        62\n",
      "\n"
     ]
    }
   ],
   "metadata": {
    "execution": {
     "iopub.execute_input": "2021-10-02T11:31:18.376811Z",
     "iopub.status.busy": "2021-10-02T11:31:18.375880Z",
     "iopub.status.idle": "2021-10-02T11:31:18.385208Z",
     "shell.execute_reply": "2021-10-02T11:31:18.384591Z",
     "shell.execute_reply.started": "2021-10-02T11:29:08.582515Z"
    },
    "papermill": {
     "duration": 0.08672,
     "end_time": "2021-10-02T11:31:18.385344",
     "exception": false,
     "start_time": "2021-10-02T11:31:18.298624",
     "status": "completed"
    },
    "tags": []
   }
  },
  {
   "cell_type": "markdown",
   "source": [
    "## **KNeighborsClassifier**"
   ],
   "metadata": {
    "papermill": {
     "duration": 0.075141,
     "end_time": "2021-10-02T11:31:18.536295",
     "exception": false,
     "start_time": "2021-10-02T11:31:18.461154",
     "status": "completed"
    },
    "tags": []
   }
  },
  {
   "cell_type": "code",
   "execution_count": 21,
   "source": [
    "from sklearn.neighbors import KNeighborsClassifier\n",
    "\n",
    "knn = KNeighborsClassifier()\n",
    "knn.fit(X_train, Y_train)\n",
    "\n",
    "y_pred = knn.predict(X_test)\n",
    "\n",
    "knn_train_acc = accuracy_score(Y_train, knn.predict(X_train))\n",
    "knn_test_acc = accuracy_score(Y_test, y_pred)\n",
    "\n",
    "print(f\"Training Accuracy of KNN Model is {knn_train_acc}\")\n",
    "print(f\"Test Accuracy of KNN Model is {knn_test_acc}\")"
   ],
   "outputs": [
    {
     "output_type": "stream",
     "name": "stdout",
     "text": [
      "Training Accuracy of KNN Model is 0.9230769230769231\n",
      "Test Accuracy of KNN Model is 0.9032258064516129\n"
     ]
    }
   ],
   "metadata": {
    "execution": {
     "iopub.execute_input": "2021-10-02T11:31:18.690581Z",
     "iopub.status.busy": "2021-10-02T11:31:18.689967Z",
     "iopub.status.idle": "2021-10-02T11:31:18.770631Z",
     "shell.execute_reply": "2021-10-02T11:31:18.769781Z",
     "shell.execute_reply.started": "2021-10-02T11:29:08.598553Z"
    },
    "papermill": {
     "duration": 0.159961,
     "end_time": "2021-10-02T11:31:18.770812",
     "exception": false,
     "start_time": "2021-10-02T11:31:18.610851",
     "status": "completed"
    },
    "tags": []
   }
  },
  {
   "cell_type": "code",
   "execution_count": 22,
   "source": [
    "# confusion matrix \n",
    "confusion_matrix(Y_test, y_pred)"
   ],
   "outputs": [
    {
     "output_type": "execute_result",
     "data": {
      "text/plain": [
       "array([[52,  2],\n",
       "       [ 4,  4]])"
      ]
     },
     "metadata": {},
     "execution_count": 22
    }
   ],
   "metadata": {
    "execution": {
     "iopub.execute_input": "2021-10-02T11:31:18.928170Z",
     "iopub.status.busy": "2021-10-02T11:31:18.927479Z",
     "iopub.status.idle": "2021-10-02T11:31:18.935969Z",
     "shell.execute_reply": "2021-10-02T11:31:18.935422Z",
     "shell.execute_reply.started": "2021-10-02T11:29:08.625224Z"
    },
    "papermill": {
     "duration": 0.089526,
     "end_time": "2021-10-02T11:31:18.936112",
     "exception": false,
     "start_time": "2021-10-02T11:31:18.846586",
     "status": "completed"
    },
    "tags": []
   }
  },
  {
   "cell_type": "code",
   "execution_count": 23,
   "source": [
    "# classification report\n",
    "print(classification_report(Y_test, y_pred))"
   ],
   "outputs": [
    {
     "output_type": "stream",
     "name": "stdout",
     "text": [
      "              precision    recall  f1-score   support\n",
      "\n",
      "           0       0.93      0.96      0.95        54\n",
      "           1       0.67      0.50      0.57         8\n",
      "\n",
      "    accuracy                           0.90        62\n",
      "   macro avg       0.80      0.73      0.76        62\n",
      "weighted avg       0.89      0.90      0.90        62\n",
      "\n"
     ]
    }
   ],
   "metadata": {
    "execution": {
     "iopub.execute_input": "2021-10-02T11:31:19.095198Z",
     "iopub.status.busy": "2021-10-02T11:31:19.094552Z",
     "iopub.status.idle": "2021-10-02T11:31:19.103219Z",
     "shell.execute_reply": "2021-10-02T11:31:19.102555Z",
     "shell.execute_reply.started": "2021-10-02T11:29:08.634805Z"
    },
    "papermill": {
     "duration": 0.08812,
     "end_time": "2021-10-02T11:31:19.103374",
     "exception": false,
     "start_time": "2021-10-02T11:31:19.015254",
     "status": "completed"
    },
    "tags": []
   }
  },
  {
   "cell_type": "markdown",
   "source": [
    "## **SVC**\n"
   ],
   "metadata": {
    "papermill": {
     "duration": 0.07577,
     "end_time": "2021-10-02T11:31:19.255964",
     "exception": false,
     "start_time": "2021-10-02T11:31:19.180194",
     "status": "completed"
    },
    "tags": []
   }
  },
  {
   "cell_type": "code",
   "execution_count": 24,
   "source": [
    "from sklearn.svm import SVC\n",
    "\n",
    "svc = SVC()\n",
    "svc.fit(X_train, Y_train)\n",
    "\n",
    "y_pred = svc.predict(X_test)\n",
    "\n",
    "svc_train_acc = accuracy_score(Y_train, svc.predict(X_train))\n",
    "svc_test_acc = accuracy_score(Y_test, y_pred)\n",
    "\n",
    "print(f\"Training Accuracy of SVC Model is {svc_train_acc}\")\n",
    "print(f\"Test Accuracy of SVC Model is {svc_test_acc}\")"
   ],
   "outputs": [
    {
     "output_type": "stream",
     "name": "stdout",
     "text": [
      "Training Accuracy of SVC Model is 0.9595141700404858\n",
      "Test Accuracy of SVC Model is 0.9032258064516129\n"
     ]
    }
   ],
   "metadata": {
    "execution": {
     "iopub.execute_input": "2021-10-02T11:31:19.415159Z",
     "iopub.status.busy": "2021-10-02T11:31:19.414512Z",
     "iopub.status.idle": "2021-10-02T11:31:19.421981Z",
     "shell.execute_reply": "2021-10-02T11:31:19.422631Z",
     "shell.execute_reply.started": "2021-10-02T11:29:08.645843Z"
    },
    "papermill": {
     "duration": 0.090449,
     "end_time": "2021-10-02T11:31:19.422865",
     "exception": false,
     "start_time": "2021-10-02T11:31:19.332416",
     "status": "completed"
    },
    "tags": []
   }
  },
  {
   "cell_type": "code",
   "execution_count": 25,
   "source": [
    "# confusion matrix\n",
    "confusion_matrix(Y_test, y_pred)"
   ],
   "outputs": [
    {
     "output_type": "execute_result",
     "data": {
      "text/plain": [
       "array([[52,  2],\n",
       "       [ 4,  4]])"
      ]
     },
     "metadata": {},
     "execution_count": 25
    }
   ],
   "metadata": {
    "execution": {
     "iopub.execute_input": "2021-10-02T11:31:19.584364Z",
     "iopub.status.busy": "2021-10-02T11:31:19.583689Z",
     "iopub.status.idle": "2021-10-02T11:31:19.586516Z",
     "shell.execute_reply": "2021-10-02T11:31:19.587027Z",
     "shell.execute_reply.started": "2021-10-02T11:29:08.658337Z"
    },
    "papermill": {
     "duration": 0.086247,
     "end_time": "2021-10-02T11:31:19.587191",
     "exception": false,
     "start_time": "2021-10-02T11:31:19.500944",
     "status": "completed"
    },
    "tags": []
   }
  },
  {
   "cell_type": "code",
   "execution_count": 26,
   "source": [
    "# classification report\n",
    "print(classification_report(Y_test, y_pred))"
   ],
   "outputs": [
    {
     "output_type": "stream",
     "name": "stdout",
     "text": [
      "              precision    recall  f1-score   support\n",
      "\n",
      "           0       0.93      0.96      0.95        54\n",
      "           1       0.67      0.50      0.57         8\n",
      "\n",
      "    accuracy                           0.90        62\n",
      "   macro avg       0.80      0.73      0.76        62\n",
      "weighted avg       0.89      0.90      0.90        62\n",
      "\n"
     ]
    }
   ],
   "metadata": {
    "execution": {
     "iopub.execute_input": "2021-10-02T11:31:19.745907Z",
     "iopub.status.busy": "2021-10-02T11:31:19.745306Z",
     "iopub.status.idle": "2021-10-02T11:31:19.754757Z",
     "shell.execute_reply": "2021-10-02T11:31:19.754009Z",
     "shell.execute_reply.started": "2021-10-02T11:29:08.669119Z"
    },
    "papermill": {
     "duration": 0.090064,
     "end_time": "2021-10-02T11:31:19.754922",
     "exception": false,
     "start_time": "2021-10-02T11:31:19.664858",
     "status": "completed"
    },
    "tags": []
   }
  },
  {
   "cell_type": "markdown",
   "source": [
    "## **DecisionTreeClassifier**"
   ],
   "metadata": {
    "papermill": {
     "duration": 0.077376,
     "end_time": "2021-10-02T11:31:19.909996",
     "exception": false,
     "start_time": "2021-10-02T11:31:19.832620",
     "status": "completed"
    },
    "tags": []
   }
  },
  {
   "cell_type": "code",
   "execution_count": 27,
   "source": [
    "from sklearn.tree import DecisionTreeClassifier\n",
    "\n",
    "dtc = DecisionTreeClassifier()\n",
    "dtc.fit(X_train, Y_train)\n",
    "\n",
    "y_pred = dtc.predict(X_test)\n",
    "\n",
    "dtc_train_acc = accuracy_score(Y_train, dtc.predict(X_train))\n",
    "dtc_test_acc = accuracy_score(Y_test, y_pred)\n",
    "\n",
    "print(f\"Training Accuracy of Decision Tree Model is {dtc_train_acc}\")\n",
    "print(f\"Test Accuracy of Decision Tree Model is {dtc_test_acc}\")"
   ],
   "outputs": [
    {
     "output_type": "stream",
     "name": "stdout",
     "text": [
      "Training Accuracy of Decision Tree Model is 1.0\n",
      "Test Accuracy of Decision Tree Model is 0.9032258064516129\n"
     ]
    }
   ],
   "metadata": {
    "execution": {
     "iopub.execute_input": "2021-10-02T11:31:20.071381Z",
     "iopub.status.busy": "2021-10-02T11:31:20.070710Z",
     "iopub.status.idle": "2021-10-02T11:31:20.102875Z",
     "shell.execute_reply": "2021-10-02T11:31:20.103443Z",
     "shell.execute_reply.started": "2021-10-02T11:29:08.681571Z"
    },
    "papermill": {
     "duration": 0.115986,
     "end_time": "2021-10-02T11:31:20.103618",
     "exception": false,
     "start_time": "2021-10-02T11:31:19.987632",
     "status": "completed"
    },
    "tags": []
   }
  },
  {
   "cell_type": "code",
   "execution_count": 28,
   "source": [
    "# confusion matrix\n",
    "confusion_matrix(Y_test, y_pred)"
   ],
   "outputs": [
    {
     "output_type": "execute_result",
     "data": {
      "text/plain": [
       "array([[49,  5],\n",
       "       [ 1,  7]])"
      ]
     },
     "metadata": {},
     "execution_count": 28
    }
   ],
   "metadata": {
    "execution": {
     "iopub.execute_input": "2021-10-02T11:31:20.261640Z",
     "iopub.status.busy": "2021-10-02T11:31:20.261055Z",
     "iopub.status.idle": "2021-10-02T11:31:20.266467Z",
     "shell.execute_reply": "2021-10-02T11:31:20.266982Z",
     "shell.execute_reply.started": "2021-10-02T11:29:08.691492Z"
    },
    "papermill": {
     "duration": 0.086122,
     "end_time": "2021-10-02T11:31:20.267160",
     "exception": false,
     "start_time": "2021-10-02T11:31:20.181038",
     "status": "completed"
    },
    "tags": []
   }
  },
  {
   "cell_type": "code",
   "execution_count": 29,
   "source": [
    "# classification report\n",
    "print(classification_report(Y_test, y_pred))"
   ],
   "outputs": [
    {
     "output_type": "stream",
     "name": "stdout",
     "text": [
      "              precision    recall  f1-score   support\n",
      "\n",
      "           0       0.98      0.91      0.94        54\n",
      "           1       0.58      0.88      0.70         8\n",
      "\n",
      "    accuracy                           0.90        62\n",
      "   macro avg       0.78      0.89      0.82        62\n",
      "weighted avg       0.93      0.90      0.91        62\n",
      "\n"
     ]
    }
   ],
   "metadata": {
    "execution": {
     "iopub.execute_input": "2021-10-02T11:31:20.425804Z",
     "iopub.status.busy": "2021-10-02T11:31:20.425214Z",
     "iopub.status.idle": "2021-10-02T11:31:20.433326Z",
     "shell.execute_reply": "2021-10-02T11:31:20.433818Z",
     "shell.execute_reply.started": "2021-10-02T11:29:08.701860Z"
    },
    "papermill": {
     "duration": 0.089446,
     "end_time": "2021-10-02T11:31:20.434006",
     "exception": false,
     "start_time": "2021-10-02T11:31:20.344560",
     "status": "completed"
    },
    "tags": []
   }
  },
  {
   "cell_type": "markdown",
   "source": [
    "## **Hyper parameter tuning**"
   ],
   "metadata": {
    "papermill": {
     "duration": 0.078879,
     "end_time": "2021-10-02T11:31:20.591732",
     "exception": false,
     "start_time": "2021-10-02T11:31:20.512853",
     "status": "completed"
    },
    "tags": []
   }
  },
  {
   "cell_type": "code",
   "execution_count": 30,
   "source": [
    "# hyper parameter tuning\n",
    "\n",
    "from sklearn.model_selection import GridSearchCV\n",
    "\n",
    "grid_params = {\n",
    "    'criterion' : ['gini', 'entropy'],\n",
    "    'max_depth' : [3, 5, 7, 10],\n",
    "    'min_samples_split' : range(2, 10, 1),\n",
    "    'min_samples_leaf' : range(2, 10, 1)\n",
    "}\n",
    "\n",
    "grid_search = GridSearchCV(dtc, grid_params, cv = 5, n_jobs = -1, verbose = 1)\n",
    "grid_search.fit(X_train, Y_train)"
   ],
   "outputs": [
    {
     "output_type": "stream",
     "name": "stdout",
     "text": [
      "Fitting 5 folds for each of 512 candidates, totalling 2560 fits\n"
     ]
    },
    {
     "output_type": "stream",
     "name": "stderr",
     "text": [
      "[Parallel(n_jobs=-1)]: Using backend LokyBackend with 4 concurrent workers.\n",
      "[Parallel(n_jobs=-1)]: Done  48 tasks      | elapsed:    2.6s\n",
      "[Parallel(n_jobs=-1)]: Done 2560 out of 2560 | elapsed:    4.8s finished\n"
     ]
    },
    {
     "output_type": "execute_result",
     "data": {
      "text/plain": [
       "GridSearchCV(cv=5, estimator=DecisionTreeClassifier(), n_jobs=-1,\n",
       "             param_grid={'criterion': ['gini', 'entropy'],\n",
       "                         'max_depth': [3, 5, 7, 10],\n",
       "                         'min_samples_leaf': range(2, 10),\n",
       "                         'min_samples_split': range(2, 10)},\n",
       "             verbose=1)"
      ]
     },
     "metadata": {},
     "execution_count": 30
    }
   ],
   "metadata": {
    "execution": {
     "iopub.execute_input": "2021-10-02T11:31:20.757308Z",
     "iopub.status.busy": "2021-10-02T11:31:20.753241Z",
     "iopub.status.idle": "2021-10-02T11:31:25.625608Z",
     "shell.execute_reply": "2021-10-02T11:31:25.626099Z",
     "shell.execute_reply.started": "2021-10-02T11:29:08.713809Z"
    },
    "papermill": {
     "duration": 4.954645,
     "end_time": "2021-10-02T11:31:25.626276",
     "exception": false,
     "start_time": "2021-10-02T11:31:20.671631",
     "status": "completed"
    },
    "tags": []
   }
  },
  {
   "cell_type": "code",
   "execution_count": 31,
   "source": [
    "# best parameters and best score\n",
    "\n",
    "print(grid_search.best_params_)\n",
    "print(grid_search.best_score_)"
   ],
   "outputs": [
    {
     "output_type": "stream",
     "name": "stdout",
     "text": [
      "{'criterion': 'gini', 'max_depth': 5, 'min_samples_leaf': 9, 'min_samples_split': 2}\n",
      "0.8705306122448979\n"
     ]
    }
   ],
   "metadata": {
    "execution": {
     "iopub.execute_input": "2021-10-02T11:31:25.792604Z",
     "iopub.status.busy": "2021-10-02T11:31:25.790322Z",
     "iopub.status.idle": "2021-10-02T11:31:25.795880Z",
     "shell.execute_reply": "2021-10-02T11:31:25.796587Z",
     "shell.execute_reply.started": "2021-10-02T11:29:10.684282Z"
    },
    "papermill": {
     "duration": 0.089268,
     "end_time": "2021-10-02T11:31:25.796807",
     "exception": false,
     "start_time": "2021-10-02T11:31:25.707539",
     "status": "completed"
    },
    "tags": []
   }
  },
  {
   "cell_type": "code",
   "execution_count": 32,
   "source": [
    "dtc = grid_search.best_estimator_\n",
    "y_pred = dtc.predict(X_test)\n",
    "dtc_train_acc = accuracy_score(Y_train, dtc.predict(X_train))\n",
    "dtc_test_acc = accuracy_score(Y_test, y_pred)\n",
    "\n",
    "print(f\"Training Accuracy of Decesion Tree Model is {dtc_train_acc}\")\n",
    "print(f\"Test Accuracy of Decesion Tree Model is {dtc_test_acc}\")"
   ],
   "outputs": [
    {
     "output_type": "stream",
     "name": "stdout",
     "text": [
      "Training Accuracy of Decesion Tree Model is 0.9109311740890689\n",
      "Test Accuracy of Decesion Tree Model is 0.8870967741935484\n"
     ]
    }
   ],
   "metadata": {
    "execution": {
     "iopub.execute_input": "2021-10-02T11:31:25.967299Z",
     "iopub.status.busy": "2021-10-02T11:31:25.966511Z",
     "iopub.status.idle": "2021-10-02T11:31:25.969662Z",
     "shell.execute_reply": "2021-10-02T11:31:25.970408Z",
     "shell.execute_reply.started": "2021-10-02T11:29:10.690391Z"
    },
    "papermill": {
     "duration": 0.092374,
     "end_time": "2021-10-02T11:31:25.970627",
     "exception": false,
     "start_time": "2021-10-02T11:31:25.878253",
     "status": "completed"
    },
    "tags": []
   }
  },
  {
   "cell_type": "markdown",
   "source": [
    "**Visualization the DTC tree.**"
   ],
   "metadata": {
    "papermill": {
     "duration": 0.081609,
     "end_time": "2021-10-02T11:31:26.135313",
     "exception": false,
     "start_time": "2021-10-02T11:31:26.053704",
     "status": "completed"
    },
    "tags": []
   }
  },
  {
   "cell_type": "code",
   "execution_count": 33,
   "source": [
    "from sklearn import tree\n",
    "plt.figure(figsize=(15,10))\n",
    "tree.plot_tree(dtc,filled=True)"
   ],
   "outputs": [
    {
     "output_type": "execute_result",
     "data": {
      "text/plain": [
       "[Text(533.5875, 498.3, 'X[8] <= -0.11\\ngini = 0.22\\nsamples = 247\\nvalue = [216, 31]'),\n",
       " Text(355.725, 407.70000000000005, 'X[13] <= 0.045\\ngini = 0.38\\nsamples = 110\\nvalue = [82, 28]'),\n",
       " Text(209.25, 317.1, 'X[11] <= -0.185\\ngini = 0.489\\nsamples = 54\\nvalue = [31, 23]'),\n",
       " Text(125.55000000000001, 226.5, 'X[3] <= -0.152\\ngini = 0.49\\nsamples = 28\\nvalue = [12, 16]'),\n",
       " Text(83.7, 135.89999999999998, 'X[1] <= -0.16\\ngini = 0.388\\nsamples = 19\\nvalue = [5, 14]'),\n",
       " Text(41.85, 45.299999999999955, 'gini = 0.444\\nsamples = 9\\nvalue = [3, 6]'),\n",
       " Text(125.55000000000001, 45.299999999999955, 'gini = 0.32\\nsamples = 10\\nvalue = [2, 8]'),\n",
       " Text(167.4, 135.89999999999998, 'gini = 0.346\\nsamples = 9\\nvalue = [7, 2]'),\n",
       " Text(292.95, 226.5, 'X[2] <= -0.077\\ngini = 0.393\\nsamples = 26\\nvalue = [19, 7]'),\n",
       " Text(251.10000000000002, 135.89999999999998, 'gini = 0.48\\nsamples = 15\\nvalue = [9, 6]'),\n",
       " Text(334.8, 135.89999999999998, 'gini = 0.165\\nsamples = 11\\nvalue = [10, 1]'),\n",
       " Text(502.20000000000005, 317.1, 'X[5] <= -0.004\\ngini = 0.163\\nsamples = 56\\nvalue = [51, 5]'),\n",
       " Text(460.35, 226.5, 'X[1] <= -0.407\\ngini = 0.363\\nsamples = 21\\nvalue = [16, 5]'),\n",
       " Text(418.5, 135.89999999999998, 'gini = 0.48\\nsamples = 10\\nvalue = [6, 4]'),\n",
       " Text(502.20000000000005, 135.89999999999998, 'gini = 0.165\\nsamples = 11\\nvalue = [10, 1]'),\n",
       " Text(544.0500000000001, 226.5, 'gini = 0.0\\nsamples = 35\\nvalue = [35, 0]'),\n",
       " Text(711.45, 407.70000000000005, 'X[3] <= -0.152\\ngini = 0.043\\nsamples = 137\\nvalue = [134, 3]'),\n",
       " Text(669.6, 317.1, 'X[2] <= -0.077\\ngini = 0.087\\nsamples = 66\\nvalue = [63, 3]'),\n",
       " Text(627.75, 226.5, 'gini = 0.0\\nsamples = 25\\nvalue = [25, 0]'),\n",
       " Text(711.45, 226.5, 'X[11] <= -0.185\\ngini = 0.136\\nsamples = 41\\nvalue = [38, 3]'),\n",
       " Text(669.6, 135.89999999999998, 'gini = 0.32\\nsamples = 10\\nvalue = [8, 2]'),\n",
       " Text(753.3000000000001, 135.89999999999998, 'X[12] <= -0.3\\ngini = 0.062\\nsamples = 31\\nvalue = [30, 1]'),\n",
       " Text(711.45, 45.299999999999955, 'gini = 0.198\\nsamples = 9\\nvalue = [8, 1]'),\n",
       " Text(795.15, 45.299999999999955, 'gini = 0.0\\nsamples = 22\\nvalue = [22, 0]'),\n",
       " Text(753.3000000000001, 317.1, 'gini = 0.0\\nsamples = 71\\nvalue = [71, 0]')]"
      ]
     },
     "metadata": {},
     "execution_count": 33
    },
    {
     "output_type": "display_data",
     "data": {
      "image/png": "[encoded data removed]",
      "text/plain": [
       "<Figure size 1080x720 with 1 Axes>"
      ]
     },
     "metadata": {
      "needs_background": "light"
     }
    }
   ],
   "metadata": {
    "execution": {
     "iopub.execute_input": "2021-10-02T11:31:26.368686Z",
     "iopub.status.busy": "2021-10-02T11:31:26.368018Z",
     "iopub.status.idle": "2021-10-02T11:31:28.017448Z",
     "shell.execute_reply": "2021-10-02T11:31:28.017970Z",
     "shell.execute_reply.started": "2021-10-02T11:29:10.702591Z"
    },
    "papermill": {
     "duration": 1.80162,
     "end_time": "2021-10-02T11:31:28.018149",
     "exception": false,
     "start_time": "2021-10-02T11:31:26.216529",
     "status": "completed"
    },
    "tags": []
   }
  },
  {
   "cell_type": "markdown",
   "source": [
    "## **Random Forest Classifier**"
   ],
   "metadata": {
    "papermill": {
     "duration": 0.084498,
     "end_time": "2021-10-02T11:31:28.187573",
     "exception": false,
     "start_time": "2021-10-02T11:31:28.103075",
     "status": "completed"
    },
    "tags": []
   }
  },
  {
   "cell_type": "code",
   "execution_count": 34,
   "source": [
    "from sklearn.ensemble import RandomForestClassifier\n",
    "\n",
    "rand_clf = RandomForestClassifier(criterion = 'gini', max_depth = 3, max_features = 'sqrt', min_samples_leaf = 2, min_samples_split = 4, n_estimators = 180)\n",
    "rand_clf.fit(X_train, Y_train)\n",
    "\n",
    "y_pred = rand_clf.predict(X_test)\n",
    "\n",
    "rand_clf_train_acc = accuracy_score(Y_train, rand_clf.predict(X_train))\n",
    "rand_clf_test_acc = accuracy_score(Y_test, y_pred)\n",
    "\n",
    "print(f\"Training Accuracy of Random Forest Model is {rand_clf_train_acc}\")\n",
    "print(f\"Test Accuracy of Random Forest Model is {rand_clf_test_acc}\")"
   ],
   "outputs": [
    {
     "output_type": "stream",
     "name": "stdout",
     "text": [
      "Training Accuracy of Random Forest Model is 0.8785425101214575\n",
      "Test Accuracy of Random Forest Model is 0.8709677419354839\n"
     ]
    }
   ],
   "metadata": {
    "execution": {
     "iopub.execute_input": "2021-10-02T11:31:28.363686Z",
     "iopub.status.busy": "2021-10-02T11:31:28.362882Z",
     "iopub.status.idle": "2021-10-02T11:31:28.743171Z",
     "shell.execute_reply": "2021-10-02T11:31:28.743904Z",
     "shell.execute_reply.started": "2021-10-02T11:29:12.173982Z"
    },
    "papermill": {
     "duration": 0.471868,
     "end_time": "2021-10-02T11:31:28.744148",
     "exception": false,
     "start_time": "2021-10-02T11:31:28.272280",
     "status": "completed"
    },
    "tags": []
   }
  },
  {
   "cell_type": "markdown",
   "source": [
    "## **KNN**"
   ],
   "metadata": {
    "papermill": {
     "duration": 0.084613,
     "end_time": "2021-10-02T11:31:28.914226",
     "exception": false,
     "start_time": "2021-10-02T11:31:28.829613",
     "status": "completed"
    },
    "tags": []
   }
  },
  {
   "cell_type": "code",
   "execution_count": 35,
   "source": [
    "from sklearn.neighbors import KNeighborsClassifier\n",
    "k_model = KNeighborsClassifier(n_neighbors=16)\n",
    "kfitModel = k_model.fit(X_train, Y_train)\n",
    "\n",
    "# accuracy score on training data\n",
    "\n",
    "kX_train_prediction = kfitModel.predict(X_train)\n",
    "training_data_accuray = accuracy_score(kX_train_prediction,Y_train)\n",
    "print('Accuracy on training data  : ', training_data_accuray)\n",
    "\n",
    "# accuracy score on testing data\n",
    "kX_test_prediction = kfitModel.predict(X_test)\n",
    "kx_lgr_test_data_accuray = accuracy_score(kX_test_prediction,Y_test)\n",
    "print('Accuracy on test data      : ', kx_lgr_test_data_accuray)"
   ],
   "outputs": [
    {
     "output_type": "stream",
     "name": "stdout",
     "text": [
      "Accuracy on training data  :  0.8866396761133604\n",
      "Accuracy on test data      :  0.9032258064516129\n"
     ]
    }
   ],
   "metadata": {
    "execution": {
     "iopub.execute_input": "2021-10-02T11:31:29.096136Z",
     "iopub.status.busy": "2021-10-02T11:31:29.095224Z",
     "iopub.status.idle": "2021-10-02T11:31:29.115767Z",
     "shell.execute_reply": "2021-10-02T11:31:29.116646Z",
     "shell.execute_reply.started": "2021-10-02T11:29:12.447549Z"
    },
    "papermill": {
     "duration": 0.116222,
     "end_time": "2021-10-02T11:31:29.116965",
     "exception": false,
     "start_time": "2021-10-02T11:31:29.000743",
     "status": "completed"
    },
    "tags": []
   }
  },
  {
   "cell_type": "markdown",
   "source": [
    "# **Boosting**"
   ],
   "metadata": {
    "papermill": {
     "duration": 0.084693,
     "end_time": "2021-10-02T11:31:29.289565",
     "exception": false,
     "start_time": "2021-10-02T11:31:29.204872",
     "status": "completed"
    },
    "tags": []
   }
  },
  {
   "cell_type": "code",
   "execution_count": 36,
   "source": [
    "#Ada Boost Classifie\n",
    "from sklearn.ensemble import AdaBoostClassifier\n",
    "\n",
    "ada = AdaBoostClassifier(base_estimator = dtc)\n",
    "\n",
    "parameters = {\n",
    "    'n_estimators' : [50, 70, 90, 120, 180, 200],\n",
    "    'learning_rate' : [0.001, 0.01, 0.1, 1, 10],\n",
    "    'algorithm' : ['SAMME', 'SAMME.R']\n",
    "}\n",
    "\n",
    "grid_search = GridSearchCV(ada, parameters, n_jobs = -1, cv = 5, verbose = 1)\n",
    "grid_search.fit(X_train, Y_train)"
   ],
   "outputs": [
    {
     "output_type": "stream",
     "name": "stdout",
     "text": [
      "Fitting 5 folds for each of 60 candidates, totalling 300 fits\n"
     ]
    },
    {
     "output_type": "stream",
     "name": "stderr",
     "text": [
      "[Parallel(n_jobs=-1)]: Using backend LokyBackend with 4 concurrent workers.\n",
      "[Parallel(n_jobs=-1)]: Done  76 tasks      | elapsed:    6.1s\n",
      "/opt/conda/lib/python3.7/site-packages/sklearn/ensemble/_weight_boosting.py:610: RuntimeWarning: overflow encountered in exp\n",
      "  (sample_weight > 0))\n",
      "/opt/conda/lib/python3.7/site-packages/sklearn/ensemble/_weight_boosting.py:155: RuntimeWarning: invalid value encountered in true_divide\n",
      "  sample_weight /= sample_weight_sum\n",
      "/opt/conda/lib/python3.7/site-packages/sklearn/model_selection/_validation.py:552: FitFailedWarning: Estimator fit failed. The score on this train-test partition for these parameters will be set to nan. Details: \n",
      "Traceback (most recent call last):\n",
      "  File \"/opt/conda/lib/python3.7/site-packages/sklearn/model_selection/_validation.py\", line 531, in _fit_and_score\n",
      "    estimator.fit(X_train, y_train, **fit_params)\n",
      "  File \"/opt/conda/lib/python3.7/site-packages/sklearn/ensemble/_weight_boosting.py\", line 443, in fit\n",
      "    return super().fit(X, y, sample_weight)\n",
      "  File \"/opt/conda/lib/python3.7/site-packages/sklearn/ensemble/_weight_boosting.py\", line 134, in fit\n",
      "    random_state)\n",
      "  File \"/opt/conda/lib/python3.7/site-packages/sklearn/ensemble/_weight_boosting.py\", line 507, in _boost\n",
      "    random_state)\n",
      "  File \"/opt/conda/lib/python3.7/site-packages/sklearn/ensemble/_weight_boosting.py\", line 571, in _boost_discrete\n",
      "    estimator.fit(X, y, sample_weight=sample_weight)\n",
      "  File \"/opt/conda/lib/python3.7/site-packages/sklearn/tree/_classes.py\", line 894, in fit\n",
      "    X_idx_sorted=X_idx_sorted)\n",
      "  File \"/opt/conda/lib/python3.7/site-packages/sklearn/tree/_classes.py\", line 288, in fit\n",
      "    sample_weight = _check_sample_weight(sample_weight, X, DOUBLE)\n",
      "  File \"/opt/conda/lib/python3.7/site-packages/sklearn/utils/validation.py\", line 1296, in _check_sample_weight\n",
      "    order=\"C\"\n",
      "  File \"/opt/conda/lib/python3.7/site-packages/sklearn/utils/validation.py\", line 72, in inner_f\n",
      "    return f(**kwargs)\n",
      "  File \"/opt/conda/lib/python3.7/site-packages/sklearn/utils/validation.py\", line 645, in check_array\n",
      "    allow_nan=force_all_finite == 'allow-nan')\n",
      "  File \"/opt/conda/lib/python3.7/site-packages/sklearn/utils/validation.py\", line 99, in _assert_all_finite\n",
      "    msg_dtype if msg_dtype is not None else X.dtype)\n",
      "ValueError: Input contains NaN, infinity or a value too large for dtype('float64').\n",
      "\n",
      "  FitFailedWarning)\n",
      "/opt/conda/lib/python3.7/site-packages/sklearn/ensemble/_weight_boosting.py:610: RuntimeWarning: overflow encountered in exp\n",
      "  (sample_weight > 0))\n",
      "/opt/conda/lib/python3.7/site-packages/sklearn/ensemble/_weight_boosting.py:155: RuntimeWarning: invalid value encountered in true_divide\n",
      "  sample_weight /= sample_weight_sum\n",
      "/opt/conda/lib/python3.7/site-packages/sklearn/model_selection/_validation.py:552: FitFailedWarning: Estimator fit failed. The score on this train-test partition for these parameters will be set to nan. Details: \n",
      "Traceback (most recent call last):\n",
      "  File \"/opt/conda/lib/python3.7/site-packages/sklearn/model_selection/_validation.py\", line 531, in _fit_and_score\n",
      "    estimator.fit(X_train, y_train, **fit_params)\n",
      "  File \"/opt/conda/lib/python3.7/site-packages/sklearn/ensemble/_weight_boosting.py\", line 443, in fit\n",
      "    return super().fit(X, y, sample_weight)\n",
      "  File \"/opt/conda/lib/python3.7/site-packages/sklearn/ensemble/_weight_boosting.py\", line 134, in fit\n",
      "    random_state)\n",
      "  File \"/opt/conda/lib/python3.7/site-packages/sklearn/ensemble/_weight_boosting.py\", line 507, in _boost\n",
      "    random_state)\n",
      "  File \"/opt/conda/lib/python3.7/site-packages/sklearn/ensemble/_weight_boosting.py\", line 571, in _boost_discrete\n",
      "    estimator.fit(X, y, sample_weight=sample_weight)\n",
      "  File \"/opt/conda/lib/python3.7/site-packages/sklearn/tree/_classes.py\", line 894, in fit\n",
      "    X_idx_sorted=X_idx_sorted)\n",
      "  File \"/opt/conda/lib/python3.7/site-packages/sklearn/tree/_classes.py\", line 288, in fit\n",
      "    sample_weight = _check_sample_weight(sample_weight, X, DOUBLE)\n",
      "  File \"/opt/conda/lib/python3.7/site-packages/sklearn/utils/validation.py\", line 1296, in _check_sample_weight\n",
      "    order=\"C\"\n",
      "  File \"/opt/conda/lib/python3.7/site-packages/sklearn/utils/validation.py\", line 72, in inner_f\n",
      "    return f(**kwargs)\n",
      "  File \"/opt/conda/lib/python3.7/site-packages/sklearn/utils/validation.py\", line 645, in check_array\n",
      "    allow_nan=force_all_finite == 'allow-nan')\n",
      "  File \"/opt/conda/lib/python3.7/site-packages/sklearn/utils/validation.py\", line 99, in _assert_all_finite\n",
      "    msg_dtype if msg_dtype is not None else X.dtype)\n",
      "ValueError: Input contains NaN, infinity or a value too large for dtype('float64').\n",
      "\n",
      "  FitFailedWarning)\n",
      "/opt/conda/lib/python3.7/site-packages/sklearn/ensemble/_weight_boosting.py:610: RuntimeWarning: overflow encountered in exp\n",
      "  (sample_weight > 0))\n",
      "/opt/conda/lib/python3.7/site-packages/sklearn/ensemble/_weight_boosting.py:155: RuntimeWarning: invalid value encountered in true_divide\n",
      "  sample_weight /= sample_weight_sum\n",
      "/opt/conda/lib/python3.7/site-packages/sklearn/model_selection/_validation.py:552: FitFailedWarning: Estimator fit failed. The score on this train-test partition for these parameters will be set to nan. Details: \n",
      "Traceback (most recent call last):\n",
      "  File \"/opt/conda/lib/python3.7/site-packages/sklearn/model_selection/_validation.py\", line 531, in _fit_and_score\n",
      "    estimator.fit(X_train, y_train, **fit_params)\n",
      "  File \"/opt/conda/lib/python3.7/site-packages/sklearn/ensemble/_weight_boosting.py\", line 443, in fit\n",
      "    return super().fit(X, y, sample_weight)\n",
      "  File \"/opt/conda/lib/python3.7/site-packages/sklearn/ensemble/_weight_boosting.py\", line 134, in fit\n",
      "    random_state)\n",
      "  File \"/opt/conda/lib/python3.7/site-packages/sklearn/ensemble/_weight_boosting.py\", line 507, in _boost\n",
      "    random_state)\n",
      "  File \"/opt/conda/lib/python3.7/site-packages/sklearn/ensemble/_weight_boosting.py\", line 571, in _boost_discrete\n",
      "    estimator.fit(X, y, sample_weight=sample_weight)\n",
      "  File \"/opt/conda/lib/python3.7/site-packages/sklearn/tree/_classes.py\", line 894, in fit\n",
      "    X_idx_sorted=X_idx_sorted)\n",
      "  File \"/opt/conda/lib/python3.7/site-packages/sklearn/tree/_classes.py\", line 288, in fit\n",
      "    sample_weight = _check_sample_weight(sample_weight, X, DOUBLE)\n",
      "  File \"/opt/conda/lib/python3.7/site-packages/sklearn/utils/validation.py\", line 1296, in _check_sample_weight\n",
      "    order=\"C\"\n",
      "  File \"/opt/conda/lib/python3.7/site-packages/sklearn/utils/validation.py\", line 72, in inner_f\n",
      "    return f(**kwargs)\n",
      "  File \"/opt/conda/lib/python3.7/site-packages/sklearn/utils/validation.py\", line 645, in check_array\n",
      "    allow_nan=force_all_finite == 'allow-nan')\n",
      "  File \"/opt/conda/lib/python3.7/site-packages/sklearn/utils/validation.py\", line 99, in _assert_all_finite\n",
      "    msg_dtype if msg_dtype is not None else X.dtype)\n",
      "ValueError: Input contains NaN, infinity or a value too large for dtype('float64').\n",
      "\n",
      "  FitFailedWarning)\n",
      "/opt/conda/lib/python3.7/site-packages/sklearn/ensemble/_weight_boosting.py:610: RuntimeWarning: overflow encountered in exp\n",
      "  (sample_weight > 0))\n",
      "/opt/conda/lib/python3.7/site-packages/sklearn/ensemble/_weight_boosting.py:155: RuntimeWarning: invalid value encountered in true_divide\n",
      "  sample_weight /= sample_weight_sum\n",
      "/opt/conda/lib/python3.7/site-packages/sklearn/model_selection/_validation.py:552: FitFailedWarning: Estimator fit failed. The score on this train-test partition for these parameters will be set to nan. Details: \n",
      "Traceback (most recent call last):\n",
      "  File \"/opt/conda/lib/python3.7/site-packages/sklearn/model_selection/_validation.py\", line 531, in _fit_and_score\n",
      "    estimator.fit(X_train, y_train, **fit_params)\n",
      "  File \"/opt/conda/lib/python3.7/site-packages/sklearn/ensemble/_weight_boosting.py\", line 443, in fit\n",
      "    return super().fit(X, y, sample_weight)\n",
      "  File \"/opt/conda/lib/python3.7/site-packages/sklearn/ensemble/_weight_boosting.py\", line 134, in fit\n",
      "    random_state)\n",
      "  File \"/opt/conda/lib/python3.7/site-packages/sklearn/ensemble/_weight_boosting.py\", line 507, in _boost\n",
      "    random_state)\n",
      "  File \"/opt/conda/lib/python3.7/site-packages/sklearn/ensemble/_weight_boosting.py\", line 571, in _boost_discrete\n",
      "    estimator.fit(X, y, sample_weight=sample_weight)\n",
      "  File \"/opt/conda/lib/python3.7/site-packages/sklearn/tree/_classes.py\", line 894, in fit\n",
      "    X_idx_sorted=X_idx_sorted)\n",
      "  File \"/opt/conda/lib/python3.7/site-packages/sklearn/tree/_classes.py\", line 288, in fit\n",
      "    sample_weight = _check_sample_weight(sample_weight, X, DOUBLE)\n",
      "  File \"/opt/conda/lib/python3.7/site-packages/sklearn/utils/validation.py\", line 1296, in _check_sample_weight\n",
      "    order=\"C\"\n",
      "  File \"/opt/conda/lib/python3.7/site-packages/sklearn/utils/validation.py\", line 72, in inner_f\n",
      "    return f(**kwargs)\n",
      "  File \"/opt/conda/lib/python3.7/site-packages/sklearn/utils/validation.py\", line 645, in check_array\n",
      "    allow_nan=force_all_finite == 'allow-nan')\n",
      "  File \"/opt/conda/lib/python3.7/site-packages/sklearn/utils/validation.py\", line 99, in _assert_all_finite\n",
      "    msg_dtype if msg_dtype is not None else X.dtype)\n",
      "ValueError: Input contains NaN, infinity or a value too large for dtype('float64').\n",
      "\n",
      "  FitFailedWarning)\n",
      "/opt/conda/lib/python3.7/site-packages/sklearn/ensemble/_weight_boosting.py:610: RuntimeWarning: overflow encountered in exp\n",
      "  (sample_weight > 0))\n",
      "/opt/conda/lib/python3.7/site-packages/sklearn/ensemble/_weight_boosting.py:155: RuntimeWarning: invalid value encountered in true_divide\n",
      "  sample_weight /= sample_weight_sum\n",
      "/opt/conda/lib/python3.7/site-packages/sklearn/model_selection/_validation.py:552: FitFailedWarning: Estimator fit failed. The score on this train-test partition for these parameters will be set to nan. Details: \n",
      "Traceback (most recent call last):\n",
      "  File \"/opt/conda/lib/python3.7/site-packages/sklearn/model_selection/_validation.py\", line 531, in _fit_and_score\n",
      "    estimator.fit(X_train, y_train, **fit_params)\n",
      "  File \"/opt/conda/lib/python3.7/site-packages/sklearn/ensemble/_weight_boosting.py\", line 443, in fit\n",
      "    return super().fit(X, y, sample_weight)\n",
      "  File \"/opt/conda/lib/python3.7/site-packages/sklearn/ensemble/_weight_boosting.py\", line 134, in fit\n",
      "    random_state)\n",
      "  File \"/opt/conda/lib/python3.7/site-packages/sklearn/ensemble/_weight_boosting.py\", line 507, in _boost\n",
      "    random_state)\n",
      "  File \"/opt/conda/lib/python3.7/site-packages/sklearn/ensemble/_weight_boosting.py\", line 571, in _boost_discrete\n",
      "    estimator.fit(X, y, sample_weight=sample_weight)\n",
      "  File \"/opt/conda/lib/python3.7/site-packages/sklearn/tree/_classes.py\", line 894, in fit\n",
      "    X_idx_sorted=X_idx_sorted)\n",
      "  File \"/opt/conda/lib/python3.7/site-packages/sklearn/tree/_classes.py\", line 288, in fit\n",
      "    sample_weight = _check_sample_weight(sample_weight, X, DOUBLE)\n",
      "  File \"/opt/conda/lib/python3.7/site-packages/sklearn/utils/validation.py\", line 1296, in _check_sample_weight\n",
      "    order=\"C\"\n",
      "  File \"/opt/conda/lib/python3.7/site-packages/sklearn/utils/validation.py\", line 72, in inner_f\n",
      "    return f(**kwargs)\n",
      "  File \"/opt/conda/lib/python3.7/site-packages/sklearn/utils/validation.py\", line 645, in check_array\n",
      "    allow_nan=force_all_finite == 'allow-nan')\n",
      "  File \"/opt/conda/lib/python3.7/site-packages/sklearn/utils/validation.py\", line 99, in _assert_all_finite\n",
      "    msg_dtype if msg_dtype is not None else X.dtype)\n",
      "ValueError: Input contains NaN, infinity or a value too large for dtype('float64').\n",
      "\n",
      "  FitFailedWarning)\n",
      "/opt/conda/lib/python3.7/site-packages/sklearn/ensemble/_weight_boosting.py:610: RuntimeWarning: overflow encountered in exp\n",
      "  (sample_weight > 0))\n",
      "/opt/conda/lib/python3.7/site-packages/sklearn/ensemble/_weight_boosting.py:155: RuntimeWarning: invalid value encountered in true_divide\n",
      "  sample_weight /= sample_weight_sum\n",
      "/opt/conda/lib/python3.7/site-packages/sklearn/model_selection/_validation.py:552: FitFailedWarning: Estimator fit failed. The score on this train-test partition for these parameters will be set to nan. Details: \n",
      "Traceback (most recent call last):\n",
      "  File \"/opt/conda/lib/python3.7/site-packages/sklearn/model_selection/_validation.py\", line 531, in _fit_and_score\n",
      "    estimator.fit(X_train, y_train, **fit_params)\n",
      "  File \"/opt/conda/lib/python3.7/site-packages/sklearn/ensemble/_weight_boosting.py\", line 443, in fit\n",
      "    return super().fit(X, y, sample_weight)\n",
      "  File \"/opt/conda/lib/python3.7/site-packages/sklearn/ensemble/_weight_boosting.py\", line 134, in fit\n",
      "    random_state)\n",
      "  File \"/opt/conda/lib/python3.7/site-packages/sklearn/ensemble/_weight_boosting.py\", line 507, in _boost\n",
      "    random_state)\n",
      "  File \"/opt/conda/lib/python3.7/site-packages/sklearn/ensemble/_weight_boosting.py\", line 571, in _boost_discrete\n",
      "    estimator.fit(X, y, sample_weight=sample_weight)\n",
      "  File \"/opt/conda/lib/python3.7/site-packages/sklearn/tree/_classes.py\", line 894, in fit\n",
      "    X_idx_sorted=X_idx_sorted)\n",
      "  File \"/opt/conda/lib/python3.7/site-packages/sklearn/tree/_classes.py\", line 288, in fit\n",
      "    sample_weight = _check_sample_weight(sample_weight, X, DOUBLE)\n",
      "  File \"/opt/conda/lib/python3.7/site-packages/sklearn/utils/validation.py\", line 1296, in _check_sample_weight\n",
      "    order=\"C\"\n",
      "  File \"/opt/conda/lib/python3.7/site-packages/sklearn/utils/validation.py\", line 72, in inner_f\n",
      "    return f(**kwargs)\n",
      "  File \"/opt/conda/lib/python3.7/site-packages/sklearn/utils/validation.py\", line 645, in check_array\n",
      "    allow_nan=force_all_finite == 'allow-nan')\n",
      "  File \"/opt/conda/lib/python3.7/site-packages/sklearn/utils/validation.py\", line 99, in _assert_all_finite\n",
      "    msg_dtype if msg_dtype is not None else X.dtype)\n",
      "ValueError: Input contains NaN, infinity or a value too large for dtype('float64').\n",
      "\n",
      "  FitFailedWarning)\n",
      "/opt/conda/lib/python3.7/site-packages/sklearn/ensemble/_weight_boosting.py:610: RuntimeWarning: overflow encountered in exp\n",
      "  (sample_weight > 0))\n",
      "/opt/conda/lib/python3.7/site-packages/sklearn/ensemble/_weight_boosting.py:155: RuntimeWarning: invalid value encountered in true_divide\n",
      "  sample_weight /= sample_weight_sum\n",
      "/opt/conda/lib/python3.7/site-packages/sklearn/model_selection/_validation.py:552: FitFailedWarning: Estimator fit failed. The score on this train-test partition for these parameters will be set to nan. Details: \n",
      "Traceback (most recent call last):\n",
      "  File \"/opt/conda/lib/python3.7/site-packages/sklearn/model_selection/_validation.py\", line 531, in _fit_and_score\n",
      "    estimator.fit(X_train, y_train, **fit_params)\n",
      "  File \"/opt/conda/lib/python3.7/site-packages/sklearn/ensemble/_weight_boosting.py\", line 443, in fit\n",
      "    return super().fit(X, y, sample_weight)\n",
      "  File \"/opt/conda/lib/python3.7/site-packages/sklearn/ensemble/_weight_boosting.py\", line 134, in fit\n",
      "    random_state)\n",
      "  File \"/opt/conda/lib/python3.7/site-packages/sklearn/ensemble/_weight_boosting.py\", line 507, in _boost\n",
      "    random_state)\n",
      "  File \"/opt/conda/lib/python3.7/site-packages/sklearn/ensemble/_weight_boosting.py\", line 571, in _boost_discrete\n",
      "    estimator.fit(X, y, sample_weight=sample_weight)\n",
      "  File \"/opt/conda/lib/python3.7/site-packages/sklearn/tree/_classes.py\", line 894, in fit\n",
      "    X_idx_sorted=X_idx_sorted)\n",
      "  File \"/opt/conda/lib/python3.7/site-packages/sklearn/tree/_classes.py\", line 288, in fit\n",
      "    sample_weight = _check_sample_weight(sample_weight, X, DOUBLE)\n",
      "  File \"/opt/conda/lib/python3.7/site-packages/sklearn/utils/validation.py\", line 1296, in _check_sample_weight\n",
      "    order=\"C\"\n",
      "  File \"/opt/conda/lib/python3.7/site-packages/sklearn/utils/validation.py\", line 72, in inner_f\n",
      "    return f(**kwargs)\n",
      "  File \"/opt/conda/lib/python3.7/site-packages/sklearn/utils/validation.py\", line 645, in check_array\n",
      "    allow_nan=force_all_finite == 'allow-nan')\n",
      "  File \"/opt/conda/lib/python3.7/site-packages/sklearn/utils/validation.py\", line 99, in _assert_all_finite\n",
      "    msg_dtype if msg_dtype is not None else X.dtype)\n",
      "ValueError: Input contains NaN, infinity or a value too large for dtype('float64').\n",
      "\n",
      "  FitFailedWarning)\n",
      "/opt/conda/lib/python3.7/site-packages/sklearn/ensemble/_weight_boosting.py:610: RuntimeWarning: overflow encountered in exp\n",
      "  (sample_weight > 0))\n",
      "/opt/conda/lib/python3.7/site-packages/sklearn/ensemble/_weight_boosting.py:155: RuntimeWarning: invalid value encountered in true_divide\n",
      "  sample_weight /= sample_weight_sum\n",
      "/opt/conda/lib/python3.7/site-packages/sklearn/model_selection/_validation.py:552: FitFailedWarning: Estimator fit failed. The score on this train-test partition for these parameters will be set to nan. Details: \n",
      "Traceback (most recent call last):\n",
      "  File \"/opt/conda/lib/python3.7/site-packages/sklearn/model_selection/_validation.py\", line 531, in _fit_and_score\n",
      "    estimator.fit(X_train, y_train, **fit_params)\n",
      "  File \"/opt/conda/lib/python3.7/site-packages/sklearn/ensemble/_weight_boosting.py\", line 443, in fit\n",
      "    return super().fit(X, y, sample_weight)\n",
      "  File \"/opt/conda/lib/python3.7/site-packages/sklearn/ensemble/_weight_boosting.py\", line 134, in fit\n",
      "    random_state)\n",
      "  File \"/opt/conda/lib/python3.7/site-packages/sklearn/ensemble/_weight_boosting.py\", line 507, in _boost\n",
      "    random_state)\n",
      "  File \"/opt/conda/lib/python3.7/site-packages/sklearn/ensemble/_weight_boosting.py\", line 571, in _boost_discrete\n",
      "    estimator.fit(X, y, sample_weight=sample_weight)\n",
      "  File \"/opt/conda/lib/python3.7/site-packages/sklearn/tree/_classes.py\", line 894, in fit\n",
      "    X_idx_sorted=X_idx_sorted)\n",
      "  File \"/opt/conda/lib/python3.7/site-packages/sklearn/tree/_classes.py\", line 288, in fit\n",
      "    sample_weight = _check_sample_weight(sample_weight, X, DOUBLE)\n",
      "  File \"/opt/conda/lib/python3.7/site-packages/sklearn/utils/validation.py\", line 1296, in _check_sample_weight\n",
      "    order=\"C\"\n",
      "  File \"/opt/conda/lib/python3.7/site-packages/sklearn/utils/validation.py\", line 72, in inner_f\n",
      "    return f(**kwargs)\n",
      "  File \"/opt/conda/lib/python3.7/site-packages/sklearn/utils/validation.py\", line 645, in check_array\n",
      "    allow_nan=force_all_finite == 'allow-nan')\n",
      "  File \"/opt/conda/lib/python3.7/site-packages/sklearn/utils/validation.py\", line 99, in _assert_all_finite\n",
      "    msg_dtype if msg_dtype is not None else X.dtype)\n",
      "ValueError: Input contains NaN, infinity or a value too large for dtype('float64').\n",
      "\n",
      "  FitFailedWarning)\n",
      "/opt/conda/lib/python3.7/site-packages/sklearn/ensemble/_weight_boosting.py:610: RuntimeWarning: overflow encountered in exp\n",
      "  (sample_weight > 0))\n",
      "/opt/conda/lib/python3.7/site-packages/sklearn/ensemble/_weight_boosting.py:155: RuntimeWarning: invalid value encountered in true_divide\n",
      "  sample_weight /= sample_weight_sum\n",
      "/opt/conda/lib/python3.7/site-packages/sklearn/model_selection/_validation.py:552: FitFailedWarning: Estimator fit failed. The score on this train-test partition for these parameters will be set to nan. Details: \n",
      "Traceback (most recent call last):\n",
      "  File \"/opt/conda/lib/python3.7/site-packages/sklearn/model_selection/_validation.py\", line 531, in _fit_and_score\n",
      "    estimator.fit(X_train, y_train, **fit_params)\n",
      "  File \"/opt/conda/lib/python3.7/site-packages/sklearn/ensemble/_weight_boosting.py\", line 443, in fit\n",
      "    return super().fit(X, y, sample_weight)\n",
      "  File \"/opt/conda/lib/python3.7/site-packages/sklearn/ensemble/_weight_boosting.py\", line 134, in fit\n",
      "    random_state)\n",
      "  File \"/opt/conda/lib/python3.7/site-packages/sklearn/ensemble/_weight_boosting.py\", line 507, in _boost\n",
      "    random_state)\n",
      "  File \"/opt/conda/lib/python3.7/site-packages/sklearn/ensemble/_weight_boosting.py\", line 571, in _boost_discrete\n",
      "    estimator.fit(X, y, sample_weight=sample_weight)\n",
      "  File \"/opt/conda/lib/python3.7/site-packages/sklearn/tree/_classes.py\", line 894, in fit\n",
      "    X_idx_sorted=X_idx_sorted)\n",
      "  File \"/opt/conda/lib/python3.7/site-packages/sklearn/tree/_classes.py\", line 288, in fit\n",
      "    sample_weight = _check_sample_weight(sample_weight, X, DOUBLE)\n",
      "  File \"/opt/conda/lib/python3.7/site-packages/sklearn/utils/validation.py\", line 1296, in _check_sample_weight\n",
      "    order=\"C\"\n",
      "  File \"/opt/conda/lib/python3.7/site-packages/sklearn/utils/validation.py\", line 72, in inner_f\n",
      "    return f(**kwargs)\n",
      "  File \"/opt/conda/lib/python3.7/site-packages/sklearn/utils/validation.py\", line 645, in check_array\n",
      "    allow_nan=force_all_finite == 'allow-nan')\n",
      "  File \"/opt/conda/lib/python3.7/site-packages/sklearn/utils/validation.py\", line 99, in _assert_all_finite\n",
      "    msg_dtype if msg_dtype is not None else X.dtype)\n",
      "ValueError: Input contains NaN, infinity or a value too large for dtype('float64').\n",
      "\n",
      "  FitFailedWarning)\n",
      "/opt/conda/lib/python3.7/site-packages/sklearn/ensemble/_weight_boosting.py:610: RuntimeWarning: overflow encountered in exp\n",
      "  (sample_weight > 0))\n",
      "/opt/conda/lib/python3.7/site-packages/sklearn/ensemble/_weight_boosting.py:155: RuntimeWarning: invalid value encountered in true_divide\n",
      "  sample_weight /= sample_weight_sum\n",
      "/opt/conda/lib/python3.7/site-packages/sklearn/model_selection/_validation.py:552: FitFailedWarning: Estimator fit failed. The score on this train-test partition for these parameters will be set to nan. Details: \n",
      "Traceback (most recent call last):\n",
      "  File \"/opt/conda/lib/python3.7/site-packages/sklearn/model_selection/_validation.py\", line 531, in _fit_and_score\n",
      "    estimator.fit(X_train, y_train, **fit_params)\n",
      "  File \"/opt/conda/lib/python3.7/site-packages/sklearn/ensemble/_weight_boosting.py\", line 443, in fit\n",
      "    return super().fit(X, y, sample_weight)\n",
      "  File \"/opt/conda/lib/python3.7/site-packages/sklearn/ensemble/_weight_boosting.py\", line 134, in fit\n",
      "    random_state)\n",
      "  File \"/opt/conda/lib/python3.7/site-packages/sklearn/ensemble/_weight_boosting.py\", line 507, in _boost\n",
      "    random_state)\n",
      "  File \"/opt/conda/lib/python3.7/site-packages/sklearn/ensemble/_weight_boosting.py\", line 571, in _boost_discrete\n",
      "    estimator.fit(X, y, sample_weight=sample_weight)\n",
      "  File \"/opt/conda/lib/python3.7/site-packages/sklearn/tree/_classes.py\", line 894, in fit\n",
      "    X_idx_sorted=X_idx_sorted)\n",
      "  File \"/opt/conda/lib/python3.7/site-packages/sklearn/tree/_classes.py\", line 288, in fit\n",
      "    sample_weight = _check_sample_weight(sample_weight, X, DOUBLE)\n",
      "  File \"/opt/conda/lib/python3.7/site-packages/sklearn/utils/validation.py\", line 1296, in _check_sample_weight\n",
      "    order=\"C\"\n",
      "  File \"/opt/conda/lib/python3.7/site-packages/sklearn/utils/validation.py\", line 72, in inner_f\n",
      "    return f(**kwargs)\n",
      "  File \"/opt/conda/lib/python3.7/site-packages/sklearn/utils/validation.py\", line 645, in check_array\n",
      "    allow_nan=force_all_finite == 'allow-nan')\n",
      "  File \"/opt/conda/lib/python3.7/site-packages/sklearn/utils/validation.py\", line 99, in _assert_all_finite\n",
      "    msg_dtype if msg_dtype is not None else X.dtype)\n",
      "ValueError: Input contains NaN, infinity or a value too large for dtype('float64').\n",
      "\n",
      "  FitFailedWarning)\n",
      "/opt/conda/lib/python3.7/site-packages/sklearn/ensemble/_weight_boosting.py:610: RuntimeWarning: overflow encountered in exp\n",
      "  (sample_weight > 0))\n",
      "/opt/conda/lib/python3.7/site-packages/sklearn/ensemble/_weight_boosting.py:155: RuntimeWarning: invalid value encountered in true_divide\n",
      "  sample_weight /= sample_weight_sum\n",
      "/opt/conda/lib/python3.7/site-packages/sklearn/model_selection/_validation.py:552: FitFailedWarning: Estimator fit failed. The score on this train-test partition for these parameters will be set to nan. Details: \n",
      "Traceback (most recent call last):\n",
      "  File \"/opt/conda/lib/python3.7/site-packages/sklearn/model_selection/_validation.py\", line 531, in _fit_and_score\n",
      "    estimator.fit(X_train, y_train, **fit_params)\n",
      "  File \"/opt/conda/lib/python3.7/site-packages/sklearn/ensemble/_weight_boosting.py\", line 443, in fit\n",
      "    return super().fit(X, y, sample_weight)\n",
      "  File \"/opt/conda/lib/python3.7/site-packages/sklearn/ensemble/_weight_boosting.py\", line 134, in fit\n",
      "    random_state)\n",
      "  File \"/opt/conda/lib/python3.7/site-packages/sklearn/ensemble/_weight_boosting.py\", line 507, in _boost\n",
      "    random_state)\n",
      "  File \"/opt/conda/lib/python3.7/site-packages/sklearn/ensemble/_weight_boosting.py\", line 571, in _boost_discrete\n",
      "    estimator.fit(X, y, sample_weight=sample_weight)\n",
      "  File \"/opt/conda/lib/python3.7/site-packages/sklearn/tree/_classes.py\", line 894, in fit\n",
      "    X_idx_sorted=X_idx_sorted)\n",
      "  File \"/opt/conda/lib/python3.7/site-packages/sklearn/tree/_classes.py\", line 288, in fit\n",
      "    sample_weight = _check_sample_weight(sample_weight, X, DOUBLE)\n",
      "  File \"/opt/conda/lib/python3.7/site-packages/sklearn/utils/validation.py\", line 1296, in _check_sample_weight\n",
      "    order=\"C\"\n",
      "  File \"/opt/conda/lib/python3.7/site-packages/sklearn/utils/validation.py\", line 72, in inner_f\n",
      "    return f(**kwargs)\n",
      "  File \"/opt/conda/lib/python3.7/site-packages/sklearn/utils/validation.py\", line 645, in check_array\n",
      "    allow_nan=force_all_finite == 'allow-nan')\n",
      "  File \"/opt/conda/lib/python3.7/site-packages/sklearn/utils/validation.py\", line 99, in _assert_all_finite\n",
      "    msg_dtype if msg_dtype is not None else X.dtype)\n",
      "ValueError: Input contains NaN, infinity or a value too large for dtype('float64').\n",
      "\n",
      "  FitFailedWarning)\n",
      "/opt/conda/lib/python3.7/site-packages/sklearn/ensemble/_weight_boosting.py:610: RuntimeWarning: overflow encountered in exp\n",
      "  (sample_weight > 0))\n",
      "/opt/conda/lib/python3.7/site-packages/sklearn/ensemble/_weight_boosting.py:155: RuntimeWarning: invalid value encountered in true_divide\n",
      "  sample_weight /= sample_weight_sum\n",
      "/opt/conda/lib/python3.7/site-packages/sklearn/model_selection/_validation.py:552: FitFailedWarning: Estimator fit failed. The score on this train-test partition for these parameters will be set to nan. Details: \n",
      "Traceback (most recent call last):\n",
      "  File \"/opt/conda/lib/python3.7/site-packages/sklearn/model_selection/_validation.py\", line 531, in _fit_and_score\n",
      "    estimator.fit(X_train, y_train, **fit_params)\n",
      "  File \"/opt/conda/lib/python3.7/site-packages/sklearn/ensemble/_weight_boosting.py\", line 443, in fit\n",
      "    return super().fit(X, y, sample_weight)\n",
      "  File \"/opt/conda/lib/python3.7/site-packages/sklearn/ensemble/_weight_boosting.py\", line 134, in fit\n",
      "    random_state)\n",
      "  File \"/opt/conda/lib/python3.7/site-packages/sklearn/ensemble/_weight_boosting.py\", line 507, in _boost\n",
      "    random_state)\n",
      "  File \"/opt/conda/lib/python3.7/site-packages/sklearn/ensemble/_weight_boosting.py\", line 571, in _boost_discrete\n",
      "    estimator.fit(X, y, sample_weight=sample_weight)\n",
      "  File \"/opt/conda/lib/python3.7/site-packages/sklearn/tree/_classes.py\", line 894, in fit\n",
      "    X_idx_sorted=X_idx_sorted)\n",
      "  File \"/opt/conda/lib/python3.7/site-packages/sklearn/tree/_classes.py\", line 288, in fit\n",
      "    sample_weight = _check_sample_weight(sample_weight, X, DOUBLE)\n",
      "  File \"/opt/conda/lib/python3.7/site-packages/sklearn/utils/validation.py\", line 1296, in _check_sample_weight\n",
      "    order=\"C\"\n",
      "  File \"/opt/conda/lib/python3.7/site-packages/sklearn/utils/validation.py\", line 72, in inner_f\n",
      "    return f(**kwargs)\n",
      "  File \"/opt/conda/lib/python3.7/site-packages/sklearn/utils/validation.py\", line 645, in check_array\n",
      "    allow_nan=force_all_finite == 'allow-nan')\n",
      "  File \"/opt/conda/lib/python3.7/site-packages/sklearn/utils/validation.py\", line 99, in _assert_all_finite\n",
      "    msg_dtype if msg_dtype is not None else X.dtype)\n",
      "ValueError: Input contains NaN, infinity or a value too large for dtype('float64').\n",
      "\n",
      "  FitFailedWarning)\n",
      "/opt/conda/lib/python3.7/site-packages/sklearn/ensemble/_weight_boosting.py:610: RuntimeWarning: overflow encountered in exp\n",
      "  (sample_weight > 0))\n",
      "/opt/conda/lib/python3.7/site-packages/sklearn/ensemble/_weight_boosting.py:155: RuntimeWarning: invalid value encountered in true_divide\n",
      "  sample_weight /= sample_weight_sum\n",
      "/opt/conda/lib/python3.7/site-packages/sklearn/model_selection/_validation.py:552: FitFailedWarning: Estimator fit failed. The score on this train-test partition for these parameters will be set to nan. Details: \n",
      "Traceback (most recent call last):\n",
      "  File \"/opt/conda/lib/python3.7/site-packages/sklearn/model_selection/_validation.py\", line 531, in _fit_and_score\n",
      "    estimator.fit(X_train, y_train, **fit_params)\n",
      "  File \"/opt/conda/lib/python3.7/site-packages/sklearn/ensemble/_weight_boosting.py\", line 443, in fit\n",
      "    return super().fit(X, y, sample_weight)\n",
      "  File \"/opt/conda/lib/python3.7/site-packages/sklearn/ensemble/_weight_boosting.py\", line 134, in fit\n",
      "    random_state)\n",
      "  File \"/opt/conda/lib/python3.7/site-packages/sklearn/ensemble/_weight_boosting.py\", line 507, in _boost\n",
      "    random_state)\n",
      "  File \"/opt/conda/lib/python3.7/site-packages/sklearn/ensemble/_weight_boosting.py\", line 571, in _boost_discrete\n",
      "    estimator.fit(X, y, sample_weight=sample_weight)\n",
      "  File \"/opt/conda/lib/python3.7/site-packages/sklearn/tree/_classes.py\", line 894, in fit\n",
      "    X_idx_sorted=X_idx_sorted)\n",
      "  File \"/opt/conda/lib/python3.7/site-packages/sklearn/tree/_classes.py\", line 288, in fit\n",
      "    sample_weight = _check_sample_weight(sample_weight, X, DOUBLE)\n",
      "  File \"/opt/conda/lib/python3.7/site-packages/sklearn/utils/validation.py\", line 1296, in _check_sample_weight\n",
      "    order=\"C\"\n",
      "  File \"/opt/conda/lib/python3.7/site-packages/sklearn/utils/validation.py\", line 72, in inner_f\n",
      "    return f(**kwargs)\n",
      "  File \"/opt/conda/lib/python3.7/site-packages/sklearn/utils/validation.py\", line 645, in check_array\n",
      "    allow_nan=force_all_finite == 'allow-nan')\n",
      "  File \"/opt/conda/lib/python3.7/site-packages/sklearn/utils/validation.py\", line 99, in _assert_all_finite\n",
      "    msg_dtype if msg_dtype is not None else X.dtype)\n",
      "ValueError: Input contains NaN, infinity or a value too large for dtype('float64').\n",
      "\n",
      "  FitFailedWarning)\n",
      "/opt/conda/lib/python3.7/site-packages/sklearn/ensemble/_weight_boosting.py:610: RuntimeWarning: overflow encountered in exp\n",
      "  (sample_weight > 0))\n",
      "/opt/conda/lib/python3.7/site-packages/sklearn/ensemble/_weight_boosting.py:155: RuntimeWarning: invalid value encountered in true_divide\n",
      "  sample_weight /= sample_weight_sum\n",
      "/opt/conda/lib/python3.7/site-packages/sklearn/model_selection/_validation.py:552: FitFailedWarning: Estimator fit failed. The score on this train-test partition for these parameters will be set to nan. Details: \n",
      "Traceback (most recent call last):\n",
      "  File \"/opt/conda/lib/python3.7/site-packages/sklearn/model_selection/_validation.py\", line 531, in _fit_and_score\n",
      "    estimator.fit(X_train, y_train, **fit_params)\n",
      "  File \"/opt/conda/lib/python3.7/site-packages/sklearn/ensemble/_weight_boosting.py\", line 443, in fit\n",
      "    return super().fit(X, y, sample_weight)\n",
      "  File \"/opt/conda/lib/python3.7/site-packages/sklearn/ensemble/_weight_boosting.py\", line 134, in fit\n",
      "    random_state)\n",
      "  File \"/opt/conda/lib/python3.7/site-packages/sklearn/ensemble/_weight_boosting.py\", line 507, in _boost\n",
      "    random_state)\n",
      "  File \"/opt/conda/lib/python3.7/site-packages/sklearn/ensemble/_weight_boosting.py\", line 571, in _boost_discrete\n",
      "    estimator.fit(X, y, sample_weight=sample_weight)\n",
      "  File \"/opt/conda/lib/python3.7/site-packages/sklearn/tree/_classes.py\", line 894, in fit\n",
      "    X_idx_sorted=X_idx_sorted)\n",
      "  File \"/opt/conda/lib/python3.7/site-packages/sklearn/tree/_classes.py\", line 288, in fit\n",
      "    sample_weight = _check_sample_weight(sample_weight, X, DOUBLE)\n",
      "  File \"/opt/conda/lib/python3.7/site-packages/sklearn/utils/validation.py\", line 1296, in _check_sample_weight\n",
      "    order=\"C\"\n",
      "  File \"/opt/conda/lib/python3.7/site-packages/sklearn/utils/validation.py\", line 72, in inner_f\n",
      "    return f(**kwargs)\n",
      "  File \"/opt/conda/lib/python3.7/site-packages/sklearn/utils/validation.py\", line 645, in check_array\n",
      "    allow_nan=force_all_finite == 'allow-nan')\n",
      "  File \"/opt/conda/lib/python3.7/site-packages/sklearn/utils/validation.py\", line 99, in _assert_all_finite\n",
      "    msg_dtype if msg_dtype is not None else X.dtype)\n",
      "ValueError: Input contains NaN, infinity or a value too large for dtype('float64').\n",
      "\n",
      "  FitFailedWarning)\n",
      "/opt/conda/lib/python3.7/site-packages/sklearn/ensemble/_weight_boosting.py:610: RuntimeWarning: overflow encountered in exp\n",
      "  (sample_weight > 0))\n",
      "/opt/conda/lib/python3.7/site-packages/sklearn/ensemble/_weight_boosting.py:155: RuntimeWarning: invalid value encountered in true_divide\n",
      "  sample_weight /= sample_weight_sum\n",
      "/opt/conda/lib/python3.7/site-packages/sklearn/model_selection/_validation.py:552: FitFailedWarning: Estimator fit failed. The score on this train-test partition for these parameters will be set to nan. Details: \n",
      "Traceback (most recent call last):\n",
      "  File \"/opt/conda/lib/python3.7/site-packages/sklearn/model_selection/_validation.py\", line 531, in _fit_and_score\n",
      "    estimator.fit(X_train, y_train, **fit_params)\n",
      "  File \"/opt/conda/lib/python3.7/site-packages/sklearn/ensemble/_weight_boosting.py\", line 443, in fit\n",
      "    return super().fit(X, y, sample_weight)\n",
      "  File \"/opt/conda/lib/python3.7/site-packages/sklearn/ensemble/_weight_boosting.py\", line 134, in fit\n",
      "    random_state)\n",
      "  File \"/opt/conda/lib/python3.7/site-packages/sklearn/ensemble/_weight_boosting.py\", line 507, in _boost\n",
      "    random_state)\n",
      "  File \"/opt/conda/lib/python3.7/site-packages/sklearn/ensemble/_weight_boosting.py\", line 571, in _boost_discrete\n",
      "    estimator.fit(X, y, sample_weight=sample_weight)\n",
      "  File \"/opt/conda/lib/python3.7/site-packages/sklearn/tree/_classes.py\", line 894, in fit\n",
      "    X_idx_sorted=X_idx_sorted)\n",
      "  File \"/opt/conda/lib/python3.7/site-packages/sklearn/tree/_classes.py\", line 288, in fit\n",
      "    sample_weight = _check_sample_weight(sample_weight, X, DOUBLE)\n",
      "  File \"/opt/conda/lib/python3.7/site-packages/sklearn/utils/validation.py\", line 1296, in _check_sample_weight\n",
      "    order=\"C\"\n",
      "  File \"/opt/conda/lib/python3.7/site-packages/sklearn/utils/validation.py\", line 72, in inner_f\n",
      "    return f(**kwargs)\n",
      "  File \"/opt/conda/lib/python3.7/site-packages/sklearn/utils/validation.py\", line 645, in check_array\n",
      "    allow_nan=force_all_finite == 'allow-nan')\n",
      "  File \"/opt/conda/lib/python3.7/site-packages/sklearn/utils/validation.py\", line 99, in _assert_all_finite\n",
      "    msg_dtype if msg_dtype is not None else X.dtype)\n",
      "ValueError: Input contains NaN, infinity or a value too large for dtype('float64').\n",
      "\n",
      "  FitFailedWarning)\n",
      "/opt/conda/lib/python3.7/site-packages/sklearn/ensemble/_weight_boosting.py:610: RuntimeWarning: overflow encountered in exp\n",
      "  (sample_weight > 0))\n",
      "/opt/conda/lib/python3.7/site-packages/sklearn/ensemble/_weight_boosting.py:155: RuntimeWarning: invalid value encountered in true_divide\n",
      "  sample_weight /= sample_weight_sum\n",
      "/opt/conda/lib/python3.7/site-packages/sklearn/model_selection/_validation.py:552: FitFailedWarning: Estimator fit failed. The score on this train-test partition for these parameters will be set to nan. Details: \n",
      "Traceback (most recent call last):\n",
      "  File \"/opt/conda/lib/python3.7/site-packages/sklearn/model_selection/_validation.py\", line 531, in _fit_and_score\n",
      "    estimator.fit(X_train, y_train, **fit_params)\n",
      "  File \"/opt/conda/lib/python3.7/site-packages/sklearn/ensemble/_weight_boosting.py\", line 443, in fit\n",
      "    return super().fit(X, y, sample_weight)\n",
      "  File \"/opt/conda/lib/python3.7/site-packages/sklearn/ensemble/_weight_boosting.py\", line 134, in fit\n",
      "    random_state)\n",
      "  File \"/opt/conda/lib/python3.7/site-packages/sklearn/ensemble/_weight_boosting.py\", line 507, in _boost\n",
      "    random_state)\n",
      "  File \"/opt/conda/lib/python3.7/site-packages/sklearn/ensemble/_weight_boosting.py\", line 571, in _boost_discrete\n",
      "    estimator.fit(X, y, sample_weight=sample_weight)\n",
      "  File \"/opt/conda/lib/python3.7/site-packages/sklearn/tree/_classes.py\", line 894, in fit\n",
      "    X_idx_sorted=X_idx_sorted)\n",
      "  File \"/opt/conda/lib/python3.7/site-packages/sklearn/tree/_classes.py\", line 288, in fit\n",
      "    sample_weight = _check_sample_weight(sample_weight, X, DOUBLE)\n",
      "  File \"/opt/conda/lib/python3.7/site-packages/sklearn/utils/validation.py\", line 1296, in _check_sample_weight\n",
      "    order=\"C\"\n",
      "  File \"/opt/conda/lib/python3.7/site-packages/sklearn/utils/validation.py\", line 72, in inner_f\n",
      "    return f(**kwargs)\n",
      "  File \"/opt/conda/lib/python3.7/site-packages/sklearn/utils/validation.py\", line 645, in check_array\n",
      "    allow_nan=force_all_finite == 'allow-nan')\n",
      "  File \"/opt/conda/lib/python3.7/site-packages/sklearn/utils/validation.py\", line 99, in _assert_all_finite\n",
      "    msg_dtype if msg_dtype is not None else X.dtype)\n",
      "ValueError: Input contains NaN, infinity or a value too large for dtype('float64').\n",
      "\n",
      "  FitFailedWarning)\n",
      "/opt/conda/lib/python3.7/site-packages/sklearn/ensemble/_weight_boosting.py:610: RuntimeWarning: overflow encountered in exp\n",
      "  (sample_weight > 0))\n",
      "/opt/conda/lib/python3.7/site-packages/sklearn/ensemble/_weight_boosting.py:155: RuntimeWarning: invalid value encountered in true_divide\n",
      "  sample_weight /= sample_weight_sum\n",
      "/opt/conda/lib/python3.7/site-packages/sklearn/model_selection/_validation.py:552: FitFailedWarning: Estimator fit failed. The score on this train-test partition for these parameters will be set to nan. Details: \n",
      "Traceback (most recent call last):\n",
      "  File \"/opt/conda/lib/python3.7/site-packages/sklearn/model_selection/_validation.py\", line 531, in _fit_and_score\n",
      "    estimator.fit(X_train, y_train, **fit_params)\n",
      "  File \"/opt/conda/lib/python3.7/site-packages/sklearn/ensemble/_weight_boosting.py\", line 443, in fit\n",
      "    return super().fit(X, y, sample_weight)\n",
      "  File \"/opt/conda/lib/python3.7/site-packages/sklearn/ensemble/_weight_boosting.py\", line 134, in fit\n",
      "    random_state)\n",
      "  File \"/opt/conda/lib/python3.7/site-packages/sklearn/ensemble/_weight_boosting.py\", line 507, in _boost\n",
      "    random_state)\n",
      "  File \"/opt/conda/lib/python3.7/site-packages/sklearn/ensemble/_weight_boosting.py\", line 571, in _boost_discrete\n",
      "    estimator.fit(X, y, sample_weight=sample_weight)\n",
      "  File \"/opt/conda/lib/python3.7/site-packages/sklearn/tree/_classes.py\", line 894, in fit\n",
      "    X_idx_sorted=X_idx_sorted)\n",
      "  File \"/opt/conda/lib/python3.7/site-packages/sklearn/tree/_classes.py\", line 288, in fit\n",
      "    sample_weight = _check_sample_weight(sample_weight, X, DOUBLE)\n",
      "  File \"/opt/conda/lib/python3.7/site-packages/sklearn/utils/validation.py\", line 1296, in _check_sample_weight\n",
      "    order=\"C\"\n",
      "  File \"/opt/conda/lib/python3.7/site-packages/sklearn/utils/validation.py\", line 72, in inner_f\n",
      "    return f(**kwargs)\n",
      "  File \"/opt/conda/lib/python3.7/site-packages/sklearn/utils/validation.py\", line 645, in check_array\n",
      "    allow_nan=force_all_finite == 'allow-nan')\n",
      "  File \"/opt/conda/lib/python3.7/site-packages/sklearn/utils/validation.py\", line 99, in _assert_all_finite\n",
      "    msg_dtype if msg_dtype is not None else X.dtype)\n",
      "ValueError: Input contains NaN, infinity or a value too large for dtype('float64').\n",
      "\n",
      "  FitFailedWarning)\n",
      "/opt/conda/lib/python3.7/site-packages/sklearn/ensemble/_weight_boosting.py:610: RuntimeWarning: overflow encountered in exp\n",
      "  (sample_weight > 0))\n",
      "/opt/conda/lib/python3.7/site-packages/sklearn/ensemble/_weight_boosting.py:155: RuntimeWarning: invalid value encountered in true_divide\n",
      "  sample_weight /= sample_weight_sum\n",
      "/opt/conda/lib/python3.7/site-packages/sklearn/model_selection/_validation.py:552: FitFailedWarning: Estimator fit failed. The score on this train-test partition for these parameters will be set to nan. Details: \n",
      "Traceback (most recent call last):\n",
      "  File \"/opt/conda/lib/python3.7/site-packages/sklearn/model_selection/_validation.py\", line 531, in _fit_and_score\n",
      "    estimator.fit(X_train, y_train, **fit_params)\n",
      "  File \"/opt/conda/lib/python3.7/site-packages/sklearn/ensemble/_weight_boosting.py\", line 443, in fit\n",
      "    return super().fit(X, y, sample_weight)\n",
      "  File \"/opt/conda/lib/python3.7/site-packages/sklearn/ensemble/_weight_boosting.py\", line 134, in fit\n",
      "    random_state)\n",
      "  File \"/opt/conda/lib/python3.7/site-packages/sklearn/ensemble/_weight_boosting.py\", line 507, in _boost\n",
      "    random_state)\n",
      "  File \"/opt/conda/lib/python3.7/site-packages/sklearn/ensemble/_weight_boosting.py\", line 571, in _boost_discrete\n",
      "    estimator.fit(X, y, sample_weight=sample_weight)\n",
      "  File \"/opt/conda/lib/python3.7/site-packages/sklearn/tree/_classes.py\", line 894, in fit\n",
      "    X_idx_sorted=X_idx_sorted)\n",
      "  File \"/opt/conda/lib/python3.7/site-packages/sklearn/tree/_classes.py\", line 288, in fit\n",
      "    sample_weight = _check_sample_weight(sample_weight, X, DOUBLE)\n",
      "  File \"/opt/conda/lib/python3.7/site-packages/sklearn/utils/validation.py\", line 1296, in _check_sample_weight\n",
      "    order=\"C\"\n",
      "  File \"/opt/conda/lib/python3.7/site-packages/sklearn/utils/validation.py\", line 72, in inner_f\n",
      "    return f(**kwargs)\n",
      "  File \"/opt/conda/lib/python3.7/site-packages/sklearn/utils/validation.py\", line 645, in check_array\n",
      "    allow_nan=force_all_finite == 'allow-nan')\n",
      "  File \"/opt/conda/lib/python3.7/site-packages/sklearn/utils/validation.py\", line 99, in _assert_all_finite\n",
      "    msg_dtype if msg_dtype is not None else X.dtype)\n",
      "ValueError: Input contains NaN, infinity or a value too large for dtype('float64').\n",
      "\n",
      "  FitFailedWarning)\n",
      "/opt/conda/lib/python3.7/site-packages/sklearn/ensemble/_weight_boosting.py:610: RuntimeWarning: overflow encountered in exp\n",
      "  (sample_weight > 0))\n",
      "/opt/conda/lib/python3.7/site-packages/sklearn/ensemble/_weight_boosting.py:155: RuntimeWarning: invalid value encountered in true_divide\n",
      "  sample_weight /= sample_weight_sum\n",
      "/opt/conda/lib/python3.7/site-packages/sklearn/model_selection/_validation.py:552: FitFailedWarning: Estimator fit failed. The score on this train-test partition for these parameters will be set to nan. Details: \n",
      "Traceback (most recent call last):\n",
      "  File \"/opt/conda/lib/python3.7/site-packages/sklearn/model_selection/_validation.py\", line 531, in _fit_and_score\n",
      "    estimator.fit(X_train, y_train, **fit_params)\n",
      "  File \"/opt/conda/lib/python3.7/site-packages/sklearn/ensemble/_weight_boosting.py\", line 443, in fit\n",
      "    return super().fit(X, y, sample_weight)\n",
      "  File \"/opt/conda/lib/python3.7/site-packages/sklearn/ensemble/_weight_boosting.py\", line 134, in fit\n",
      "    random_state)\n",
      "  File \"/opt/conda/lib/python3.7/site-packages/sklearn/ensemble/_weight_boosting.py\", line 507, in _boost\n",
      "    random_state)\n",
      "  File \"/opt/conda/lib/python3.7/site-packages/sklearn/ensemble/_weight_boosting.py\", line 571, in _boost_discrete\n",
      "    estimator.fit(X, y, sample_weight=sample_weight)\n",
      "  File \"/opt/conda/lib/python3.7/site-packages/sklearn/tree/_classes.py\", line 894, in fit\n",
      "    X_idx_sorted=X_idx_sorted)\n",
      "  File \"/opt/conda/lib/python3.7/site-packages/sklearn/tree/_classes.py\", line 288, in fit\n",
      "    sample_weight = _check_sample_weight(sample_weight, X, DOUBLE)\n",
      "  File \"/opt/conda/lib/python3.7/site-packages/sklearn/utils/validation.py\", line 1296, in _check_sample_weight\n",
      "    order=\"C\"\n",
      "  File \"/opt/conda/lib/python3.7/site-packages/sklearn/utils/validation.py\", line 72, in inner_f\n",
      "    return f(**kwargs)\n",
      "  File \"/opt/conda/lib/python3.7/site-packages/sklearn/utils/validation.py\", line 645, in check_array\n",
      "    allow_nan=force_all_finite == 'allow-nan')\n",
      "  File \"/opt/conda/lib/python3.7/site-packages/sklearn/utils/validation.py\", line 99, in _assert_all_finite\n",
      "    msg_dtype if msg_dtype is not None else X.dtype)\n",
      "ValueError: Input contains NaN, infinity or a value too large for dtype('float64').\n",
      "\n",
      "  FitFailedWarning)\n",
      "/opt/conda/lib/python3.7/site-packages/sklearn/ensemble/_weight_boosting.py:610: RuntimeWarning: overflow encountered in exp\n",
      "  (sample_weight > 0))\n",
      "/opt/conda/lib/python3.7/site-packages/sklearn/ensemble/_weight_boosting.py:155: RuntimeWarning: invalid value encountered in true_divide\n",
      "  sample_weight /= sample_weight_sum\n",
      "/opt/conda/lib/python3.7/site-packages/sklearn/model_selection/_validation.py:552: FitFailedWarning: Estimator fit failed. The score on this train-test partition for these parameters will be set to nan. Details: \n",
      "Traceback (most recent call last):\n",
      "  File \"/opt/conda/lib/python3.7/site-packages/sklearn/model_selection/_validation.py\", line 531, in _fit_and_score\n",
      "    estimator.fit(X_train, y_train, **fit_params)\n",
      "  File \"/opt/conda/lib/python3.7/site-packages/sklearn/ensemble/_weight_boosting.py\", line 443, in fit\n",
      "    return super().fit(X, y, sample_weight)\n",
      "  File \"/opt/conda/lib/python3.7/site-packages/sklearn/ensemble/_weight_boosting.py\", line 134, in fit\n",
      "    random_state)\n",
      "  File \"/opt/conda/lib/python3.7/site-packages/sklearn/ensemble/_weight_boosting.py\", line 507, in _boost\n",
      "    random_state)\n",
      "  File \"/opt/conda/lib/python3.7/site-packages/sklearn/ensemble/_weight_boosting.py\", line 571, in _boost_discrete\n",
      "    estimator.fit(X, y, sample_weight=sample_weight)\n",
      "  File \"/opt/conda/lib/python3.7/site-packages/sklearn/tree/_classes.py\", line 894, in fit\n",
      "    X_idx_sorted=X_idx_sorted)\n",
      "  File \"/opt/conda/lib/python3.7/site-packages/sklearn/tree/_classes.py\", line 288, in fit\n",
      "    sample_weight = _check_sample_weight(sample_weight, X, DOUBLE)\n",
      "  File \"/opt/conda/lib/python3.7/site-packages/sklearn/utils/validation.py\", line 1296, in _check_sample_weight\n",
      "    order=\"C\"\n",
      "  File \"/opt/conda/lib/python3.7/site-packages/sklearn/utils/validation.py\", line 72, in inner_f\n",
      "    return f(**kwargs)\n",
      "  File \"/opt/conda/lib/python3.7/site-packages/sklearn/utils/validation.py\", line 645, in check_array\n",
      "    allow_nan=force_all_finite == 'allow-nan')\n",
      "  File \"/opt/conda/lib/python3.7/site-packages/sklearn/utils/validation.py\", line 99, in _assert_all_finite\n",
      "    msg_dtype if msg_dtype is not None else X.dtype)\n",
      "ValueError: Input contains NaN, infinity or a value too large for dtype('float64').\n",
      "\n",
      "  FitFailedWarning)\n",
      "/opt/conda/lib/python3.7/site-packages/sklearn/ensemble/_weight_boosting.py:610: RuntimeWarning: overflow encountered in exp\n",
      "  (sample_weight > 0))\n",
      "/opt/conda/lib/python3.7/site-packages/sklearn/ensemble/_weight_boosting.py:155: RuntimeWarning: invalid value encountered in true_divide\n",
      "  sample_weight /= sample_weight_sum\n",
      "/opt/conda/lib/python3.7/site-packages/sklearn/model_selection/_validation.py:552: FitFailedWarning: Estimator fit failed. The score on this train-test partition for these parameters will be set to nan. Details: \n",
      "Traceback (most recent call last):\n",
      "  File \"/opt/conda/lib/python3.7/site-packages/sklearn/model_selection/_validation.py\", line 531, in _fit_and_score\n",
      "    estimator.fit(X_train, y_train, **fit_params)\n",
      "  File \"/opt/conda/lib/python3.7/site-packages/sklearn/ensemble/_weight_boosting.py\", line 443, in fit\n",
      "    return super().fit(X, y, sample_weight)\n",
      "  File \"/opt/conda/lib/python3.7/site-packages/sklearn/ensemble/_weight_boosting.py\", line 134, in fit\n",
      "    random_state)\n",
      "  File \"/opt/conda/lib/python3.7/site-packages/sklearn/ensemble/_weight_boosting.py\", line 507, in _boost\n",
      "    random_state)\n",
      "  File \"/opt/conda/lib/python3.7/site-packages/sklearn/ensemble/_weight_boosting.py\", line 571, in _boost_discrete\n",
      "    estimator.fit(X, y, sample_weight=sample_weight)\n",
      "  File \"/opt/conda/lib/python3.7/site-packages/sklearn/tree/_classes.py\", line 894, in fit\n",
      "    X_idx_sorted=X_idx_sorted)\n",
      "  File \"/opt/conda/lib/python3.7/site-packages/sklearn/tree/_classes.py\", line 288, in fit\n",
      "    sample_weight = _check_sample_weight(sample_weight, X, DOUBLE)\n",
      "  File \"/opt/conda/lib/python3.7/site-packages/sklearn/utils/validation.py\", line 1296, in _check_sample_weight\n",
      "    order=\"C\"\n",
      "  File \"/opt/conda/lib/python3.7/site-packages/sklearn/utils/validation.py\", line 72, in inner_f\n",
      "    return f(**kwargs)\n",
      "  File \"/opt/conda/lib/python3.7/site-packages/sklearn/utils/validation.py\", line 645, in check_array\n",
      "    allow_nan=force_all_finite == 'allow-nan')\n",
      "  File \"/opt/conda/lib/python3.7/site-packages/sklearn/utils/validation.py\", line 99, in _assert_all_finite\n",
      "    msg_dtype if msg_dtype is not None else X.dtype)\n",
      "ValueError: Input contains NaN, infinity or a value too large for dtype('float64').\n",
      "\n",
      "  FitFailedWarning)\n",
      "/opt/conda/lib/python3.7/site-packages/sklearn/ensemble/_weight_boosting.py:610: RuntimeWarning: overflow encountered in exp\n",
      "  (sample_weight > 0))\n",
      "/opt/conda/lib/python3.7/site-packages/sklearn/ensemble/_weight_boosting.py:155: RuntimeWarning: invalid value encountered in true_divide\n",
      "  sample_weight /= sample_weight_sum\n",
      "/opt/conda/lib/python3.7/site-packages/sklearn/model_selection/_validation.py:552: FitFailedWarning: Estimator fit failed. The score on this train-test partition for these parameters will be set to nan. Details: \n",
      "Traceback (most recent call last):\n",
      "  File \"/opt/conda/lib/python3.7/site-packages/sklearn/model_selection/_validation.py\", line 531, in _fit_and_score\n",
      "    estimator.fit(X_train, y_train, **fit_params)\n",
      "  File \"/opt/conda/lib/python3.7/site-packages/sklearn/ensemble/_weight_boosting.py\", line 443, in fit\n",
      "    return super().fit(X, y, sample_weight)\n",
      "  File \"/opt/conda/lib/python3.7/site-packages/sklearn/ensemble/_weight_boosting.py\", line 134, in fit\n",
      "    random_state)\n",
      "  File \"/opt/conda/lib/python3.7/site-packages/sklearn/ensemble/_weight_boosting.py\", line 507, in _boost\n",
      "    random_state)\n",
      "  File \"/opt/conda/lib/python3.7/site-packages/sklearn/ensemble/_weight_boosting.py\", line 571, in _boost_discrete\n",
      "    estimator.fit(X, y, sample_weight=sample_weight)\n",
      "  File \"/opt/conda/lib/python3.7/site-packages/sklearn/tree/_classes.py\", line 894, in fit\n",
      "    X_idx_sorted=X_idx_sorted)\n",
      "  File \"/opt/conda/lib/python3.7/site-packages/sklearn/tree/_classes.py\", line 288, in fit\n",
      "    sample_weight = _check_sample_weight(sample_weight, X, DOUBLE)\n",
      "  File \"/opt/conda/lib/python3.7/site-packages/sklearn/utils/validation.py\", line 1296, in _check_sample_weight\n",
      "    order=\"C\"\n",
      "  File \"/opt/conda/lib/python3.7/site-packages/sklearn/utils/validation.py\", line 72, in inner_f\n",
      "    return f(**kwargs)\n",
      "  File \"/opt/conda/lib/python3.7/site-packages/sklearn/utils/validation.py\", line 645, in check_array\n",
      "    allow_nan=force_all_finite == 'allow-nan')\n",
      "  File \"/opt/conda/lib/python3.7/site-packages/sklearn/utils/validation.py\", line 99, in _assert_all_finite\n",
      "    msg_dtype if msg_dtype is not None else X.dtype)\n",
      "ValueError: Input contains NaN, infinity or a value too large for dtype('float64').\n",
      "\n",
      "  FitFailedWarning)\n",
      "/opt/conda/lib/python3.7/site-packages/sklearn/ensemble/_weight_boosting.py:610: RuntimeWarning: overflow encountered in exp\n",
      "  (sample_weight > 0))\n",
      "/opt/conda/lib/python3.7/site-packages/sklearn/ensemble/_weight_boosting.py:155: RuntimeWarning: invalid value encountered in true_divide\n",
      "  sample_weight /= sample_weight_sum\n",
      "/opt/conda/lib/python3.7/site-packages/sklearn/model_selection/_validation.py:552: FitFailedWarning: Estimator fit failed. The score on this train-test partition for these parameters will be set to nan. Details: \n",
      "Traceback (most recent call last):\n",
      "  File \"/opt/conda/lib/python3.7/site-packages/sklearn/model_selection/_validation.py\", line 531, in _fit_and_score\n",
      "    estimator.fit(X_train, y_train, **fit_params)\n",
      "  File \"/opt/conda/lib/python3.7/site-packages/sklearn/ensemble/_weight_boosting.py\", line 443, in fit\n",
      "    return super().fit(X, y, sample_weight)\n",
      "  File \"/opt/conda/lib/python3.7/site-packages/sklearn/ensemble/_weight_boosting.py\", line 134, in fit\n",
      "    random_state)\n",
      "  File \"/opt/conda/lib/python3.7/site-packages/sklearn/ensemble/_weight_boosting.py\", line 507, in _boost\n",
      "    random_state)\n",
      "  File \"/opt/conda/lib/python3.7/site-packages/sklearn/ensemble/_weight_boosting.py\", line 571, in _boost_discrete\n",
      "    estimator.fit(X, y, sample_weight=sample_weight)\n",
      "  File \"/opt/conda/lib/python3.7/site-packages/sklearn/tree/_classes.py\", line 894, in fit\n",
      "    X_idx_sorted=X_idx_sorted)\n",
      "  File \"/opt/conda/lib/python3.7/site-packages/sklearn/tree/_classes.py\", line 288, in fit\n",
      "    sample_weight = _check_sample_weight(sample_weight, X, DOUBLE)\n",
      "  File \"/opt/conda/lib/python3.7/site-packages/sklearn/utils/validation.py\", line 1296, in _check_sample_weight\n",
      "    order=\"C\"\n",
      "  File \"/opt/conda/lib/python3.7/site-packages/sklearn/utils/validation.py\", line 72, in inner_f\n",
      "    return f(**kwargs)\n",
      "  File \"/opt/conda/lib/python3.7/site-packages/sklearn/utils/validation.py\", line 645, in check_array\n",
      "    allow_nan=force_all_finite == 'allow-nan')\n",
      "  File \"/opt/conda/lib/python3.7/site-packages/sklearn/utils/validation.py\", line 99, in _assert_all_finite\n",
      "    msg_dtype if msg_dtype is not None else X.dtype)\n",
      "ValueError: Input contains NaN, infinity or a value too large for dtype('float64').\n",
      "\n",
      "  FitFailedWarning)\n",
      "/opt/conda/lib/python3.7/site-packages/sklearn/ensemble/_weight_boosting.py:610: RuntimeWarning: overflow encountered in exp\n",
      "  (sample_weight > 0))\n",
      "/opt/conda/lib/python3.7/site-packages/sklearn/ensemble/_weight_boosting.py:155: RuntimeWarning: invalid value encountered in true_divide\n",
      "  sample_weight /= sample_weight_sum\n",
      "/opt/conda/lib/python3.7/site-packages/sklearn/model_selection/_validation.py:552: FitFailedWarning: Estimator fit failed. The score on this train-test partition for these parameters will be set to nan. Details: \n",
      "Traceback (most recent call last):\n",
      "  File \"/opt/conda/lib/python3.7/site-packages/sklearn/model_selection/_validation.py\", line 531, in _fit_and_score\n",
      "    estimator.fit(X_train, y_train, **fit_params)\n",
      "  File \"/opt/conda/lib/python3.7/site-packages/sklearn/ensemble/_weight_boosting.py\", line 443, in fit\n",
      "    return super().fit(X, y, sample_weight)\n",
      "  File \"/opt/conda/lib/python3.7/site-packages/sklearn/ensemble/_weight_boosting.py\", line 134, in fit\n",
      "    random_state)\n",
      "  File \"/opt/conda/lib/python3.7/site-packages/sklearn/ensemble/_weight_boosting.py\", line 507, in _boost\n",
      "    random_state)\n",
      "  File \"/opt/conda/lib/python3.7/site-packages/sklearn/ensemble/_weight_boosting.py\", line 571, in _boost_discrete\n",
      "    estimator.fit(X, y, sample_weight=sample_weight)\n",
      "  File \"/opt/conda/lib/python3.7/site-packages/sklearn/tree/_classes.py\", line 894, in fit\n",
      "    X_idx_sorted=X_idx_sorted)\n",
      "  File \"/opt/conda/lib/python3.7/site-packages/sklearn/tree/_classes.py\", line 288, in fit\n",
      "    sample_weight = _check_sample_weight(sample_weight, X, DOUBLE)\n",
      "  File \"/opt/conda/lib/python3.7/site-packages/sklearn/utils/validation.py\", line 1296, in _check_sample_weight\n",
      "    order=\"C\"\n",
      "  File \"/opt/conda/lib/python3.7/site-packages/sklearn/utils/validation.py\", line 72, in inner_f\n",
      "    return f(**kwargs)\n",
      "  File \"/opt/conda/lib/python3.7/site-packages/sklearn/utils/validation.py\", line 645, in check_array\n",
      "    allow_nan=force_all_finite == 'allow-nan')\n",
      "  File \"/opt/conda/lib/python3.7/site-packages/sklearn/utils/validation.py\", line 99, in _assert_all_finite\n",
      "    msg_dtype if msg_dtype is not None else X.dtype)\n",
      "ValueError: Input contains NaN, infinity or a value too large for dtype('float64').\n",
      "\n",
      "  FitFailedWarning)\n",
      "/opt/conda/lib/python3.7/site-packages/sklearn/ensemble/_weight_boosting.py:610: RuntimeWarning: overflow encountered in exp\n",
      "  (sample_weight > 0))\n",
      "/opt/conda/lib/python3.7/site-packages/sklearn/ensemble/_weight_boosting.py:155: RuntimeWarning: invalid value encountered in true_divide\n",
      "  sample_weight /= sample_weight_sum\n",
      "/opt/conda/lib/python3.7/site-packages/sklearn/model_selection/_validation.py:552: FitFailedWarning: Estimator fit failed. The score on this train-test partition for these parameters will be set to nan. Details: \n",
      "Traceback (most recent call last):\n",
      "  File \"/opt/conda/lib/python3.7/site-packages/sklearn/model_selection/_validation.py\", line 531, in _fit_and_score\n",
      "    estimator.fit(X_train, y_train, **fit_params)\n",
      "  File \"/opt/conda/lib/python3.7/site-packages/sklearn/ensemble/_weight_boosting.py\", line 443, in fit\n",
      "    return super().fit(X, y, sample_weight)\n",
      "  File \"/opt/conda/lib/python3.7/site-packages/sklearn/ensemble/_weight_boosting.py\", line 134, in fit\n",
      "    random_state)\n",
      "  File \"/opt/conda/lib/python3.7/site-packages/sklearn/ensemble/_weight_boosting.py\", line 507, in _boost\n",
      "    random_state)\n",
      "  File \"/opt/conda/lib/python3.7/site-packages/sklearn/ensemble/_weight_boosting.py\", line 571, in _boost_discrete\n",
      "    estimator.fit(X, y, sample_weight=sample_weight)\n",
      "  File \"/opt/conda/lib/python3.7/site-packages/sklearn/tree/_classes.py\", line 894, in fit\n",
      "    X_idx_sorted=X_idx_sorted)\n",
      "  File \"/opt/conda/lib/python3.7/site-packages/sklearn/tree/_classes.py\", line 288, in fit\n",
      "    sample_weight = _check_sample_weight(sample_weight, X, DOUBLE)\n",
      "  File \"/opt/conda/lib/python3.7/site-packages/sklearn/utils/validation.py\", line 1296, in _check_sample_weight\n",
      "    order=\"C\"\n",
      "  File \"/opt/conda/lib/python3.7/site-packages/sklearn/utils/validation.py\", line 72, in inner_f\n",
      "    return f(**kwargs)\n",
      "  File \"/opt/conda/lib/python3.7/site-packages/sklearn/utils/validation.py\", line 645, in check_array\n",
      "    allow_nan=force_all_finite == 'allow-nan')\n",
      "  File \"/opt/conda/lib/python3.7/site-packages/sklearn/utils/validation.py\", line 99, in _assert_all_finite\n",
      "    msg_dtype if msg_dtype is not None else X.dtype)\n",
      "ValueError: Input contains NaN, infinity or a value too large for dtype('float64').\n",
      "\n",
      "  FitFailedWarning)\n",
      "/opt/conda/lib/python3.7/site-packages/sklearn/ensemble/_weight_boosting.py:610: RuntimeWarning: overflow encountered in exp\n",
      "  (sample_weight > 0))\n",
      "/opt/conda/lib/python3.7/site-packages/sklearn/ensemble/_weight_boosting.py:155: RuntimeWarning: invalid value encountered in true_divide\n",
      "  sample_weight /= sample_weight_sum\n",
      "/opt/conda/lib/python3.7/site-packages/sklearn/model_selection/_validation.py:552: FitFailedWarning: Estimator fit failed. The score on this train-test partition for these parameters will be set to nan. Details: \n",
      "Traceback (most recent call last):\n",
      "  File \"/opt/conda/lib/python3.7/site-packages/sklearn/model_selection/_validation.py\", line 531, in _fit_and_score\n",
      "    estimator.fit(X_train, y_train, **fit_params)\n",
      "  File \"/opt/conda/lib/python3.7/site-packages/sklearn/ensemble/_weight_boosting.py\", line 443, in fit\n",
      "    return super().fit(X, y, sample_weight)\n",
      "  File \"/opt/conda/lib/python3.7/site-packages/sklearn/ensemble/_weight_boosting.py\", line 134, in fit\n",
      "    random_state)\n",
      "  File \"/opt/conda/lib/python3.7/site-packages/sklearn/ensemble/_weight_boosting.py\", line 507, in _boost\n",
      "    random_state)\n",
      "  File \"/opt/conda/lib/python3.7/site-packages/sklearn/ensemble/_weight_boosting.py\", line 571, in _boost_discrete\n",
      "    estimator.fit(X, y, sample_weight=sample_weight)\n",
      "  File \"/opt/conda/lib/python3.7/site-packages/sklearn/tree/_classes.py\", line 894, in fit\n",
      "    X_idx_sorted=X_idx_sorted)\n",
      "  File \"/opt/conda/lib/python3.7/site-packages/sklearn/tree/_classes.py\", line 288, in fit\n",
      "    sample_weight = _check_sample_weight(sample_weight, X, DOUBLE)\n",
      "  File \"/opt/conda/lib/python3.7/site-packages/sklearn/utils/validation.py\", line 1296, in _check_sample_weight\n",
      "    order=\"C\"\n",
      "  File \"/opt/conda/lib/python3.7/site-packages/sklearn/utils/validation.py\", line 72, in inner_f\n",
      "    return f(**kwargs)\n",
      "  File \"/opt/conda/lib/python3.7/site-packages/sklearn/utils/validation.py\", line 645, in check_array\n",
      "    allow_nan=force_all_finite == 'allow-nan')\n",
      "  File \"/opt/conda/lib/python3.7/site-packages/sklearn/utils/validation.py\", line 99, in _assert_all_finite\n",
      "    msg_dtype if msg_dtype is not None else X.dtype)\n",
      "ValueError: Input contains NaN, infinity or a value too large for dtype('float64').\n",
      "\n",
      "  FitFailedWarning)\n",
      "/opt/conda/lib/python3.7/site-packages/sklearn/ensemble/_weight_boosting.py:610: RuntimeWarning: overflow encountered in exp\n",
      "  (sample_weight > 0))\n",
      "/opt/conda/lib/python3.7/site-packages/sklearn/ensemble/_weight_boosting.py:155: RuntimeWarning: invalid value encountered in true_divide\n",
      "  sample_weight /= sample_weight_sum\n",
      "/opt/conda/lib/python3.7/site-packages/sklearn/model_selection/_validation.py:552: FitFailedWarning: Estimator fit failed. The score on this train-test partition for these parameters will be set to nan. Details: \n",
      "Traceback (most recent call last):\n",
      "  File \"/opt/conda/lib/python3.7/site-packages/sklearn/model_selection/_validation.py\", line 531, in _fit_and_score\n",
      "    estimator.fit(X_train, y_train, **fit_params)\n",
      "  File \"/opt/conda/lib/python3.7/site-packages/sklearn/ensemble/_weight_boosting.py\", line 443, in fit\n",
      "    return super().fit(X, y, sample_weight)\n",
      "  File \"/opt/conda/lib/python3.7/site-packages/sklearn/ensemble/_weight_boosting.py\", line 134, in fit\n",
      "    random_state)\n",
      "  File \"/opt/conda/lib/python3.7/site-packages/sklearn/ensemble/_weight_boosting.py\", line 507, in _boost\n",
      "    random_state)\n",
      "  File \"/opt/conda/lib/python3.7/site-packages/sklearn/ensemble/_weight_boosting.py\", line 571, in _boost_discrete\n",
      "    estimator.fit(X, y, sample_weight=sample_weight)\n",
      "  File \"/opt/conda/lib/python3.7/site-packages/sklearn/tree/_classes.py\", line 894, in fit\n",
      "    X_idx_sorted=X_idx_sorted)\n",
      "  File \"/opt/conda/lib/python3.7/site-packages/sklearn/tree/_classes.py\", line 288, in fit\n",
      "    sample_weight = _check_sample_weight(sample_weight, X, DOUBLE)\n",
      "  File \"/opt/conda/lib/python3.7/site-packages/sklearn/utils/validation.py\", line 1296, in _check_sample_weight\n",
      "    order=\"C\"\n",
      "  File \"/opt/conda/lib/python3.7/site-packages/sklearn/utils/validation.py\", line 72, in inner_f\n",
      "    return f(**kwargs)\n",
      "  File \"/opt/conda/lib/python3.7/site-packages/sklearn/utils/validation.py\", line 645, in check_array\n",
      "    allow_nan=force_all_finite == 'allow-nan')\n",
      "  File \"/opt/conda/lib/python3.7/site-packages/sklearn/utils/validation.py\", line 99, in _assert_all_finite\n",
      "    msg_dtype if msg_dtype is not None else X.dtype)\n",
      "ValueError: Input contains NaN, infinity or a value too large for dtype('float64').\n",
      "\n",
      "  FitFailedWarning)\n",
      "/opt/conda/lib/python3.7/site-packages/sklearn/ensemble/_weight_boosting.py:610: RuntimeWarning: overflow encountered in exp\n",
      "  (sample_weight > 0))\n",
      "/opt/conda/lib/python3.7/site-packages/sklearn/ensemble/_weight_boosting.py:155: RuntimeWarning: invalid value encountered in true_divide\n",
      "  sample_weight /= sample_weight_sum\n",
      "/opt/conda/lib/python3.7/site-packages/sklearn/model_selection/_validation.py:552: FitFailedWarning: Estimator fit failed. The score on this train-test partition for these parameters will be set to nan. Details: \n",
      "Traceback (most recent call last):\n",
      "  File \"/opt/conda/lib/python3.7/site-packages/sklearn/model_selection/_validation.py\", line 531, in _fit_and_score\n",
      "    estimator.fit(X_train, y_train, **fit_params)\n",
      "  File \"/opt/conda/lib/python3.7/site-packages/sklearn/ensemble/_weight_boosting.py\", line 443, in fit\n",
      "    return super().fit(X, y, sample_weight)\n",
      "  File \"/opt/conda/lib/python3.7/site-packages/sklearn/ensemble/_weight_boosting.py\", line 134, in fit\n",
      "    random_state)\n",
      "  File \"/opt/conda/lib/python3.7/site-packages/sklearn/ensemble/_weight_boosting.py\", line 507, in _boost\n",
      "    random_state)\n",
      "  File \"/opt/conda/lib/python3.7/site-packages/sklearn/ensemble/_weight_boosting.py\", line 571, in _boost_discrete\n",
      "    estimator.fit(X, y, sample_weight=sample_weight)\n",
      "  File \"/opt/conda/lib/python3.7/site-packages/sklearn/tree/_classes.py\", line 894, in fit\n",
      "    X_idx_sorted=X_idx_sorted)\n",
      "  File \"/opt/conda/lib/python3.7/site-packages/sklearn/tree/_classes.py\", line 288, in fit\n",
      "    sample_weight = _check_sample_weight(sample_weight, X, DOUBLE)\n",
      "  File \"/opt/conda/lib/python3.7/site-packages/sklearn/utils/validation.py\", line 1296, in _check_sample_weight\n",
      "    order=\"C\"\n",
      "  File \"/opt/conda/lib/python3.7/site-packages/sklearn/utils/validation.py\", line 72, in inner_f\n",
      "    return f(**kwargs)\n",
      "  File \"/opt/conda/lib/python3.7/site-packages/sklearn/utils/validation.py\", line 645, in check_array\n",
      "    allow_nan=force_all_finite == 'allow-nan')\n",
      "  File \"/opt/conda/lib/python3.7/site-packages/sklearn/utils/validation.py\", line 99, in _assert_all_finite\n",
      "    msg_dtype if msg_dtype is not None else X.dtype)\n",
      "ValueError: Input contains NaN, infinity or a value too large for dtype('float64').\n",
      "\n",
      "  FitFailedWarning)\n",
      "[Parallel(n_jobs=-1)]: Done 293 out of 300 | elapsed:   24.1s remaining:    0.6s\n",
      "[Parallel(n_jobs=-1)]: Done 300 out of 300 | elapsed:   24.6s finished\n"
     ]
    },
    {
     "output_type": "execute_result",
     "data": {
      "text/plain": [
       "GridSearchCV(cv=5,\n",
       "             estimator=AdaBoostClassifier(base_estimator=DecisionTreeClassifier(max_depth=5,\n",
       "                                                                                min_samples_leaf=9)),\n",
       "             n_jobs=-1,\n",
       "             param_grid={'algorithm': ['SAMME', 'SAMME.R'],\n",
       "                         'learning_rate': [0.001, 0.01, 0.1, 1, 10],\n",
       "                         'n_estimators': [50, 70, 90, 120, 180, 200]},\n",
       "             verbose=1)"
      ]
     },
     "metadata": {},
     "execution_count": 36
    }
   ],
   "metadata": {
    "execution": {
     "iopub.execute_input": "2021-10-02T11:31:29.462823Z",
     "iopub.status.busy": "2021-10-02T11:31:29.462220Z",
     "iopub.status.idle": "2021-10-02T11:31:54.394544Z",
     "shell.execute_reply": "2021-10-02T11:31:54.393721Z",
     "shell.execute_reply.started": "2021-10-02T11:29:12.473469Z"
    },
    "papermill": {
     "duration": 25.020369,
     "end_time": "2021-10-02T11:31:54.394684",
     "exception": false,
     "start_time": "2021-10-02T11:31:29.374315",
     "status": "completed"
    },
    "tags": []
   }
  },
  {
   "cell_type": "code",
   "execution_count": 37,
   "source": [
    "print(grid_search.best_params_)\n",
    "print(grid_search.best_score_)"
   ],
   "outputs": [
    {
     "output_type": "stream",
     "name": "stdout",
     "text": [
      "{'algorithm': 'SAMME.R', 'learning_rate': 0.1, 'n_estimators': 180}\n",
      "0.9026122448979592\n"
     ]
    }
   ],
   "metadata": {
    "execution": {
     "iopub.execute_input": "2021-10-02T11:31:54.578250Z",
     "iopub.status.busy": "2021-10-02T11:31:54.577598Z",
     "iopub.status.idle": "2021-10-02T11:31:54.582276Z",
     "shell.execute_reply": "2021-10-02T11:31:54.582707Z",
     "shell.execute_reply.started": "2021-10-02T11:29:34.099393Z"
    },
    "papermill": {
     "duration": 0.097409,
     "end_time": "2021-10-02T11:31:54.582875",
     "exception": false,
     "start_time": "2021-10-02T11:31:54.485466",
     "status": "completed"
    },
    "tags": []
   }
  },
  {
   "cell_type": "code",
   "execution_count": 38,
   "source": [
    "ada = AdaBoostClassifier(base_estimator = dtc, algorithm = 'SAMME.R', learning_rate = 0.1, n_estimators = 180)\n",
    "ada.fit(X_train, Y_train)\n",
    "\n",
    "ada_train_acc = accuracy_score(Y_train, ada.predict(X_train))\n",
    "ada_test_acc = accuracy_score(Y_test, y_pred)\n",
    "\n",
    "print(f\"Training Accuracy of Ada Boost Model is {ada_train_acc}\")\n",
    "print(f\"Test Accuracy of Ada Boost Model is {ada_test_acc}\")"
   ],
   "outputs": [
    {
     "output_type": "stream",
     "name": "stdout",
     "text": [
      "Training Accuracy of Ada Boost Model is 1.0\n",
      "Test Accuracy of Ada Boost Model is 0.8709677419354839\n"
     ]
    }
   ],
   "metadata": {
    "execution": {
     "iopub.execute_input": "2021-10-02T11:31:54.764413Z",
     "iopub.status.busy": "2021-10-02T11:31:54.763816Z",
     "iopub.status.idle": "2021-10-02T11:31:55.147841Z",
     "shell.execute_reply": "2021-10-02T11:31:55.147354Z",
     "shell.execute_reply.started": "2021-10-02T11:29:34.106075Z"
    },
    "papermill": {
     "duration": 0.475837,
     "end_time": "2021-10-02T11:31:55.147990",
     "exception": false,
     "start_time": "2021-10-02T11:31:54.672153",
     "status": "completed"
    },
    "tags": []
   }
  },
  {
   "cell_type": "code",
   "execution_count": 39,
   "source": [
    "# confusion matrix\n",
    "confusion_matrix(Y_test, y_pred)"
   ],
   "outputs": [
    {
     "output_type": "execute_result",
     "data": {
      "text/plain": [
       "array([[54,  0],\n",
       "       [ 8,  0]])"
      ]
     },
     "metadata": {},
     "execution_count": 39
    }
   ],
   "metadata": {
    "execution": {
     "iopub.execute_input": "2021-10-02T11:31:55.330099Z",
     "iopub.status.busy": "2021-10-02T11:31:55.329503Z",
     "iopub.status.idle": "2021-10-02T11:31:55.335543Z",
     "shell.execute_reply": "2021-10-02T11:31:55.335031Z",
     "shell.execute_reply.started": "2021-10-02T11:29:34.446641Z"
    },
    "papermill": {
     "duration": 0.097939,
     "end_time": "2021-10-02T11:31:55.335669",
     "exception": false,
     "start_time": "2021-10-02T11:31:55.237730",
     "status": "completed"
    },
    "tags": []
   }
  },
  {
   "cell_type": "code",
   "execution_count": 40,
   "source": [
    "# classification report\n",
    "print(classification_report(Y_test, y_pred))"
   ],
   "outputs": [
    {
     "output_type": "stream",
     "name": "stdout",
     "text": [
      "              precision    recall  f1-score   support\n",
      "\n",
      "           0       0.87      1.00      0.93        54\n",
      "           1       0.00      0.00      0.00         8\n",
      "\n",
      "    accuracy                           0.87        62\n",
      "   macro avg       0.44      0.50      0.47        62\n",
      "weighted avg       0.76      0.87      0.81        62\n",
      "\n"
     ]
    },
    {
     "output_type": "stream",
     "name": "stderr",
     "text": [
      "/opt/conda/lib/python3.7/site-packages/sklearn/metrics/_classification.py:1221: UndefinedMetricWarning: Precision and F-score are ill-defined and being set to 0.0 in labels with no predicted samples. Use `zero_division` parameter to control this behavior.\n",
      "  _warn_prf(average, modifier, msg_start, len(result))\n"
     ]
    }
   ],
   "metadata": {
    "execution": {
     "iopub.execute_input": "2021-10-02T11:31:55.518841Z",
     "iopub.status.busy": "2021-10-02T11:31:55.518229Z",
     "iopub.status.idle": "2021-10-02T11:31:55.531246Z",
     "shell.execute_reply": "2021-10-02T11:31:55.530509Z",
     "shell.execute_reply.started": "2021-10-02T11:29:34.455854Z"
    },
    "papermill": {
     "duration": 0.106649,
     "end_time": "2021-10-02T11:31:55.531451",
     "exception": false,
     "start_time": "2021-10-02T11:31:55.424802",
     "status": "completed"
    },
    "tags": []
   }
  },
  {
   "cell_type": "markdown",
   "source": [
    "## **GradientBoostingClassifier**"
   ],
   "metadata": {
    "papermill": {
     "duration": 0.090846,
     "end_time": "2021-10-02T11:31:55.714844",
     "exception": false,
     "start_time": "2021-10-02T11:31:55.623998",
     "status": "completed"
    },
    "tags": []
   }
  },
  {
   "cell_type": "code",
   "execution_count": 41,
   "source": [
    "#Gradient Boosting Classifier\n",
    "from sklearn.ensemble import GradientBoostingClassifier\n",
    "\n",
    "gb = GradientBoostingClassifier()\n",
    "\n",
    "parameters = {\n",
    "    'loss': ['deviance', 'exponential'],\n",
    "    'learning_rate': [0.001, 0.1, 1, 10],\n",
    "    'n_estimators': [100, 150, 180, 200]\n",
    "}\n",
    "\n",
    "grid_search = GridSearchCV(gb, parameters, cv = 5, n_jobs = -1, verbose = 1)\n",
    "grid_search.fit(X_train, Y_train)"
   ],
   "outputs": [
    {
     "output_type": "stream",
     "name": "stdout",
     "text": [
      "Fitting 5 folds for each of 32 candidates, totalling 160 fits\n"
     ]
    },
    {
     "output_type": "stream",
     "name": "stderr",
     "text": [
      "[Parallel(n_jobs=-1)]: Using backend LokyBackend with 4 concurrent workers.\n",
      "[Parallel(n_jobs=-1)]: Done  76 tasks      | elapsed:    3.8s\n",
      "[Parallel(n_jobs=-1)]: Done 160 out of 160 | elapsed:    7.9s finished\n"
     ]
    },
    {
     "output_type": "execute_result",
     "data": {
      "text/plain": [
       "GridSearchCV(cv=5, estimator=GradientBoostingClassifier(), n_jobs=-1,\n",
       "             param_grid={'learning_rate': [0.001, 0.1, 1, 10],\n",
       "                         'loss': ['deviance', 'exponential'],\n",
       "                         'n_estimators': [100, 150, 180, 200]},\n",
       "             verbose=1)"
      ]
     },
     "metadata": {},
     "execution_count": 41
    }
   ],
   "metadata": {
    "execution": {
     "iopub.execute_input": "2021-10-02T11:31:55.904493Z",
     "iopub.status.busy": "2021-10-02T11:31:55.903591Z",
     "iopub.status.idle": "2021-10-02T11:32:03.863098Z",
     "shell.execute_reply": "2021-10-02T11:32:03.863549Z",
     "shell.execute_reply.started": "2021-10-02T11:29:34.469690Z"
    },
    "papermill": {
     "duration": 8.057705,
     "end_time": "2021-10-02T11:32:03.863723",
     "exception": false,
     "start_time": "2021-10-02T11:31:55.806018",
     "status": "completed"
    },
    "tags": []
   }
  },
  {
   "cell_type": "code",
   "execution_count": 42,
   "source": [
    "# best parameter and best score\n",
    "\n",
    "print(grid_search.best_params_)\n",
    "print(grid_search.best_score_)\n"
   ],
   "outputs": [
    {
     "output_type": "stream",
     "name": "stdout",
     "text": [
      "{'learning_rate': 0.1, 'loss': 'exponential', 'n_estimators': 100}\n",
      "0.8826122448979591\n"
     ]
    }
   ],
   "metadata": {
    "execution": {
     "iopub.execute_input": "2021-10-02T11:32:04.055683Z",
     "iopub.status.busy": "2021-10-02T11:32:04.054909Z",
     "iopub.status.idle": "2021-10-02T11:32:04.058712Z",
     "shell.execute_reply": "2021-10-02T11:32:04.058223Z",
     "shell.execute_reply.started": "2021-10-02T11:29:41.731406Z"
    },
    "papermill": {
     "duration": 0.102348,
     "end_time": "2021-10-02T11:32:04.058848",
     "exception": false,
     "start_time": "2021-10-02T11:32:03.956500",
     "status": "completed"
    },
    "tags": []
   }
  },
  {
   "cell_type": "code",
   "execution_count": 43,
   "source": [
    "gb = GradientBoostingClassifier(learning_rate = 1, loss = 'exponential', n_estimators = 180)\n",
    "gb.fit(X_train, Y_train)\n",
    "\n",
    "y_pred = gb.predict(X_test)\n",
    "\n",
    "gb_train_acc = accuracy_score(Y_train, gb.predict(X_train))\n",
    "gb_test_acc = accuracy_score(Y_test, y_pred)\n",
    "\n",
    "print(f\"Training Accuracy of Gradient Boosting Classifier Model is {gb_train_acc}\")\n",
    "print(f\"Test Accuracy of Gradient Boosting Classifier Model is {gb_test_acc}\")"
   ],
   "outputs": [
    {
     "output_type": "stream",
     "name": "stdout",
     "text": [
      "Training Accuracy of Gradient Boosting Classifier Model is 1.0\n",
      "Test Accuracy of Gradient Boosting Classifier Model is 0.9032258064516129\n"
     ]
    }
   ],
   "metadata": {
    "execution": {
     "iopub.execute_input": "2021-10-02T11:32:04.252226Z",
     "iopub.status.busy": "2021-10-02T11:32:04.251103Z",
     "iopub.status.idle": "2021-10-02T11:32:04.423453Z",
     "shell.execute_reply": "2021-10-02T11:32:04.422809Z",
     "shell.execute_reply.started": "2021-10-02T11:29:41.738062Z"
    },
    "papermill": {
     "duration": 0.272347,
     "end_time": "2021-10-02T11:32:04.423589",
     "exception": false,
     "start_time": "2021-10-02T11:32:04.151242",
     "status": "completed"
    },
    "tags": []
   }
  },
  {
   "cell_type": "code",
   "execution_count": 44,
   "source": [
    "# confusion matrix\n",
    "\n",
    "confusion_matrix(Y_test, y_pred)"
   ],
   "outputs": [
    {
     "output_type": "execute_result",
     "data": {
      "text/plain": [
       "array([[51,  3],\n",
       "       [ 3,  5]])"
      ]
     },
     "metadata": {},
     "execution_count": 44
    }
   ],
   "metadata": {
    "execution": {
     "iopub.execute_input": "2021-10-02T11:32:04.613696Z",
     "iopub.status.busy": "2021-10-02T11:32:04.612852Z",
     "iopub.status.idle": "2021-10-02T11:32:04.616576Z",
     "shell.execute_reply": "2021-10-02T11:32:04.615992Z",
     "shell.execute_reply.started": "2021-10-02T11:29:41.886551Z"
    },
    "papermill": {
     "duration": 0.100659,
     "end_time": "2021-10-02T11:32:04.616706",
     "exception": false,
     "start_time": "2021-10-02T11:32:04.516047",
     "status": "completed"
    },
    "tags": []
   }
  },
  {
   "cell_type": "code",
   "execution_count": 45,
   "source": [
    "# classification report\n",
    "\n",
    "print(classification_report(Y_test, y_pred))"
   ],
   "outputs": [
    {
     "output_type": "stream",
     "name": "stdout",
     "text": [
      "              precision    recall  f1-score   support\n",
      "\n",
      "           0       0.94      0.94      0.94        54\n",
      "           1       0.62      0.62      0.62         8\n",
      "\n",
      "    accuracy                           0.90        62\n",
      "   macro avg       0.78      0.78      0.78        62\n",
      "weighted avg       0.90      0.90      0.90        62\n",
      "\n"
     ]
    }
   ],
   "metadata": {
    "execution": {
     "iopub.execute_input": "2021-10-02T11:32:04.810101Z",
     "iopub.status.busy": "2021-10-02T11:32:04.808478Z",
     "iopub.status.idle": "2021-10-02T11:32:04.817021Z",
     "shell.execute_reply": "2021-10-02T11:32:04.817908Z",
     "shell.execute_reply.started": "2021-10-02T11:29:41.894838Z"
    },
    "papermill": {
     "duration": 0.107779,
     "end_time": "2021-10-02T11:32:04.818207",
     "exception": false,
     "start_time": "2021-10-02T11:32:04.710428",
     "status": "completed"
    },
    "tags": []
   }
  },
  {
   "cell_type": "markdown",
   "source": [
    "## **Stochastic Gradient Boosting (SGB)**"
   ],
   "metadata": {
    "papermill": {
     "duration": 0.093229,
     "end_time": "2021-10-02T11:32:05.006960",
     "exception": false,
     "start_time": "2021-10-02T11:32:04.913731",
     "status": "completed"
    },
    "tags": []
   }
  },
  {
   "cell_type": "code",
   "execution_count": 46,
   "source": [
    "sgbc = GradientBoostingClassifier(learning_rate = 0.1, subsample = 0.9, max_features = 0.75, loss = 'deviance',\n",
    "                                  n_estimators = 100)\n",
    "\n",
    "sgbc.fit(X_train, Y_train)\n",
    "\n",
    "y_pred = sgbc.predict(X_test)\n",
    "\n",
    "sgbc_train_acc = accuracy_score(Y_train, sgbc.predict(X_train))\n",
    "sgbc_test_acc = accuracy_score(Y_test, y_pred)\n",
    "\n",
    "print(f\"Training Accuracy of SGB Model is {sgbc_train_acc}\")\n",
    "print(f\"Test Accuracy of SGB Model is {sgbc_test_acc}\")"
   ],
   "outputs": [
    {
     "output_type": "stream",
     "name": "stdout",
     "text": [
      "Training Accuracy of SGB Model is 0.9959514170040485\n",
      "Test Accuracy of SGB Model is 0.9032258064516129\n"
     ]
    }
   ],
   "metadata": {
    "execution": {
     "iopub.execute_input": "2021-10-02T11:32:05.205342Z",
     "iopub.status.busy": "2021-10-02T11:32:05.200098Z",
     "iopub.status.idle": "2021-10-02T11:32:05.288749Z",
     "shell.execute_reply": "2021-10-02T11:32:05.289413Z",
     "shell.execute_reply.started": "2021-10-02T11:29:41.908083Z"
    },
    "papermill": {
     "duration": 0.188164,
     "end_time": "2021-10-02T11:32:05.289598",
     "exception": false,
     "start_time": "2021-10-02T11:32:05.101434",
     "status": "completed"
    },
    "tags": []
   }
  },
  {
   "cell_type": "code",
   "execution_count": 47,
   "source": [
    "# confusion matrix\n",
    "\n",
    "confusion_matrix(Y_test, y_pred)"
   ],
   "outputs": [
    {
     "output_type": "execute_result",
     "data": {
      "text/plain": [
       "array([[52,  2],\n",
       "       [ 4,  4]])"
      ]
     },
     "metadata": {},
     "execution_count": 47
    }
   ],
   "metadata": {
    "execution": {
     "iopub.execute_input": "2021-10-02T11:32:05.482449Z",
     "iopub.status.busy": "2021-10-02T11:32:05.481772Z",
     "iopub.status.idle": "2021-10-02T11:32:05.485374Z",
     "shell.execute_reply": "2021-10-02T11:32:05.485806Z",
     "shell.execute_reply.started": "2021-10-02T11:29:41.996158Z"
    },
    "papermill": {
     "duration": 0.103311,
     "end_time": "2021-10-02T11:32:05.485993",
     "exception": false,
     "start_time": "2021-10-02T11:32:05.382682",
     "status": "completed"
    },
    "tags": []
   }
  },
  {
   "cell_type": "code",
   "execution_count": 48,
   "source": [
    "# classification report\n",
    "\n",
    "print(classification_report(Y_test, y_pred))"
   ],
   "outputs": [
    {
     "output_type": "stream",
     "name": "stdout",
     "text": [
      "              precision    recall  f1-score   support\n",
      "\n",
      "           0       0.93      0.96      0.95        54\n",
      "           1       0.67      0.50      0.57         8\n",
      "\n",
      "    accuracy                           0.90        62\n",
      "   macro avg       0.80      0.73      0.76        62\n",
      "weighted avg       0.89      0.90      0.90        62\n",
      "\n"
     ]
    }
   ],
   "metadata": {
    "execution": {
     "iopub.execute_input": "2021-10-02T11:32:05.681461Z",
     "iopub.status.busy": "2021-10-02T11:32:05.679924Z",
     "iopub.status.idle": "2021-10-02T11:32:05.688337Z",
     "shell.execute_reply": "2021-10-02T11:32:05.687593Z",
     "shell.execute_reply.started": "2021-10-02T11:29:42.004188Z"
    },
    "papermill": {
     "duration": 0.108185,
     "end_time": "2021-10-02T11:32:05.688519",
     "exception": false,
     "start_time": "2021-10-02T11:32:05.580334",
     "status": "completed"
    },
    "tags": []
   }
  },
  {
   "cell_type": "markdown",
   "source": [
    "## **Cat Boost**"
   ],
   "metadata": {
    "papermill": {
     "duration": 0.09441,
     "end_time": "2021-10-02T11:32:05.880093",
     "exception": false,
     "start_time": "2021-10-02T11:32:05.785683",
     "status": "completed"
    },
    "tags": []
   }
  },
  {
   "cell_type": "code",
   "execution_count": 49,
   "source": [
    "#Cat boost\n",
    "from catboost import CatBoostClassifier\n",
    "\n",
    "cat = CatBoostClassifier(iterations = 30, learning_rate = 0.1)\n",
    "cat.fit(X_train, Y_train)\n",
    "\n",
    "y_pred = cat.predict(X_test)"
   ],
   "outputs": [
    {
     "output_type": "stream",
     "name": "stdout",
     "text": [
      "0:\tlearn: 0.6645749\ttotal: 51.5ms\tremaining: 1.49s\n",
      "1:\tlearn: 0.6166684\ttotal: 52.1ms\tremaining: 729ms\n",
      "2:\tlearn: 0.5920334\ttotal: 52.9ms\tremaining: 476ms\n",
      "3:\tlearn: 0.5664320\ttotal: 53.8ms\tremaining: 349ms\n",
      "4:\tlearn: 0.5449629\ttotal: 54.6ms\tremaining: 273ms\n",
      "5:\tlearn: 0.5266277\ttotal: 55.4ms\tremaining: 222ms\n",
      "6:\tlearn: 0.5065345\ttotal: 56.2ms\tremaining: 185ms\n",
      "7:\tlearn: 0.4872498\ttotal: 57.1ms\tremaining: 157ms\n",
      "8:\tlearn: 0.4682380\ttotal: 57.8ms\tremaining: 135ms\n",
      "9:\tlearn: 0.4458895\ttotal: 57.9ms\tremaining: 116ms\n",
      "10:\tlearn: 0.4284032\ttotal: 58.6ms\tremaining: 101ms\n",
      "11:\tlearn: 0.4165524\ttotal: 59.2ms\tremaining: 88.8ms\n",
      "12:\tlearn: 0.4024530\ttotal: 59.9ms\tremaining: 78.3ms\n",
      "13:\tlearn: 0.3905376\ttotal: 60.5ms\tremaining: 69.1ms\n",
      "14:\tlearn: 0.3776199\ttotal: 60.8ms\tremaining: 60.8ms\n",
      "15:\tlearn: 0.3664713\ttotal: 61.7ms\tremaining: 54ms\n",
      "16:\tlearn: 0.3580176\ttotal: 63.1ms\tremaining: 48.2ms\n",
      "17:\tlearn: 0.3489572\ttotal: 64.9ms\tremaining: 43.2ms\n",
      "18:\tlearn: 0.3413124\ttotal: 66ms\tremaining: 38.2ms\n",
      "19:\tlearn: 0.3301156\ttotal: 66.5ms\tremaining: 33.2ms\n",
      "20:\tlearn: 0.3232291\ttotal: 67.4ms\tremaining: 28.9ms\n",
      "21:\tlearn: 0.3179232\ttotal: 68.4ms\tremaining: 24.9ms\n",
      "22:\tlearn: 0.3105021\ttotal: 69.4ms\tremaining: 21.1ms\n",
      "23:\tlearn: 0.3051422\ttotal: 70.5ms\tremaining: 17.6ms\n",
      "24:\tlearn: 0.2985674\ttotal: 71.8ms\tremaining: 14.4ms\n",
      "25:\tlearn: 0.2911096\ttotal: 72.6ms\tremaining: 11.2ms\n",
      "26:\tlearn: 0.2861704\ttotal: 73.8ms\tremaining: 8.2ms\n",
      "27:\tlearn: 0.2811920\ttotal: 75.1ms\tremaining: 5.36ms\n",
      "28:\tlearn: 0.2742198\ttotal: 76.1ms\tremaining: 2.62ms\n",
      "29:\tlearn: 0.2707622\ttotal: 77.2ms\tremaining: 0us\n"
     ]
    }
   ],
   "metadata": {
    "execution": {
     "iopub.execute_input": "2021-10-02T11:32:06.131944Z",
     "iopub.status.busy": "2021-10-02T11:32:06.131279Z",
     "iopub.status.idle": "2021-10-02T11:32:06.437018Z",
     "shell.execute_reply": "2021-10-02T11:32:06.438367Z",
     "shell.execute_reply.started": "2021-10-02T11:29:42.019504Z"
    },
    "papermill": {
     "duration": 0.462794,
     "end_time": "2021-10-02T11:32:06.438685",
     "exception": false,
     "start_time": "2021-10-02T11:32:05.975891",
     "status": "completed"
    },
    "tags": []
   }
  },
  {
   "cell_type": "code",
   "execution_count": 50,
   "source": [
    "cat_train_acc = accuracy_score(Y_train, cat.predict(X_train))\n",
    "cat_test_acc = accuracy_score(Y_test, y_pred)\n",
    "\n",
    "print(f\"Training Accuracy of Cat Boost Classifier Model is {cat_train_acc}\")\n",
    "print(f\"Test Accuracy of Cat Boost Classifier Model is {cat_test_acc}\")"
   ],
   "outputs": [
    {
     "output_type": "stream",
     "name": "stdout",
     "text": [
      "Training Accuracy of Cat Boost Classifier Model is 0.9311740890688259\n",
      "Test Accuracy of Cat Boost Classifier Model is 0.8870967741935484\n"
     ]
    }
   ],
   "metadata": {
    "execution": {
     "iopub.execute_input": "2021-10-02T11:32:06.633702Z",
     "iopub.status.busy": "2021-10-02T11:32:06.633064Z",
     "iopub.status.idle": "2021-10-02T11:32:06.638570Z",
     "shell.execute_reply": "2021-10-02T11:32:06.638068Z",
     "shell.execute_reply.started": "2021-10-02T11:29:42.079722Z"
    },
    "papermill": {
     "duration": 0.105387,
     "end_time": "2021-10-02T11:32:06.638703",
     "exception": false,
     "start_time": "2021-10-02T11:32:06.533316",
     "status": "completed"
    },
    "tags": []
   }
  },
  {
   "cell_type": "markdown",
   "source": [
    "## **XGB Classifier**"
   ],
   "metadata": {
    "papermill": {
     "duration": 0.094352,
     "end_time": "2021-10-02T11:32:06.829186",
     "exception": false,
     "start_time": "2021-10-02T11:32:06.734834",
     "status": "completed"
    },
    "tags": []
   }
  },
  {
   "cell_type": "code",
   "execution_count": 51,
   "source": [
    "from xgboost import XGBClassifier\n",
    "\n",
    "xgb = XGBClassifier(booster = 'gblinear', learning_rate = 1, n_estimators = 10)\n",
    "xgb.fit(X_train, Y_train)\n",
    "\n",
    "y_pred = xgb.predict(X_test)\n",
    "\n",
    "xgb_train_acc = accuracy_score(Y_train, xgb.predict(X_train))\n",
    "xgb_test_acc = accuracy_score(Y_test, y_pred)\n",
    "\n",
    "print(f\"Training Accuracy of XGB Model is {xgb_train_acc}\")\n",
    "print(f\"Test Accuracy of XGB Model is {xgb_test_acc}\")"
   ],
   "outputs": [
    {
     "output_type": "stream",
     "name": "stdout",
     "text": [
      "[11:32:07] WARNING: ../src/learner.cc:1095: Starting in XGBoost 1.3.0, the default evaluation metric used with the objective 'binary:logistic' was changed from 'error' to 'logloss'. Explicitly set eval_metric if you'd like to restore the old behavior.\n",
      "Training Accuracy of XGB Model is 0.951417004048583\n",
      "Test Accuracy of XGB Model is 0.9193548387096774\n"
     ]
    },
    {
     "output_type": "stream",
     "name": "stderr",
     "text": [
      "/opt/conda/lib/python3.7/site-packages/xgboost/sklearn.py:1146: UserWarning: The use of label encoder in XGBClassifier is deprecated and will be removed in a future release. To remove this warning, do the following: 1) Pass option use_label_encoder=False when constructing XGBClassifier object; and 2) Encode your labels (y) as integers starting with 0, i.e. 0, 1, 2, ..., [num_class - 1].\n",
      "  warnings.warn(label_encoder_deprecation_msg, UserWarning)\n"
     ]
    }
   ],
   "metadata": {
    "execution": {
     "iopub.execute_input": "2021-10-02T11:32:07.027709Z",
     "iopub.status.busy": "2021-10-02T11:32:07.027060Z",
     "iopub.status.idle": "2021-10-02T11:32:07.135651Z",
     "shell.execute_reply": "2021-10-02T11:32:07.137127Z",
     "shell.execute_reply.started": "2021-10-02T11:29:42.088476Z"
    },
    "papermill": {
     "duration": 0.212621,
     "end_time": "2021-10-02T11:32:07.137371",
     "exception": false,
     "start_time": "2021-10-02T11:32:06.924750",
     "status": "completed"
    },
    "tags": []
   }
  },
  {
   "cell_type": "markdown",
   "source": [
    "# **Stacking**"
   ],
   "metadata": {
    "papermill": {
     "duration": 0.094472,
     "end_time": "2021-10-02T11:32:07.327925",
     "exception": false,
     "start_time": "2021-10-02T11:32:07.233453",
     "status": "completed"
    },
    "tags": []
   }
  },
  {
   "cell_type": "code",
   "execution_count": 52,
   "source": [
    "# let's divide our dataset into training set and holdout set by 50% \n",
    "\n",
    "from sklearn.model_selection import train_test_split\n",
    "\n",
    "train, val_train, test, val_test = train_test_split(X, y, test_size = 0.5, random_state = 355)"
   ],
   "outputs": [],
   "metadata": {
    "execution": {
     "iopub.execute_input": "2021-10-02T11:32:07.523402Z",
     "iopub.status.busy": "2021-10-02T11:32:07.522747Z",
     "iopub.status.idle": "2021-10-02T11:32:07.527627Z",
     "shell.execute_reply": "2021-10-02T11:32:07.527106Z",
     "shell.execute_reply.started": "2021-10-02T11:29:42.112558Z"
    },
    "papermill": {
     "duration": 0.105958,
     "end_time": "2021-10-02T11:32:07.527773",
     "exception": false,
     "start_time": "2021-10-02T11:32:07.421815",
     "status": "completed"
    },
    "tags": []
   }
  },
  {
   "cell_type": "code",
   "execution_count": 53,
   "source": [
    "# let's split the training set again into training and test dataset\n",
    "\n",
    "X_train, X_test, y_train, y_test = train_test_split(train, test, test_size = 0.2, random_state = 355)"
   ],
   "outputs": [],
   "metadata": {
    "execution": {
     "iopub.execute_input": "2021-10-02T11:32:07.726334Z",
     "iopub.status.busy": "2021-10-02T11:32:07.725469Z",
     "iopub.status.idle": "2021-10-02T11:32:07.728004Z",
     "shell.execute_reply": "2021-10-02T11:32:07.727415Z",
     "shell.execute_reply.started": "2021-10-02T11:29:42.120865Z"
    },
    "papermill": {
     "duration": 0.104764,
     "end_time": "2021-10-02T11:32:07.728154",
     "exception": false,
     "start_time": "2021-10-02T11:32:07.623390",
     "status": "completed"
    },
    "tags": []
   }
  },
  {
   "cell_type": "code",
   "execution_count": 54,
   "source": [
    "svm = SVC()\n",
    "svm.fit(X_train, y_train)\n"
   ],
   "outputs": [
    {
     "output_type": "execute_result",
     "data": {
      "text/plain": [
       "SVC()"
      ]
     },
     "metadata": {},
     "execution_count": 54
    }
   ],
   "metadata": {
    "execution": {
     "iopub.execute_input": "2021-10-02T11:32:07.927072Z",
     "iopub.status.busy": "2021-10-02T11:32:07.926475Z",
     "iopub.status.idle": "2021-10-02T11:32:07.933705Z",
     "shell.execute_reply": "2021-10-02T11:32:07.934182Z",
     "shell.execute_reply.started": "2021-10-02T11:29:42.131959Z"
    },
    "papermill": {
     "duration": 0.107778,
     "end_time": "2021-10-02T11:32:07.934350",
     "exception": false,
     "start_time": "2021-10-02T11:32:07.826572",
     "status": "completed"
    },
    "tags": []
   }
  },
  {
   "cell_type": "code",
   "execution_count": 55,
   "source": [
    "# using Logistic Regression and SVM algorithm as base models.\n",
    "# Let's fit both of the models first on the X_train and y_train data.\n",
    "\n",
    "lr = LogisticRegression(solver='liblinear')\n",
    "lr.fit(X_train, y_train)\n"
   ],
   "outputs": [
    {
     "output_type": "execute_result",
     "data": {
      "text/plain": [
       "LogisticRegression(solver='liblinear')"
      ]
     },
     "metadata": {},
     "execution_count": 55
    }
   ],
   "metadata": {
    "execution": {
     "iopub.execute_input": "2021-10-02T11:32:08.156051Z",
     "iopub.status.busy": "2021-10-02T11:32:08.154867Z",
     "iopub.status.idle": "2021-10-02T11:32:08.168474Z",
     "shell.execute_reply": "2021-10-02T11:32:08.167992Z",
     "shell.execute_reply.started": "2021-10-02T11:29:42.145441Z"
    },
    "papermill": {
     "duration": 0.138413,
     "end_time": "2021-10-02T11:32:08.168622",
     "exception": false,
     "start_time": "2021-10-02T11:32:08.030209",
     "status": "completed"
    },
    "tags": []
   }
  },
  {
   "cell_type": "code",
   "execution_count": 56,
   "source": [
    "predict_val1 = lr.predict(val_train)\n",
    "predict_val2 = svm.predict(val_train)"
   ],
   "outputs": [],
   "metadata": {
    "execution": {
     "iopub.execute_input": "2021-10-02T11:32:08.378347Z",
     "iopub.status.busy": "2021-10-02T11:32:08.377448Z",
     "iopub.status.idle": "2021-10-02T11:32:08.379811Z",
     "shell.execute_reply": "2021-10-02T11:32:08.380377Z",
     "shell.execute_reply.started": "2021-10-02T11:29:42.157085Z"
    },
    "papermill": {
     "duration": 0.109991,
     "end_time": "2021-10-02T11:32:08.380545",
     "exception": false,
     "start_time": "2021-10-02T11:32:08.270554",
     "status": "completed"
    },
    "tags": []
   }
  },
  {
   "cell_type": "code",
   "execution_count": 57,
   "source": [
    "predict_val = np.column_stack((predict_val1, predict_val2))\n"
   ],
   "outputs": [],
   "metadata": {
    "execution": {
     "iopub.execute_input": "2021-10-02T11:32:08.578528Z",
     "iopub.status.busy": "2021-10-02T11:32:08.577540Z",
     "iopub.status.idle": "2021-10-02T11:32:08.581373Z",
     "shell.execute_reply": "2021-10-02T11:32:08.581975Z",
     "shell.execute_reply.started": "2021-10-02T11:29:42.168150Z"
    },
    "papermill": {
     "duration": 0.104201,
     "end_time": "2021-10-02T11:32:08.582148",
     "exception": false,
     "start_time": "2021-10-02T11:32:08.477947",
     "status": "completed"
    },
    "tags": []
   }
  },
  {
   "cell_type": "code",
   "execution_count": 58,
   "source": [
    "#Let's get the prediction of all the base models on test set X_set\n",
    "predict_test1 = lr.predict(X_test)\n",
    "predict_test2 = svm.predict(X_test)"
   ],
   "outputs": [],
   "metadata": {
    "execution": {
     "iopub.execute_input": "2021-10-02T11:32:08.781938Z",
     "iopub.status.busy": "2021-10-02T11:32:08.780975Z",
     "iopub.status.idle": "2021-10-02T11:32:08.788171Z",
     "shell.execute_reply": "2021-10-02T11:32:08.788610Z",
     "shell.execute_reply.started": "2021-10-02T11:29:42.176852Z"
    },
    "papermill": {
     "duration": 0.108999,
     "end_time": "2021-10-02T11:32:08.788780",
     "exception": false,
     "start_time": "2021-10-02T11:32:08.679781",
     "status": "completed"
    },
    "tags": []
   }
  },
  {
   "cell_type": "code",
   "execution_count": 59,
   "source": [
    "# Let's stack the prediction values for validation set together as 'predict_set'\n",
    "predict_test = np.column_stack((predict_test1, predict_test2))"
   ],
   "outputs": [],
   "metadata": {
    "execution": {
     "iopub.execute_input": "2021-10-02T11:32:08.989782Z",
     "iopub.status.busy": "2021-10-02T11:32:08.988768Z",
     "iopub.status.idle": "2021-10-02T11:32:08.992580Z",
     "shell.execute_reply": "2021-10-02T11:32:08.993101Z",
     "shell.execute_reply.started": "2021-10-02T11:29:42.189706Z"
    },
    "papermill": {
     "duration": 0.105714,
     "end_time": "2021-10-02T11:32:08.993283",
     "exception": false,
     "start_time": "2021-10-02T11:32:08.887569",
     "status": "completed"
    },
    "tags": []
   }
  },
  {
   "cell_type": "code",
   "execution_count": 60,
   "source": [
    "rand_clf = RandomForestClassifier()\n",
    "rand_clf.fit(predict_val, val_test)"
   ],
   "outputs": [
    {
     "output_type": "execute_result",
     "data": {
      "text/plain": [
       "RandomForestClassifier()"
      ]
     },
     "metadata": {},
     "execution_count": 60
    }
   ],
   "metadata": {
    "execution": {
     "iopub.execute_input": "2021-10-02T11:32:09.190966Z",
     "iopub.status.busy": "2021-10-02T11:32:09.189975Z",
     "iopub.status.idle": "2021-10-02T11:32:09.373044Z",
     "shell.execute_reply": "2021-10-02T11:32:09.373527Z",
     "shell.execute_reply.started": "2021-10-02T11:29:42.198811Z"
    },
    "papermill": {
     "duration": 0.282984,
     "end_time": "2021-10-02T11:32:09.373686",
     "exception": false,
     "start_time": "2021-10-02T11:32:09.090702",
     "status": "completed"
    },
    "tags": []
   }
  },
  {
   "cell_type": "code",
   "execution_count": 61,
   "source": [
    "stacking_acc = accuracy_score(y_test, rand_clf.predict(predict_test))\n",
    "print(stacking_acc)"
   ],
   "outputs": [
    {
     "output_type": "stream",
     "name": "stdout",
     "text": [
      "0.7741935483870968\n"
     ]
    }
   ],
   "metadata": {
    "execution": {
     "iopub.execute_input": "2021-10-02T11:32:09.571450Z",
     "iopub.status.busy": "2021-10-02T11:32:09.570502Z",
     "iopub.status.idle": "2021-10-02T11:32:09.586342Z",
     "shell.execute_reply": "2021-10-02T11:32:09.585563Z",
     "shell.execute_reply.started": "2021-10-02T11:29:42.344763Z"
    },
    "papermill": {
     "duration": 0.116239,
     "end_time": "2021-10-02T11:32:09.586534",
     "exception": false,
     "start_time": "2021-10-02T11:32:09.470295",
     "status": "completed"
    },
    "tags": []
   }
  },
  {
   "cell_type": "code",
   "execution_count": 62,
   "source": [
    "# confusion matrix\n",
    "confusion_matrix(y_test, rand_clf.predict(predict_test))"
   ],
   "outputs": [
    {
     "output_type": "execute_result",
     "data": {
      "text/plain": [
       "array([[22,  1],\n",
       "       [ 6,  2]])"
      ]
     },
     "metadata": {},
     "execution_count": 62
    }
   ],
   "metadata": {
    "execution": {
     "iopub.execute_input": "2021-10-02T11:32:09.793857Z",
     "iopub.status.busy": "2021-10-02T11:32:09.787665Z",
     "iopub.status.idle": "2021-10-02T11:32:09.812667Z",
     "shell.execute_reply": "2021-10-02T11:32:09.813334Z",
     "shell.execute_reply.started": "2021-10-02T11:29:42.368153Z"
    },
    "papermill": {
     "duration": 0.127649,
     "end_time": "2021-10-02T11:32:09.813517",
     "exception": false,
     "start_time": "2021-10-02T11:32:09.685868",
     "status": "completed"
    },
    "tags": []
   }
  },
  {
   "cell_type": "code",
   "execution_count": 63,
   "source": [
    "# classification report\n",
    "\n",
    "print(classification_report(y_test, rand_clf.predict(predict_test)))"
   ],
   "outputs": [
    {
     "output_type": "stream",
     "name": "stdout",
     "text": [
      "              precision    recall  f1-score   support\n",
      "\n",
      "           0       0.79      0.96      0.86        23\n",
      "           1       0.67      0.25      0.36         8\n",
      "\n",
      "    accuracy                           0.77        31\n",
      "   macro avg       0.73      0.60      0.61        31\n",
      "weighted avg       0.75      0.77      0.73        31\n",
      "\n"
     ]
    }
   ],
   "metadata": {
    "execution": {
     "iopub.execute_input": "2021-10-02T11:32:10.039686Z",
     "iopub.status.busy": "2021-10-02T11:32:10.038643Z",
     "iopub.status.idle": "2021-10-02T11:32:10.051324Z",
     "shell.execute_reply": "2021-10-02T11:32:10.051812Z",
     "shell.execute_reply.started": "2021-10-02T11:29:42.388611Z"
    },
    "papermill": {
     "duration": 0.127712,
     "end_time": "2021-10-02T11:32:10.051992",
     "exception": false,
     "start_time": "2021-10-02T11:32:09.924280",
     "status": "completed"
    },
    "tags": []
   }
  },
  {
   "cell_type": "code",
   "execution_count": 64,
   "source": [
    "models = ['Logistic Regression', 'KNN', 'SVC', 'Decision Tree', 'Random Forest','Ada Boost', 'Gradient Boosting', 'SGB', 'XgBoost', 'Stacking', 'Cat Boost']\n",
    "scores = [lr_test_acc, knn_test_acc, svc_test_acc, dtc_test_acc, rand_clf_test_acc, ada_test_acc, gb_test_acc, sgbc_test_acc, xgb_test_acc, stacking_acc, cat_test_acc]\n",
    "\n",
    "models = pd.DataFrame({'Model' : models, 'Score' : scores})\n",
    "\n",
    "\n",
    "models.sort_values(by = 'Score', ascending = False)"
   ],
   "outputs": [
    {
     "output_type": "execute_result",
     "data": {
      "text/html": [
       "<div>\n",
       "<style scoped>\n",
       "    .dataframe tbody tr th:only-of-type {\n",
       "        vertical-align: middle;\n",
       "    }\n",
       "\n",
       "    .dataframe tbody tr th {\n",
       "        vertical-align: top;\n",
       "    }\n",
       "\n",
       "    .dataframe thead th {\n",
       "        text-align: right;\n",
       "    }\n",
       "</style>\n",
       "<table border=\"1\" class=\"dataframe\">\n",
       "  <thead>\n",
       "    <tr style=\"text-align: right;\">\n",
       "      <th></th>\n",
       "      <th>Model</th>\n",
       "      <th>Score</th>\n",
       "    </tr>\n",
       "  </thead>\n",
       "  <tbody>\n",
       "    <tr>\n",
       "      <th>0</th>\n",
       "      <td>Logistic Regression</td>\n",
       "      <td>0.919355</td>\n",
       "    </tr>\n",
       "    <tr>\n",
       "      <th>8</th>\n",
       "      <td>XgBoost</td>\n",
       "      <td>0.919355</td>\n",
       "    </tr>\n",
       "    <tr>\n",
       "      <th>1</th>\n",
       "      <td>KNN</td>\n",
       "      <td>0.903226</td>\n",
       "    </tr>\n",
       "    <tr>\n",
       "      <th>2</th>\n",
       "      <td>SVC</td>\n",
       "      <td>0.903226</td>\n",
       "    </tr>\n",
       "    <tr>\n",
       "      <th>6</th>\n",
       "      <td>Gradient Boosting</td>\n",
       "      <td>0.903226</td>\n",
       "    </tr>\n",
       "    <tr>\n",
       "      <th>7</th>\n",
       "      <td>SGB</td>\n",
       "      <td>0.903226</td>\n",
       "    </tr>\n",
       "    <tr>\n",
       "      <th>3</th>\n",
       "      <td>Decision Tree</td>\n",
       "      <td>0.887097</td>\n",
       "    </tr>\n",
       "    <tr>\n",
       "      <th>10</th>\n",
       "      <td>Cat Boost</td>\n",
       "      <td>0.887097</td>\n",
       "    </tr>\n",
       "    <tr>\n",
       "      <th>4</th>\n",
       "      <td>Random Forest</td>\n",
       "      <td>0.870968</td>\n",
       "    </tr>\n",
       "    <tr>\n",
       "      <th>5</th>\n",
       "      <td>Ada Boost</td>\n",
       "      <td>0.870968</td>\n",
       "    </tr>\n",
       "    <tr>\n",
       "      <th>9</th>\n",
       "      <td>Stacking</td>\n",
       "      <td>0.774194</td>\n",
       "    </tr>\n",
       "  </tbody>\n",
       "</table>\n",
       "</div>"
      ],
      "text/plain": [
       "                  Model     Score\n",
       "0   Logistic Regression  0.919355\n",
       "8               XgBoost  0.919355\n",
       "1                   KNN  0.903226\n",
       "2                   SVC  0.903226\n",
       "6     Gradient Boosting  0.903226\n",
       "7                   SGB  0.903226\n",
       "3         Decision Tree  0.887097\n",
       "10            Cat Boost  0.887097\n",
       "4         Random Forest  0.870968\n",
       "5             Ada Boost  0.870968\n",
       "9              Stacking  0.774194"
      ]
     },
     "metadata": {},
     "execution_count": 64
    }
   ],
   "metadata": {
    "execution": {
     "iopub.execute_input": "2021-10-02T11:32:10.273645Z",
     "iopub.status.busy": "2021-10-02T11:32:10.273002Z",
     "iopub.status.idle": "2021-10-02T11:32:10.292150Z",
     "shell.execute_reply": "2021-10-02T11:32:10.292626Z",
     "shell.execute_reply.started": "2021-10-02T11:29:42.409354Z"
    },
    "papermill": {
     "duration": 0.122791,
     "end_time": "2021-10-02T11:32:10.292791",
     "exception": false,
     "start_time": "2021-10-02T11:32:10.170000",
     "status": "completed"
    },
    "tags": []
   }
  },
  {
   "cell_type": "code",
   "execution_count": 65,
   "source": [
    "plt.figure(figsize = (18, 8))\n",
    "\n",
    "sns.barplot(x = 'Model', y = 'Score', data = models)\n",
    "plt.show()"
   ],
   "outputs": [
    {
     "output_type": "display_data",
     "data": {
      "image/png": "[encoded data removed]",
      "text/plain": [
       "<Figure size 1296x576 with 1 Axes>"
      ]
     },
     "metadata": {
      "needs_background": "light"
     }
    }
   ],
   "metadata": {
    "execution": {
     "iopub.execute_input": "2021-10-02T11:32:10.496956Z",
     "iopub.status.busy": "2021-10-02T11:32:10.496256Z",
     "iopub.status.idle": "2021-10-02T11:32:10.722890Z",
     "shell.execute_reply": "2021-10-02T11:32:10.722396Z",
     "shell.execute_reply.started": "2021-10-02T11:29:42.423665Z"
    },
    "papermill": {
     "duration": 0.330856,
     "end_time": "2021-10-02T11:32:10.723072",
     "exception": false,
     "start_time": "2021-10-02T11:32:10.392216",
     "status": "completed"
    },
    "tags": []
   }
  },
  {
   "cell_type": "markdown",
   "source": [
    "### ***Logistic Regression gives us the best result so we will save this model for production.***"
   ],
   "metadata": {
    "papermill": {
     "duration": 0.098307,
     "end_time": "2021-10-02T11:32:10.921409",
     "exception": false,
     "start_time": "2021-10-02T11:32:10.823102",
     "status": "completed"
    },
    "tags": []
   }
  }
 ],
 "metadata": {
  "kernelspec": {
   "display_name": "Python 3",
   "language": "python",
   "name": "python3"
  },
  "language_info": {
   "codemirror_mode": {
    "name": "ipython",
    "version": 3
   },
   "file_extension": ".py",
   "mimetype": "text/x-python",
   "name": "python",
   "nbconvert_exporter": "python",
   "pygments_lexer": "ipython3",
   "version": "3.7.10"
  },
  "papermill": {
   "default_parameters": {},
   "duration": 69.887407,
   "end_time": "2021-10-02T11:32:12.771126",
   "environment_variables": {},
   "exception": null,
   "input_path": "__notebook__.ipynb",
   "output_path": "__notebook__.ipynb",
   "parameters": {},
   "start_time": "2021-10-02T11:31:02.883719",
   "version": "2.3.3"
  }
 },
 "nbformat": 4,
 "nbformat_minor": 5
}